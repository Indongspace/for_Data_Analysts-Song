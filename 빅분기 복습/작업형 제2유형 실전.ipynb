{
 "cells": [
  {
   "cell_type": "code",
   "execution_count": 1,
   "id": "e89fd9b3-58d6-491e-b030-a7291752879d",
   "metadata": {},
   "outputs": [],
   "source": [
    "# 01. 고객 3,500명에 대한 학습용 데이터(x_train.csv, y_train.csv)를 이용하여 성별 예측 모형을 만든 후, 이를 평가용 데이터(x_test.csv)에 적용하여 얻은\n",
    "# 2,482명의 고객 성별 예측값(남자일 확률)을 아래 형식의 csv파일로 제출하시오.(제출할 모델의 성능은 ROC_AUC 평가지표에 따라 채점)\n",
    "import pandas as pd\n",
    "x_train = pd.read_csv(r\"D:\\2025 단축키 빅데이터분석기사_파이썬\\작업형 제2유형\\data\\x_train.csv\", encoding='cp949')\n",
    "x_test = pd.read_csv(r\"D:\\2025 단축키 빅데이터분석기사_파이썬\\작업형 제2유형\\data\\x_test.csv\", encoding='cp949')\n",
    "y_train = pd.read_csv(r\"D:\\2025 단축키 빅데이터분석기사_파이썬\\작업형 제2유형\\data\\y_train.csv\", encoding='cp949')"
   ]
  },
  {
   "cell_type": "code",
   "execution_count": 3,
   "id": "343bd6f3-706a-4609-97ea-f96d15b61c66",
   "metadata": {},
   "outputs": [],
   "source": [
    "# 02. 보험관련 학습용 데이터 Insurance_train_10.csv 데이터를 이용하여 'Segmentation'예측모형을 개발하려고 한다. 자동차 회사는 기존 시장에서 영업팀은\n",
    "# 모든 고객을 4개의 'Segmentation'으로 분류하고 새로운 시장에서 동일한 전략을 사용할 계획이다. (채점은 macro-F1 평가지표)\n",
    "import pandas as pd\n",
    "train10 = pd.read_csv(r\"D:\\2025 단축키 빅데이터분석기사_파이썬\\작업형 제2유형\\data\\Insurance_train_10.csv\")\n",
    "test10 = pd.read_csv(r\"D:\\2025 단축키 빅데이터분석기사_파이썬\\작업형 제2유형\\data\\Insurance_test_10.csv\")"
   ]
  },
  {
   "cell_type": "code",
   "execution_count": 5,
   "id": "d5425b7f-22fa-4e2b-b8de-68cca4e414a5",
   "metadata": {},
   "outputs": [],
   "source": [
    "# 03. 워싱턴 D.C의 Capital Bikeshare 프로그램에서 자전거 대여 수요를 예측하기 위한 프로젝트이다. 타겟변수 count\n",
    "import pandas as pd\n",
    "bike_df = pd.read_csv(r\"D:\\2025 단축키 빅데이터분석기사_파이썬\\작업형 제2유형\\data\\bike_train.csv\")"
   ]
  },
  {
   "cell_type": "code",
   "execution_count": 7,
   "id": "44c7cc36-5059-40fa-ad76-ace21bdc5cbc",
   "metadata": {},
   "outputs": [],
   "source": [
    "# 04. 중고차 가격(price)에 대한 학습용 데이터(x_train, y_train)를 이용하여 중고차 가격 예측 모형을 구축하고 이를 평가용 데이터(x_test)에 적용하여 예측값을\n",
    "# csv 파일로 제출하시오. (제출한 모델의 성능은 RMSE 평가지표에 따라 채점)\n",
    "import pandas as pd\n",
    "x_train = pd.read_csv(r\"D:\\2025 단축키 빅데이터분석기사_파이썬\\작업형 제2유형\\data\\6_x_train.csv\")\n",
    "x_test = pd.read_csv(r\"D:\\2025 단축키 빅데이터분석기사_파이썬\\작업형 제2유형\\data\\6_x_test.csv\")\n",
    "y_train = pd.read_csv(r\"D:\\2025 단축키 빅데이터분석기사_파이썬\\작업형 제2유형\\data\\6_y_train.csv\")"
   ]
  },
  {
   "cell_type": "code",
   "execution_count": null,
   "id": "c5a6a9fc-d648-45d9-bda8-aebfacfbf7d1",
   "metadata": {},
   "outputs": [],
   "source": []
  }
 ],
 "metadata": {
  "kernelspec": {
   "display_name": "Python [conda env:base] *",
   "language": "python",
   "name": "conda-base-py"
  },
  "language_info": {
   "codemirror_mode": {
    "name": "ipython",
    "version": 3
   },
   "file_extension": ".py",
   "mimetype": "text/x-python",
   "name": "python",
   "nbconvert_exporter": "python",
   "pygments_lexer": "ipython3",
   "version": "3.11.5"
  }
 },
 "nbformat": 4,
 "nbformat_minor": 5
}
