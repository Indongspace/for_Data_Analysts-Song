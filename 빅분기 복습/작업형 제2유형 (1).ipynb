{
 "cells": [
  {
   "cell_type": "code",
   "execution_count": 277,
   "id": "dfb47635-be97-4890-9715-11206225de14",
   "metadata": {},
   "outputs": [],
   "source": [
    "import pandas as pd\n",
    "x_train = pd.read_csv(r\"D:\\2025 단축키 빅데이터분석기사_파이썬\\작업형 제2유형\\data\\x_train.csv\", encoding='cp949')\n",
    "x_test = pd.read_csv(r\"D:\\2025 단축키 빅데이터분석기사_파이썬\\작업형 제2유형\\data\\x_test.csv\", encoding='cp949')\n",
    "y_train = pd.read_csv(r\"D:\\2025 단축키 빅데이터분석기사_파이썬\\작업형 제2유형\\data\\y_train.csv\", encoding='cp949')"
   ]
  },
  {
   "cell_type": "code",
   "execution_count": 278,
   "id": "bc41dcd6-5b95-4453-aa69-e3edab12d9f1",
   "metadata": {},
   "outputs": [
    {
     "name": "stdout",
     "output_type": "stream",
     "text": [
      "   cust_id      총구매액     최대구매액       환불금액   주구매상품 주구매지점  내점일수   내점당구매건수  \\\n",
      "0        0  68282840  11264000  6860000.0      기타   강남점    19  3.894737   \n",
      "1        1   2136000   2136000   300000.0     스포츠   잠실점     2  1.500000   \n",
      "2        2   3197000   1639000        NaN  남성 캐주얼   관악점     2  2.000000   \n",
      "\n",
      "     주말방문비율  구매주기  \n",
      "0  0.527027    17  \n",
      "1  0.000000     1  \n",
      "2  0.000000     1  \n"
     ]
    }
   ],
   "source": [
    "print(x_train.head(3))"
   ]
  },
  {
   "cell_type": "code",
   "execution_count": 279,
   "id": "70f0d484-87b0-48cf-b926-e74340b21b27",
   "metadata": {},
   "outputs": [
    {
     "name": "stdout",
     "output_type": "stream",
     "text": [
      "(2482, 10)\n"
     ]
    }
   ],
   "source": [
    "print(x_test.shape)"
   ]
  },
  {
   "cell_type": "code",
   "execution_count": 280,
   "id": "9ec5e04a-3e95-4a1b-b75a-c9377983f072",
   "metadata": {},
   "outputs": [
    {
     "name": "stdout",
     "output_type": "stream",
     "text": [
      "   cust_id  gender\n",
      "0        0       0\n",
      "1        1       0\n",
      "2        2       1\n"
     ]
    }
   ],
   "source": [
    "print(y_train.head(3))"
   ]
  },
  {
   "cell_type": "code",
   "execution_count": 281,
   "id": "bbd17d0c-15eb-44fc-af95-6375aed01386",
   "metadata": {},
   "outputs": [
    {
     "name": "stdout",
     "output_type": "stream",
     "text": [
      "(3500, 2)\n"
     ]
    }
   ],
   "source": [
    "print(y_train.shape)"
   ]
  },
  {
   "cell_type": "code",
   "execution_count": 282,
   "id": "1ed7e0bc-a0b7-43f7-ab61-5bad971eb8b4",
   "metadata": {},
   "outputs": [
    {
     "name": "stdout",
     "output_type": "stream",
     "text": [
      "<class 'pandas.core.frame.DataFrame'>\n",
      "RangeIndex: 3500 entries, 0 to 3499\n",
      "Data columns (total 10 columns):\n",
      " #   Column   Non-Null Count  Dtype  \n",
      "---  ------   --------------  -----  \n",
      " 0   cust_id  3500 non-null   int64  \n",
      " 1   총구매액     3500 non-null   int64  \n",
      " 2   최대구매액    3500 non-null   int64  \n",
      " 3   환불금액     1205 non-null   float64\n",
      " 4   주구매상품    3500 non-null   object \n",
      " 5   주구매지점    3500 non-null   object \n",
      " 6   내점일수     3500 non-null   int64  \n",
      " 7   내점당구매건수  3500 non-null   float64\n",
      " 8   주말방문비율   3500 non-null   float64\n",
      " 9   구매주기     3500 non-null   int64  \n",
      "dtypes: float64(3), int64(5), object(2)\n",
      "memory usage: 273.6+ KB\n",
      "None\n"
     ]
    }
   ],
   "source": [
    "print(x_train.info())"
   ]
  },
  {
   "cell_type": "code",
   "execution_count": 283,
   "id": "edb5cd55-d14d-4cf6-b01c-8dbf928bfc68",
   "metadata": {},
   "outputs": [],
   "source": [
    "x_test_cust_id = x_test['cust_id']\n",
    "x_train = x_train.drop(columns=['cust_id'])\n",
    "x_test = x_test.drop(columns=['cust_id'])\n",
    "y_train = y_train.drop(columns=['cust_id'])"
   ]
  },
  {
   "cell_type": "code",
   "execution_count": 284,
   "id": "59d3d480-37bf-4ad7-a7fe-c94768ffc3ba",
   "metadata": {},
   "outputs": [
    {
     "name": "stdout",
     "output_type": "stream",
     "text": [
      "총구매액          0\n",
      "최대구매액         0\n",
      "환불금액       2295\n",
      "주구매상품         0\n",
      "주구매지점         0\n",
      "내점일수          0\n",
      "내점당구매건수       0\n",
      "주말방문비율        0\n",
      "구매주기          0\n",
      "dtype: int64\n"
     ]
    }
   ],
   "source": [
    "print(x_train.isna().sum())"
   ]
  },
  {
   "cell_type": "code",
   "execution_count": 285,
   "id": "c0050e8f-2edb-4783-a5ce-88be2bbf4039",
   "metadata": {},
   "outputs": [
    {
     "name": "stdout",
     "output_type": "stream",
     "text": [
      "총구매액          0\n",
      "최대구매액         0\n",
      "환불금액       1611\n",
      "주구매상품         0\n",
      "주구매지점         0\n",
      "내점일수          0\n",
      "내점당구매건수       0\n",
      "주말방문비율        0\n",
      "구매주기          0\n",
      "dtype: int64\n"
     ]
    }
   ],
   "source": [
    "print(x_test.isna().sum())"
   ]
  },
  {
   "cell_type": "code",
   "execution_count": 286,
   "id": "e16a527e-9213-46a3-82a9-803463544ae0",
   "metadata": {},
   "outputs": [],
   "source": [
    "x_train['환불금액'] = x_train['환불금액'].fillna(0)\n",
    "x_test['환불금액'] = x_test['환불금액'].fillna(0)"
   ]
  },
  {
   "cell_type": "code",
   "execution_count": 287,
   "id": "a51d230f-5268-480c-b7eb-9d2c704fcefd",
   "metadata": {},
   "outputs": [
    {
     "name": "stdout",
     "output_type": "stream",
     "text": [
      "총구매액       0\n",
      "최대구매액      0\n",
      "환불금액       0\n",
      "주구매상품      0\n",
      "주구매지점      0\n",
      "내점일수       0\n",
      "내점당구매건수    0\n",
      "주말방문비율     0\n",
      "구매주기       0\n",
      "dtype: int64\n",
      "총구매액       0\n",
      "최대구매액      0\n",
      "환불금액       0\n",
      "주구매상품      0\n",
      "주구매지점      0\n",
      "내점일수       0\n",
      "내점당구매건수    0\n",
      "주말방문비율     0\n",
      "구매주기       0\n",
      "dtype: int64\n"
     ]
    }
   ],
   "source": [
    "print(x_train.isna().sum())\n",
    "print(x_test.isna().sum())"
   ]
  },
  {
   "cell_type": "code",
   "execution_count": 288,
   "id": "3e1296da-b477-4e97-9602-1e9d1b587b3d",
   "metadata": {},
   "outputs": [
    {
     "name": "stdout",
     "output_type": "stream",
     "text": [
      "주구매상품\n",
      "기타        595\n",
      "가공식품      546\n",
      "농산물       339\n",
      "화장품       264\n",
      "시티웨어      213\n",
      "디자이너      193\n",
      "수산품       153\n",
      "캐주얼       101\n",
      "명품        100\n",
      "섬유잡화       98\n",
      "골프         82\n",
      "스포츠        69\n",
      "일용잡화       64\n",
      "모피/피혁      57\n",
      "육류         57\n",
      "남성 캐주얼     55\n",
      "구두         54\n",
      "건강식품       47\n",
      "차/커피       44\n",
      "피혁잡화       40\n",
      "아동         40\n",
      "축산가공       35\n",
      "주방용품       32\n",
      "셔츠         30\n",
      "젓갈/반찬      29\n",
      "주방가전       26\n",
      "트래디셔널      23\n",
      "남성정장       22\n",
      "생활잡화       15\n",
      "주류         14\n",
      "가구         10\n",
      "커리어         9\n",
      "대형가전        8\n",
      "란제리/내의      8\n",
      "식기          7\n",
      "액세서리        5\n",
      "침구/수예       4\n",
      "통신/컴퓨터      3\n",
      "보석          3\n",
      "남성 트랜디      2\n",
      "소형가전        2\n",
      "악기          2\n",
      "Name: count, dtype: int64\n"
     ]
    }
   ],
   "source": [
    "print(x_train['주구매상품'].value_counts())"
   ]
  },
  {
   "cell_type": "code",
   "execution_count": 289,
   "id": "176a89ca-b948-48de-ad90-b4559eec23de",
   "metadata": {},
   "outputs": [
    {
     "name": "stdout",
     "output_type": "stream",
     "text": [
      "['기타' '스포츠' '남성 캐주얼' '보석' '디자이너' '시티웨어' '명품' '농산물' '화장품' '골프' '구두' '가공식품'\n",
      " '수산품' '아동' '차/커피' '캐주얼' '섬유잡화' '육류' '축산가공' '젓갈/반찬' '액세서리' '피혁잡화' '일용잡화'\n",
      " '주방가전' '주방용품' '건강식품' '가구' '주류' '모피/피혁' '남성 트랜디' '셔츠' '남성정장' '생활잡화'\n",
      " '트래디셔널' '란제리/내의' '커리어' '침구/수예' '대형가전' '통신/컴퓨터' '식기' '소형가전' '악기']\n"
     ]
    }
   ],
   "source": [
    "print(x_train['주구매상품'].unique())"
   ]
  },
  {
   "cell_type": "code",
   "execution_count": 290,
   "id": "21647a9b-da68-4071-b960-7318448d7a8f",
   "metadata": {},
   "outputs": [
    {
     "name": "stdout",
     "output_type": "stream",
     "text": [
      "42\n"
     ]
    }
   ],
   "source": [
    "print(x_train['주구매상품'].unique().size)"
   ]
  },
  {
   "cell_type": "code",
   "execution_count": 291,
   "id": "3bc1159b-4485-4441-be98-b3149f195216",
   "metadata": {},
   "outputs": [
    {
     "name": "stdout",
     "output_type": "stream",
     "text": [
      "['강남점' '잠실점' '관악점' '광주점' '본  점' '일산점' '대전점' '부산본점' '분당점' '영등포점' '미아점'\n",
      " '청량리점' '안양점' '부평점' '동래점' '포항점' '노원점' '창원점' '센텀시티점' '인천점' '대구점' '전주점'\n",
      " '울산점' '상인점']\n"
     ]
    }
   ],
   "source": [
    "print(x_train['주구매지점'].unique())"
   ]
  },
  {
   "cell_type": "code",
   "execution_count": 292,
   "id": "8a36f682-c996-40ce-bfcb-6979d8f7355d",
   "metadata": {},
   "outputs": [
    {
     "name": "stdout",
     "output_type": "stream",
     "text": [
      "24\n"
     ]
    }
   ],
   "source": [
    "print(x_train['주구매지점'].unique().size)"
   ]
  },
  {
   "cell_type": "code",
   "execution_count": 293,
   "id": "350f4c8b-7c67-4354-8930-97e3055c2991",
   "metadata": {},
   "outputs": [],
   "source": [
    "from sklearn.preprocessing import LabelEncoder\n",
    "encoder = LabelEncoder()\n",
    "x_train['주구매상품'] = encoder.fit_transform(x_train['주구매상품'])\n",
    "x_train['주구매지점'] = encoder.fit_transform(x_train['주구매지점'])"
   ]
  },
  {
   "cell_type": "code",
   "execution_count": 294,
   "id": "fef64677-ce36-4d4f-b9ce-c78b18c753df",
   "metadata": {},
   "outputs": [
    {
     "name": "stdout",
     "output_type": "stream",
     "text": [
      "0     0\n",
      "1    19\n",
      "2     1\n",
      "3     2\n",
      "4     8\n",
      "Name: 주구매지점, dtype: int32\n",
      "0     5\n",
      "1    21\n",
      "2     6\n",
      "3     5\n",
      "4    15\n",
      "Name: 주구매상품, dtype: int32\n"
     ]
    }
   ],
   "source": [
    "print(x_train['주구매지점'].head())\n",
    "print(x_train['주구매상품'].head())"
   ]
  },
  {
   "cell_type": "code",
   "execution_count": 295,
   "id": "ac50358c-7b8e-474f-b0ee-2dcc478be9ad",
   "metadata": {},
   "outputs": [],
   "source": [
    "x_test['주구매상품'] = encoder.fit_transform(x_test['주구매상품'])\n",
    "x_test['주구매지점'] = encoder.fit_transform(x_test['주구매지점'])"
   ]
  },
  {
   "cell_type": "code",
   "execution_count": 296,
   "id": "c0bfe50c-24c2-4b4f-a739-c3cc8d88f023",
   "metadata": {},
   "outputs": [],
   "source": [
    "from sklearn.preprocessing import StandardScaler\n",
    "scaler = StandardScaler()"
   ]
  },
  {
   "cell_type": "code",
   "execution_count": 297,
   "id": "76c29346-e553-4246-9023-eb8c71a862b5",
   "metadata": {},
   "outputs": [],
   "source": [
    "x_train = pd.DataFrame(scaler.fit_transform(x_train), columns=x_train.columns)"
   ]
  },
  {
   "cell_type": "code",
   "execution_count": 298,
   "id": "41c97e9e-f5b2-4850-8fe7-f2e98207d800",
   "metadata": {},
   "outputs": [
    {
     "data": {
      "text/html": [
       "<div>\n",
       "<style scoped>\n",
       "    .dataframe tbody tr th:only-of-type {\n",
       "        vertical-align: middle;\n",
       "    }\n",
       "\n",
       "    .dataframe tbody tr th {\n",
       "        vertical-align: top;\n",
       "    }\n",
       "\n",
       "    .dataframe thead th {\n",
       "        text-align: right;\n",
       "    }\n",
       "</style>\n",
       "<table border=\"1\" class=\"dataframe\">\n",
       "  <thead>\n",
       "    <tr style=\"text-align: right;\">\n",
       "      <th></th>\n",
       "      <th>총구매액</th>\n",
       "      <th>최대구매액</th>\n",
       "      <th>환불금액</th>\n",
       "      <th>주구매상품</th>\n",
       "      <th>주구매지점</th>\n",
       "      <th>내점일수</th>\n",
       "      <th>내점당구매건수</th>\n",
       "      <th>주말방문비율</th>\n",
       "      <th>구매주기</th>\n",
       "    </tr>\n",
       "  </thead>\n",
       "  <tbody>\n",
       "    <tr>\n",
       "      <th>0</th>\n",
       "      <td>-0.14458</td>\n",
       "      <td>-0.262608</td>\n",
       "      <td>-0.047505</td>\n",
       "      <td>-0.738357</td>\n",
       "      <td>-1.904703</td>\n",
       "      <td>-0.009338</td>\n",
       "      <td>0.554247</td>\n",
       "      <td>0.758623</td>\n",
       "      <td>-0.159962</td>\n",
       "    </tr>\n",
       "    <tr>\n",
       "      <th>1</th>\n",
       "      <td>-0.54919</td>\n",
       "      <td>-0.547967</td>\n",
       "      <td>-0.265461</td>\n",
       "      <td>0.490702</td>\n",
       "      <td>1.466677</td>\n",
       "      <td>-0.635003</td>\n",
       "      <td>-0.698168</td>\n",
       "      <td>-1.060530</td>\n",
       "      <td>-0.806554</td>\n",
       "    </tr>\n",
       "    <tr>\n",
       "      <th>2</th>\n",
       "      <td>-0.54270</td>\n",
       "      <td>-0.563504</td>\n",
       "      <td>-0.275429</td>\n",
       "      <td>-0.661541</td>\n",
       "      <td>-1.727262</td>\n",
       "      <td>-0.635003</td>\n",
       "      <td>-0.436675</td>\n",
       "      <td>-1.060530</td>\n",
       "      <td>-0.806554</td>\n",
       "    </tr>\n",
       "  </tbody>\n",
       "</table>\n",
       "</div>"
      ],
      "text/plain": [
       "      총구매액     최대구매액      환불금액     주구매상품     주구매지점      내점일수   내점당구매건수  \\\n",
       "0 -0.14458 -0.262608 -0.047505 -0.738357 -1.904703 -0.009338  0.554247   \n",
       "1 -0.54919 -0.547967 -0.265461  0.490702  1.466677 -0.635003 -0.698168   \n",
       "2 -0.54270 -0.563504 -0.275429 -0.661541 -1.727262 -0.635003 -0.436675   \n",
       "\n",
       "     주말방문비율      구매주기  \n",
       "0  0.758623 -0.159962  \n",
       "1 -1.060530 -0.806554  \n",
       "2 -1.060530 -0.806554  "
      ]
     },
     "execution_count": 298,
     "metadata": {},
     "output_type": "execute_result"
    }
   ],
   "source": [
    "x_train.head(3)"
   ]
  },
  {
   "cell_type": "code",
   "execution_count": 299,
   "id": "6316a278-3012-4daf-a720-e5f858df5bd4",
   "metadata": {},
   "outputs": [
    {
     "data": {
      "text/html": [
       "<div>\n",
       "<style scoped>\n",
       "    .dataframe tbody tr th:only-of-type {\n",
       "        vertical-align: middle;\n",
       "    }\n",
       "\n",
       "    .dataframe tbody tr th {\n",
       "        vertical-align: top;\n",
       "    }\n",
       "\n",
       "    .dataframe thead th {\n",
       "        text-align: right;\n",
       "    }\n",
       "</style>\n",
       "<table border=\"1\" class=\"dataframe\">\n",
       "  <thead>\n",
       "    <tr style=\"text-align: right;\">\n",
       "      <th></th>\n",
       "      <th>총구매액</th>\n",
       "      <th>최대구매액</th>\n",
       "      <th>환불금액</th>\n",
       "      <th>주구매상품</th>\n",
       "      <th>주구매지점</th>\n",
       "      <th>내점일수</th>\n",
       "      <th>내점당구매건수</th>\n",
       "      <th>주말방문비율</th>\n",
       "      <th>구매주기</th>\n",
       "    </tr>\n",
       "  </thead>\n",
       "  <tbody>\n",
       "    <tr>\n",
       "      <th>count</th>\n",
       "      <td>3.500000e+03</td>\n",
       "      <td>3.500000e+03</td>\n",
       "      <td>3.500000e+03</td>\n",
       "      <td>3.500000e+03</td>\n",
       "      <td>3.500000e+03</td>\n",
       "      <td>3.500000e+03</td>\n",
       "      <td>3.500000e+03</td>\n",
       "      <td>3.500000e+03</td>\n",
       "      <td>3.500000e+03</td>\n",
       "    </tr>\n",
       "    <tr>\n",
       "      <th>mean</th>\n",
       "      <td>-3.349701e-17</td>\n",
       "      <td>-4.263256e-17</td>\n",
       "      <td>3.248195e-17</td>\n",
       "      <td>-6.090366e-17</td>\n",
       "      <td>-8.767590e-17</td>\n",
       "      <td>4.669281e-17</td>\n",
       "      <td>4.263256e-17</td>\n",
       "      <td>1.685001e-16</td>\n",
       "      <td>-4.263256e-17</td>\n",
       "    </tr>\n",
       "    <tr>\n",
       "      <th>std</th>\n",
       "      <td>1.000143e+00</td>\n",
       "      <td>1.000143e+00</td>\n",
       "      <td>1.000143e+00</td>\n",
       "      <td>1.000143e+00</td>\n",
       "      <td>1.000143e+00</td>\n",
       "      <td>1.000143e+00</td>\n",
       "      <td>1.000143e+00</td>\n",
       "      <td>1.000143e+00</td>\n",
       "      <td>1.000143e+00</td>\n",
       "    </tr>\n",
       "    <tr>\n",
       "      <th>min</th>\n",
       "      <td>-8.829091e-01</td>\n",
       "      <td>-7.082781e-01</td>\n",
       "      <td>-2.754289e-01</td>\n",
       "      <td>-1.122438e+00</td>\n",
       "      <td>-1.904703e+00</td>\n",
       "      <td>-6.718072e-01</td>\n",
       "      <td>-9.596611e-01</td>\n",
       "      <td>-1.060530e+00</td>\n",
       "      <td>-8.469655e-01</td>\n",
       "    </tr>\n",
       "    <tr>\n",
       "      <th>25%</th>\n",
       "      <td>-5.332182e-01</td>\n",
       "      <td>-5.248643e-01</td>\n",
       "      <td>-2.754289e-01</td>\n",
       "      <td>-7.383573e-01</td>\n",
       "      <td>-4.851745e-01</td>\n",
       "      <td>-6.350034e-01</td>\n",
       "      <td>-6.110034e-01</td>\n",
       "      <td>-9.663293e-01</td>\n",
       "      <td>-6.853177e-01</td>\n",
       "    </tr>\n",
       "    <tr>\n",
       "      <th>50%</th>\n",
       "      <td>-3.896215e-01</td>\n",
       "      <td>-3.072187e-01</td>\n",
       "      <td>-2.754289e-01</td>\n",
       "      <td>-4.310925e-01</td>\n",
       "      <td>-3.077335e-01</td>\n",
       "      <td>-4.141802e-01</td>\n",
       "      <td>-2.623457e-01</td>\n",
       "      <td>-1.754721e-01</td>\n",
       "      <td>-3.216100e-01</td>\n",
       "    </tr>\n",
       "    <tr>\n",
       "      <th>75%</th>\n",
       "      <td>8.923657e-02</td>\n",
       "      <td>1.031100e-01</td>\n",
       "      <td>-1.876399e-01</td>\n",
       "      <td>5.675181e-01</td>\n",
       "      <td>7.569129e-01</td>\n",
       "      <td>2.114855e-01</td>\n",
       "      <td>2.824320e-01</td>\n",
       "      <td>4.892244e-01</td>\n",
       "      <td>2.845695e-01</td>\n",
       "    </tr>\n",
       "    <tr>\n",
       "      <th>max</th>\n",
       "      <td>1.364826e+01</td>\n",
       "      <td>2.147585e+01</td>\n",
       "      <td>1.845531e+01</td>\n",
       "      <td>2.027026e+00</td>\n",
       "      <td>2.176441e+00</td>\n",
       "      <td>9.780490e+00</td>\n",
       "      <td>1.006664e+01</td>\n",
       "      <td>2.391196e+00</td>\n",
       "      <td>5.861421e+00</td>\n",
       "    </tr>\n",
       "  </tbody>\n",
       "</table>\n",
       "</div>"
      ],
      "text/plain": [
       "               총구매액         최대구매액          환불금액         주구매상품         주구매지점  \\\n",
       "count  3.500000e+03  3.500000e+03  3.500000e+03  3.500000e+03  3.500000e+03   \n",
       "mean  -3.349701e-17 -4.263256e-17  3.248195e-17 -6.090366e-17 -8.767590e-17   \n",
       "std    1.000143e+00  1.000143e+00  1.000143e+00  1.000143e+00  1.000143e+00   \n",
       "min   -8.829091e-01 -7.082781e-01 -2.754289e-01 -1.122438e+00 -1.904703e+00   \n",
       "25%   -5.332182e-01 -5.248643e-01 -2.754289e-01 -7.383573e-01 -4.851745e-01   \n",
       "50%   -3.896215e-01 -3.072187e-01 -2.754289e-01 -4.310925e-01 -3.077335e-01   \n",
       "75%    8.923657e-02  1.031100e-01 -1.876399e-01  5.675181e-01  7.569129e-01   \n",
       "max    1.364826e+01  2.147585e+01  1.845531e+01  2.027026e+00  2.176441e+00   \n",
       "\n",
       "               내점일수       내점당구매건수        주말방문비율          구매주기  \n",
       "count  3.500000e+03  3.500000e+03  3.500000e+03  3.500000e+03  \n",
       "mean   4.669281e-17  4.263256e-17  1.685001e-16 -4.263256e-17  \n",
       "std    1.000143e+00  1.000143e+00  1.000143e+00  1.000143e+00  \n",
       "min   -6.718072e-01 -9.596611e-01 -1.060530e+00 -8.469655e-01  \n",
       "25%   -6.350034e-01 -6.110034e-01 -9.663293e-01 -6.853177e-01  \n",
       "50%   -4.141802e-01 -2.623457e-01 -1.754721e-01 -3.216100e-01  \n",
       "75%    2.114855e-01  2.824320e-01  4.892244e-01  2.845695e-01  \n",
       "max    9.780490e+00  1.006664e+01  2.391196e+00  5.861421e+00  "
      ]
     },
     "execution_count": 299,
     "metadata": {},
     "output_type": "execute_result"
    }
   ],
   "source": [
    "x_train.describe()"
   ]
  },
  {
   "cell_type": "code",
   "execution_count": 300,
   "id": "65541326-ba96-4111-81ba-1fae149ddead",
   "metadata": {},
   "outputs": [],
   "source": [
    "x_test = pd.DataFrame(scaler.transform(x_test), columns=x_test.columns)"
   ]
  },
  {
   "cell_type": "code",
   "execution_count": 301,
   "id": "587d6dc1-de9e-4ce5-a983-6fa2dc32c58f",
   "metadata": {},
   "outputs": [
    {
     "data": {
      "text/html": [
       "<style>#sk-container-id-5 {color: black;background-color: white;}#sk-container-id-5 pre{padding: 0;}#sk-container-id-5 div.sk-toggleable {background-color: white;}#sk-container-id-5 label.sk-toggleable__label {cursor: pointer;display: block;width: 100%;margin-bottom: 0;padding: 0.3em;box-sizing: border-box;text-align: center;}#sk-container-id-5 label.sk-toggleable__label-arrow:before {content: \"▸\";float: left;margin-right: 0.25em;color: #696969;}#sk-container-id-5 label.sk-toggleable__label-arrow:hover:before {color: black;}#sk-container-id-5 div.sk-estimator:hover label.sk-toggleable__label-arrow:before {color: black;}#sk-container-id-5 div.sk-toggleable__content {max-height: 0;max-width: 0;overflow: hidden;text-align: left;background-color: #f0f8ff;}#sk-container-id-5 div.sk-toggleable__content pre {margin: 0.2em;color: black;border-radius: 0.25em;background-color: #f0f8ff;}#sk-container-id-5 input.sk-toggleable__control:checked~div.sk-toggleable__content {max-height: 200px;max-width: 100%;overflow: auto;}#sk-container-id-5 input.sk-toggleable__control:checked~label.sk-toggleable__label-arrow:before {content: \"▾\";}#sk-container-id-5 div.sk-estimator input.sk-toggleable__control:checked~label.sk-toggleable__label {background-color: #d4ebff;}#sk-container-id-5 div.sk-label input.sk-toggleable__control:checked~label.sk-toggleable__label {background-color: #d4ebff;}#sk-container-id-5 input.sk-hidden--visually {border: 0;clip: rect(1px 1px 1px 1px);clip: rect(1px, 1px, 1px, 1px);height: 1px;margin: -1px;overflow: hidden;padding: 0;position: absolute;width: 1px;}#sk-container-id-5 div.sk-estimator {font-family: monospace;background-color: #f0f8ff;border: 1px dotted black;border-radius: 0.25em;box-sizing: border-box;margin-bottom: 0.5em;}#sk-container-id-5 div.sk-estimator:hover {background-color: #d4ebff;}#sk-container-id-5 div.sk-parallel-item::after {content: \"\";width: 100%;border-bottom: 1px solid gray;flex-grow: 1;}#sk-container-id-5 div.sk-label:hover label.sk-toggleable__label {background-color: #d4ebff;}#sk-container-id-5 div.sk-serial::before {content: \"\";position: absolute;border-left: 1px solid gray;box-sizing: border-box;top: 0;bottom: 0;left: 50%;z-index: 0;}#sk-container-id-5 div.sk-serial {display: flex;flex-direction: column;align-items: center;background-color: white;padding-right: 0.2em;padding-left: 0.2em;position: relative;}#sk-container-id-5 div.sk-item {position: relative;z-index: 1;}#sk-container-id-5 div.sk-parallel {display: flex;align-items: stretch;justify-content: center;background-color: white;position: relative;}#sk-container-id-5 div.sk-item::before, #sk-container-id-5 div.sk-parallel-item::before {content: \"\";position: absolute;border-left: 1px solid gray;box-sizing: border-box;top: 0;bottom: 0;left: 50%;z-index: -1;}#sk-container-id-5 div.sk-parallel-item {display: flex;flex-direction: column;z-index: 1;position: relative;background-color: white;}#sk-container-id-5 div.sk-parallel-item:first-child::after {align-self: flex-end;width: 50%;}#sk-container-id-5 div.sk-parallel-item:last-child::after {align-self: flex-start;width: 50%;}#sk-container-id-5 div.sk-parallel-item:only-child::after {width: 0;}#sk-container-id-5 div.sk-dashed-wrapped {border: 1px dashed gray;margin: 0 0.4em 0.5em 0.4em;box-sizing: border-box;padding-bottom: 0.4em;background-color: white;}#sk-container-id-5 div.sk-label label {font-family: monospace;font-weight: bold;display: inline-block;line-height: 1.2em;}#sk-container-id-5 div.sk-label-container {text-align: center;}#sk-container-id-5 div.sk-container {/* jupyter's `normalize.less` sets `[hidden] { display: none; }` but bootstrap.min.css set `[hidden] { display: none !important; }` so we also need the `!important` here to be able to override the default hidden behavior on the sphinx rendered scikit-learn.org. See: https://github.com/scikit-learn/scikit-learn/issues/21755 */display: inline-block !important;position: relative;}#sk-container-id-5 div.sk-text-repr-fallback {display: none;}</style><div id=\"sk-container-id-5\" class=\"sk-top-container\"><div class=\"sk-text-repr-fallback\"><pre>RandomForestClassifier()</pre><b>In a Jupyter environment, please rerun this cell to show the HTML representation or trust the notebook. <br />On GitHub, the HTML representation is unable to render, please try loading this page with nbviewer.org.</b></div><div class=\"sk-container\" hidden><div class=\"sk-item\"><div class=\"sk-estimator sk-toggleable\"><input class=\"sk-toggleable__control sk-hidden--visually\" id=\"sk-estimator-id-9\" type=\"checkbox\" checked><label for=\"sk-estimator-id-9\" class=\"sk-toggleable__label sk-toggleable__label-arrow\">RandomForestClassifier</label><div class=\"sk-toggleable__content\"><pre>RandomForestClassifier()</pre></div></div></div></div></div>"
      ],
      "text/plain": [
       "RandomForestClassifier()"
      ]
     },
     "execution_count": 301,
     "metadata": {},
     "output_type": "execute_result"
    }
   ],
   "source": [
    "from sklearn.ensemble import RandomForestClassifier\n",
    "model = RandomForestClassifier()\n",
    "model.fit(x_train, y_train.values.ravel())"
   ]
  },
  {
   "cell_type": "code",
   "execution_count": 302,
   "id": "c370a9af-46cc-4f8b-8459-57e8de8d8619",
   "metadata": {},
   "outputs": [],
   "source": [
    "y_test_predicted = model.predict(x_test)"
   ]
  },
  {
   "cell_type": "code",
   "execution_count": 303,
   "id": "1a69a372-27ab-49fb-8de4-8c12fe713933",
   "metadata": {},
   "outputs": [
    {
     "data": {
      "text/plain": [
       "array([1, 0, 0, ..., 1, 0, 1], dtype=int64)"
      ]
     },
     "execution_count": 303,
     "metadata": {},
     "output_type": "execute_result"
    }
   ],
   "source": [
    "y_test_predicted"
   ]
  },
  {
   "cell_type": "code",
   "execution_count": 304,
   "id": "02162b7e-8c94-4304-bfd8-cb448736884d",
   "metadata": {},
   "outputs": [
    {
     "name": "stdout",
     "output_type": "stream",
     "text": [
      "0.9994285714285714\n"
     ]
    }
   ],
   "source": [
    "from sklearn.metrics import accuracy_score, roc_auc_score\n",
    "y_train_predicted = model.predict(x_train)\n",
    "print(accuracy_score(y_train, y_train_predicted))"
   ]
  },
  {
   "cell_type": "code",
   "execution_count": 305,
   "id": "0821f224-4467-4f0b-8be2-c4eb5d51be02",
   "metadata": {},
   "outputs": [
    {
     "data": {
      "text/plain": [
       "array([[0.49, 0.51],\n",
       "       [0.83, 0.17],\n",
       "       [0.85, 0.15],\n",
       "       ...,\n",
       "       [0.41, 0.59],\n",
       "       [0.5 , 0.5 ],\n",
       "       [0.49, 0.51]])"
      ]
     },
     "execution_count": 305,
     "metadata": {},
     "output_type": "execute_result"
    }
   ],
   "source": [
    "y_test_proba = model.predict_proba(x_test)\n",
    "y_test_proba"
   ]
  },
  {
   "cell_type": "code",
   "execution_count": 306,
   "id": "e5d93328-74c2-474a-9152-846656f7035e",
   "metadata": {},
   "outputs": [
    {
     "name": "stdout",
     "output_type": "stream",
     "text": [
      "      0     1\n",
      "0  0.49  0.51\n",
      "1  0.83  0.17\n",
      "2  0.85  0.15\n",
      "3  0.38  0.62\n",
      "4  0.61  0.39\n"
     ]
    }
   ],
   "source": [
    "print(pd.DataFrame(y_test_proba).head())"
   ]
  },
  {
   "cell_type": "code",
   "execution_count": 307,
   "id": "ff6009d5-1a72-49ce-b32b-dc7de740f2c2",
   "metadata": {},
   "outputs": [],
   "source": [
    "import pandas as pd\n",
    "df1 = pd.DataFrame({'name':['A','B','C','D'],\n",
    "                    'age':[18,30,25,42],\n",
    "                    'city':['Seoul','Incheon','Seoul','Busan']},\n",
    "                    index=[0,1,2,3])\n",
    "df2 = pd.DataFrame({'name':['B','C','D','E'],\n",
    "                    'age':[30,25,42,11],\n",
    "                    'city':['Incheon','Seoul','Busan','Suwon'],\n",
    "                    'height':[150,170,180,135]},\n",
    "                    index=[1,2,3,4])"
   ]
  },
  {
   "cell_type": "code",
   "execution_count": 308,
   "id": "8dbadb48-4fe2-4eac-846e-32c80125af57",
   "metadata": {},
   "outputs": [
    {
     "data": {
      "text/html": [
       "<div>\n",
       "<style scoped>\n",
       "    .dataframe tbody tr th:only-of-type {\n",
       "        vertical-align: middle;\n",
       "    }\n",
       "\n",
       "    .dataframe tbody tr th {\n",
       "        vertical-align: top;\n",
       "    }\n",
       "\n",
       "    .dataframe thead th {\n",
       "        text-align: right;\n",
       "    }\n",
       "</style>\n",
       "<table border=\"1\" class=\"dataframe\">\n",
       "  <thead>\n",
       "    <tr style=\"text-align: right;\">\n",
       "      <th></th>\n",
       "      <th>name</th>\n",
       "      <th>age</th>\n",
       "      <th>city</th>\n",
       "    </tr>\n",
       "  </thead>\n",
       "  <tbody>\n",
       "    <tr>\n",
       "      <th>0</th>\n",
       "      <td>A</td>\n",
       "      <td>18</td>\n",
       "      <td>Seoul</td>\n",
       "    </tr>\n",
       "    <tr>\n",
       "      <th>1</th>\n",
       "      <td>B</td>\n",
       "      <td>30</td>\n",
       "      <td>Incheon</td>\n",
       "    </tr>\n",
       "    <tr>\n",
       "      <th>2</th>\n",
       "      <td>C</td>\n",
       "      <td>25</td>\n",
       "      <td>Seoul</td>\n",
       "    </tr>\n",
       "  </tbody>\n",
       "</table>\n",
       "</div>"
      ],
      "text/plain": [
       "  name  age     city\n",
       "0    A   18    Seoul\n",
       "1    B   30  Incheon\n",
       "2    C   25    Seoul"
      ]
     },
     "execution_count": 308,
     "metadata": {},
     "output_type": "execute_result"
    }
   ],
   "source": [
    "df1.head(3)"
   ]
  },
  {
   "cell_type": "code",
   "execution_count": 309,
   "id": "c4cde8ab-cfe3-4afa-8634-2190ad521770",
   "metadata": {},
   "outputs": [
    {
     "data": {
      "text/html": [
       "<div>\n",
       "<style scoped>\n",
       "    .dataframe tbody tr th:only-of-type {\n",
       "        vertical-align: middle;\n",
       "    }\n",
       "\n",
       "    .dataframe tbody tr th {\n",
       "        vertical-align: top;\n",
       "    }\n",
       "\n",
       "    .dataframe thead th {\n",
       "        text-align: right;\n",
       "    }\n",
       "</style>\n",
       "<table border=\"1\" class=\"dataframe\">\n",
       "  <thead>\n",
       "    <tr style=\"text-align: right;\">\n",
       "      <th></th>\n",
       "      <th>name</th>\n",
       "      <th>age</th>\n",
       "      <th>city</th>\n",
       "      <th>height</th>\n",
       "    </tr>\n",
       "  </thead>\n",
       "  <tbody>\n",
       "    <tr>\n",
       "      <th>1</th>\n",
       "      <td>B</td>\n",
       "      <td>30</td>\n",
       "      <td>Incheon</td>\n",
       "      <td>150</td>\n",
       "    </tr>\n",
       "    <tr>\n",
       "      <th>2</th>\n",
       "      <td>C</td>\n",
       "      <td>25</td>\n",
       "      <td>Seoul</td>\n",
       "      <td>170</td>\n",
       "    </tr>\n",
       "    <tr>\n",
       "      <th>3</th>\n",
       "      <td>D</td>\n",
       "      <td>42</td>\n",
       "      <td>Busan</td>\n",
       "      <td>180</td>\n",
       "    </tr>\n",
       "  </tbody>\n",
       "</table>\n",
       "</div>"
      ],
      "text/plain": [
       "  name  age     city  height\n",
       "1    B   30  Incheon     150\n",
       "2    C   25    Seoul     170\n",
       "3    D   42    Busan     180"
      ]
     },
     "execution_count": 309,
     "metadata": {},
     "output_type": "execute_result"
    }
   ],
   "source": [
    "df2.head(3)"
   ]
  },
  {
   "cell_type": "code",
   "execution_count": 310,
   "id": "b736e798-1ca1-4e57-8f9e-135cbb2e583e",
   "metadata": {},
   "outputs": [
    {
     "data": {
      "text/html": [
       "<div>\n",
       "<style scoped>\n",
       "    .dataframe tbody tr th:only-of-type {\n",
       "        vertical-align: middle;\n",
       "    }\n",
       "\n",
       "    .dataframe tbody tr th {\n",
       "        vertical-align: top;\n",
       "    }\n",
       "\n",
       "    .dataframe thead th {\n",
       "        text-align: right;\n",
       "    }\n",
       "</style>\n",
       "<table border=\"1\" class=\"dataframe\">\n",
       "  <thead>\n",
       "    <tr style=\"text-align: right;\">\n",
       "      <th></th>\n",
       "      <th>name</th>\n",
       "      <th>age</th>\n",
       "      <th>city</th>\n",
       "      <th>height</th>\n",
       "    </tr>\n",
       "  </thead>\n",
       "  <tbody>\n",
       "    <tr>\n",
       "      <th>0</th>\n",
       "      <td>A</td>\n",
       "      <td>18</td>\n",
       "      <td>Seoul</td>\n",
       "      <td>NaN</td>\n",
       "    </tr>\n",
       "    <tr>\n",
       "      <th>1</th>\n",
       "      <td>B</td>\n",
       "      <td>30</td>\n",
       "      <td>Incheon</td>\n",
       "      <td>NaN</td>\n",
       "    </tr>\n",
       "    <tr>\n",
       "      <th>2</th>\n",
       "      <td>C</td>\n",
       "      <td>25</td>\n",
       "      <td>Seoul</td>\n",
       "      <td>NaN</td>\n",
       "    </tr>\n",
       "    <tr>\n",
       "      <th>3</th>\n",
       "      <td>D</td>\n",
       "      <td>42</td>\n",
       "      <td>Busan</td>\n",
       "      <td>NaN</td>\n",
       "    </tr>\n",
       "    <tr>\n",
       "      <th>1</th>\n",
       "      <td>B</td>\n",
       "      <td>30</td>\n",
       "      <td>Incheon</td>\n",
       "      <td>150.0</td>\n",
       "    </tr>\n",
       "    <tr>\n",
       "      <th>2</th>\n",
       "      <td>C</td>\n",
       "      <td>25</td>\n",
       "      <td>Seoul</td>\n",
       "      <td>170.0</td>\n",
       "    </tr>\n",
       "    <tr>\n",
       "      <th>3</th>\n",
       "      <td>D</td>\n",
       "      <td>42</td>\n",
       "      <td>Busan</td>\n",
       "      <td>180.0</td>\n",
       "    </tr>\n",
       "    <tr>\n",
       "      <th>4</th>\n",
       "      <td>E</td>\n",
       "      <td>11</td>\n",
       "      <td>Suwon</td>\n",
       "      <td>135.0</td>\n",
       "    </tr>\n",
       "  </tbody>\n",
       "</table>\n",
       "</div>"
      ],
      "text/plain": [
       "  name  age     city  height\n",
       "0    A   18    Seoul     NaN\n",
       "1    B   30  Incheon     NaN\n",
       "2    C   25    Seoul     NaN\n",
       "3    D   42    Busan     NaN\n",
       "1    B   30  Incheon   150.0\n",
       "2    C   25    Seoul   170.0\n",
       "3    D   42    Busan   180.0\n",
       "4    E   11    Suwon   135.0"
      ]
     },
     "execution_count": 310,
     "metadata": {},
     "output_type": "execute_result"
    }
   ],
   "source": [
    "pd.concat([df1,df2])"
   ]
  },
  {
   "cell_type": "code",
   "execution_count": 311,
   "id": "936ff840-87f7-479b-9876-29764f11bd14",
   "metadata": {},
   "outputs": [
    {
     "data": {
      "text/html": [
       "<div>\n",
       "<style scoped>\n",
       "    .dataframe tbody tr th:only-of-type {\n",
       "        vertical-align: middle;\n",
       "    }\n",
       "\n",
       "    .dataframe tbody tr th {\n",
       "        vertical-align: top;\n",
       "    }\n",
       "\n",
       "    .dataframe thead th {\n",
       "        text-align: right;\n",
       "    }\n",
       "</style>\n",
       "<table border=\"1\" class=\"dataframe\">\n",
       "  <thead>\n",
       "    <tr style=\"text-align: right;\">\n",
       "      <th></th>\n",
       "      <th>name</th>\n",
       "      <th>age</th>\n",
       "      <th>city</th>\n",
       "      <th>height</th>\n",
       "    </tr>\n",
       "  </thead>\n",
       "  <tbody>\n",
       "    <tr>\n",
       "      <th>0</th>\n",
       "      <td>A</td>\n",
       "      <td>18</td>\n",
       "      <td>Seoul</td>\n",
       "      <td>NaN</td>\n",
       "    </tr>\n",
       "    <tr>\n",
       "      <th>1</th>\n",
       "      <td>B</td>\n",
       "      <td>30</td>\n",
       "      <td>Incheon</td>\n",
       "      <td>NaN</td>\n",
       "    </tr>\n",
       "    <tr>\n",
       "      <th>2</th>\n",
       "      <td>C</td>\n",
       "      <td>25</td>\n",
       "      <td>Seoul</td>\n",
       "      <td>NaN</td>\n",
       "    </tr>\n",
       "    <tr>\n",
       "      <th>3</th>\n",
       "      <td>D</td>\n",
       "      <td>42</td>\n",
       "      <td>Busan</td>\n",
       "      <td>NaN</td>\n",
       "    </tr>\n",
       "    <tr>\n",
       "      <th>4</th>\n",
       "      <td>B</td>\n",
       "      <td>30</td>\n",
       "      <td>Incheon</td>\n",
       "      <td>150.0</td>\n",
       "    </tr>\n",
       "    <tr>\n",
       "      <th>5</th>\n",
       "      <td>C</td>\n",
       "      <td>25</td>\n",
       "      <td>Seoul</td>\n",
       "      <td>170.0</td>\n",
       "    </tr>\n",
       "    <tr>\n",
       "      <th>6</th>\n",
       "      <td>D</td>\n",
       "      <td>42</td>\n",
       "      <td>Busan</td>\n",
       "      <td>180.0</td>\n",
       "    </tr>\n",
       "    <tr>\n",
       "      <th>7</th>\n",
       "      <td>E</td>\n",
       "      <td>11</td>\n",
       "      <td>Suwon</td>\n",
       "      <td>135.0</td>\n",
       "    </tr>\n",
       "  </tbody>\n",
       "</table>\n",
       "</div>"
      ],
      "text/plain": [
       "  name  age     city  height\n",
       "0    A   18    Seoul     NaN\n",
       "1    B   30  Incheon     NaN\n",
       "2    C   25    Seoul     NaN\n",
       "3    D   42    Busan     NaN\n",
       "4    B   30  Incheon   150.0\n",
       "5    C   25    Seoul   170.0\n",
       "6    D   42    Busan   180.0\n",
       "7    E   11    Suwon   135.0"
      ]
     },
     "execution_count": 311,
     "metadata": {},
     "output_type": "execute_result"
    }
   ],
   "source": [
    "pd.concat([df1,df2], ignore_index=True)"
   ]
  },
  {
   "cell_type": "code",
   "execution_count": 312,
   "id": "94f96c49-a62f-4f83-a661-2324708dbb50",
   "metadata": {},
   "outputs": [
    {
     "data": {
      "text/html": [
       "<div>\n",
       "<style scoped>\n",
       "    .dataframe tbody tr th:only-of-type {\n",
       "        vertical-align: middle;\n",
       "    }\n",
       "\n",
       "    .dataframe tbody tr th {\n",
       "        vertical-align: top;\n",
       "    }\n",
       "\n",
       "    .dataframe thead th {\n",
       "        text-align: right;\n",
       "    }\n",
       "</style>\n",
       "<table border=\"1\" class=\"dataframe\">\n",
       "  <thead>\n",
       "    <tr style=\"text-align: right;\">\n",
       "      <th></th>\n",
       "      <th>name</th>\n",
       "      <th>age</th>\n",
       "      <th>city</th>\n",
       "      <th>name</th>\n",
       "      <th>age</th>\n",
       "      <th>city</th>\n",
       "      <th>height</th>\n",
       "    </tr>\n",
       "  </thead>\n",
       "  <tbody>\n",
       "    <tr>\n",
       "      <th>0</th>\n",
       "      <td>A</td>\n",
       "      <td>18.0</td>\n",
       "      <td>Seoul</td>\n",
       "      <td>NaN</td>\n",
       "      <td>NaN</td>\n",
       "      <td>NaN</td>\n",
       "      <td>NaN</td>\n",
       "    </tr>\n",
       "    <tr>\n",
       "      <th>1</th>\n",
       "      <td>B</td>\n",
       "      <td>30.0</td>\n",
       "      <td>Incheon</td>\n",
       "      <td>B</td>\n",
       "      <td>30.0</td>\n",
       "      <td>Incheon</td>\n",
       "      <td>150.0</td>\n",
       "    </tr>\n",
       "    <tr>\n",
       "      <th>2</th>\n",
       "      <td>C</td>\n",
       "      <td>25.0</td>\n",
       "      <td>Seoul</td>\n",
       "      <td>C</td>\n",
       "      <td>25.0</td>\n",
       "      <td>Seoul</td>\n",
       "      <td>170.0</td>\n",
       "    </tr>\n",
       "    <tr>\n",
       "      <th>3</th>\n",
       "      <td>D</td>\n",
       "      <td>42.0</td>\n",
       "      <td>Busan</td>\n",
       "      <td>D</td>\n",
       "      <td>42.0</td>\n",
       "      <td>Busan</td>\n",
       "      <td>180.0</td>\n",
       "    </tr>\n",
       "    <tr>\n",
       "      <th>4</th>\n",
       "      <td>NaN</td>\n",
       "      <td>NaN</td>\n",
       "      <td>NaN</td>\n",
       "      <td>E</td>\n",
       "      <td>11.0</td>\n",
       "      <td>Suwon</td>\n",
       "      <td>135.0</td>\n",
       "    </tr>\n",
       "  </tbody>\n",
       "</table>\n",
       "</div>"
      ],
      "text/plain": [
       "  name   age     city name   age     city  height\n",
       "0    A  18.0    Seoul  NaN   NaN      NaN     NaN\n",
       "1    B  30.0  Incheon    B  30.0  Incheon   150.0\n",
       "2    C  25.0    Seoul    C  25.0    Seoul   170.0\n",
       "3    D  42.0    Busan    D  42.0    Busan   180.0\n",
       "4  NaN   NaN      NaN    E  11.0    Suwon   135.0"
      ]
     },
     "execution_count": 312,
     "metadata": {},
     "output_type": "execute_result"
    }
   ],
   "source": [
    "pd.concat([df1,df2], axis=1)"
   ]
  },
  {
   "cell_type": "code",
   "execution_count": 313,
   "id": "a89ab7d9-aa51-43c7-96c6-46d86888c220",
   "metadata": {},
   "outputs": [
    {
     "data": {
      "text/html": [
       "<div>\n",
       "<style scoped>\n",
       "    .dataframe tbody tr th:only-of-type {\n",
       "        vertical-align: middle;\n",
       "    }\n",
       "\n",
       "    .dataframe tbody tr th {\n",
       "        vertical-align: top;\n",
       "    }\n",
       "\n",
       "    .dataframe thead th {\n",
       "        text-align: right;\n",
       "    }\n",
       "</style>\n",
       "<table border=\"1\" class=\"dataframe\">\n",
       "  <thead>\n",
       "    <tr style=\"text-align: right;\">\n",
       "      <th></th>\n",
       "      <th>name</th>\n",
       "      <th>age</th>\n",
       "      <th>city</th>\n",
       "      <th>name</th>\n",
       "      <th>age</th>\n",
       "      <th>city</th>\n",
       "      <th>height</th>\n",
       "    </tr>\n",
       "  </thead>\n",
       "  <tbody>\n",
       "    <tr>\n",
       "      <th>1</th>\n",
       "      <td>B</td>\n",
       "      <td>30</td>\n",
       "      <td>Incheon</td>\n",
       "      <td>B</td>\n",
       "      <td>30</td>\n",
       "      <td>Incheon</td>\n",
       "      <td>150</td>\n",
       "    </tr>\n",
       "    <tr>\n",
       "      <th>2</th>\n",
       "      <td>C</td>\n",
       "      <td>25</td>\n",
       "      <td>Seoul</td>\n",
       "      <td>C</td>\n",
       "      <td>25</td>\n",
       "      <td>Seoul</td>\n",
       "      <td>170</td>\n",
       "    </tr>\n",
       "    <tr>\n",
       "      <th>3</th>\n",
       "      <td>D</td>\n",
       "      <td>42</td>\n",
       "      <td>Busan</td>\n",
       "      <td>D</td>\n",
       "      <td>42</td>\n",
       "      <td>Busan</td>\n",
       "      <td>180</td>\n",
       "    </tr>\n",
       "  </tbody>\n",
       "</table>\n",
       "</div>"
      ],
      "text/plain": [
       "  name  age     city name  age     city  height\n",
       "1    B   30  Incheon    B   30  Incheon     150\n",
       "2    C   25    Seoul    C   25    Seoul     170\n",
       "3    D   42    Busan    D   42    Busan     180"
      ]
     },
     "execution_count": 313,
     "metadata": {},
     "output_type": "execute_result"
    }
   ],
   "source": [
    "pd.concat([df1,df2], axis=1, join='inner')"
   ]
  },
  {
   "cell_type": "code",
   "execution_count": 314,
   "id": "9e817ea1-2059-4a41-bdc0-8006840a911d",
   "metadata": {},
   "outputs": [
    {
     "data": {
      "text/plain": [
       "array([[0.49, 0.51],\n",
       "       [0.83, 0.17],\n",
       "       [0.85, 0.15],\n",
       "       ...,\n",
       "       [0.41, 0.59],\n",
       "       [0.5 , 0.5 ],\n",
       "       [0.49, 0.51]])"
      ]
     },
     "execution_count": 314,
     "metadata": {},
     "output_type": "execute_result"
    }
   ],
   "source": [
    "y_test_proba"
   ]
  },
  {
   "cell_type": "code",
   "execution_count": 315,
   "id": "0456c023-0b7a-4297-869c-f1f969902a0d",
   "metadata": {},
   "outputs": [
    {
     "name": "stdout",
     "output_type": "stream",
     "text": [
      "0       0.510000\n",
      "1       0.170000\n",
      "2       0.150000\n",
      "3       0.620000\n",
      "4       0.390000\n",
      "          ...   \n",
      "2477    0.720000\n",
      "2478    0.563333\n",
      "2479    0.590000\n",
      "2480    0.500000\n",
      "2481    0.510000\n",
      "Name: 1, Length: 2482, dtype: float64\n"
     ]
    }
   ],
   "source": [
    "print(pd.DataFrame(y_test_proba)[1])"
   ]
  },
  {
   "cell_type": "code",
   "execution_count": 316,
   "id": "0b65d569-0c00-40c6-a9cf-610084a981c3",
   "metadata": {},
   "outputs": [
    {
     "data": {
      "text/html": [
       "<div>\n",
       "<style scoped>\n",
       "    .dataframe tbody tr th:only-of-type {\n",
       "        vertical-align: middle;\n",
       "    }\n",
       "\n",
       "    .dataframe tbody tr th {\n",
       "        vertical-align: top;\n",
       "    }\n",
       "\n",
       "    .dataframe thead th {\n",
       "        text-align: right;\n",
       "    }\n",
       "</style>\n",
       "<table border=\"1\" class=\"dataframe\">\n",
       "  <thead>\n",
       "    <tr style=\"text-align: right;\">\n",
       "      <th></th>\n",
       "      <th>cust_id</th>\n",
       "      <th>gender</th>\n",
       "    </tr>\n",
       "  </thead>\n",
       "  <tbody>\n",
       "    <tr>\n",
       "      <th>0</th>\n",
       "      <td>3500</td>\n",
       "      <td>0.510000</td>\n",
       "    </tr>\n",
       "    <tr>\n",
       "      <th>1</th>\n",
       "      <td>3501</td>\n",
       "      <td>0.170000</td>\n",
       "    </tr>\n",
       "    <tr>\n",
       "      <th>2</th>\n",
       "      <td>3502</td>\n",
       "      <td>0.150000</td>\n",
       "    </tr>\n",
       "    <tr>\n",
       "      <th>3</th>\n",
       "      <td>3503</td>\n",
       "      <td>0.620000</td>\n",
       "    </tr>\n",
       "    <tr>\n",
       "      <th>4</th>\n",
       "      <td>3504</td>\n",
       "      <td>0.390000</td>\n",
       "    </tr>\n",
       "    <tr>\n",
       "      <th>...</th>\n",
       "      <td>...</td>\n",
       "      <td>...</td>\n",
       "    </tr>\n",
       "    <tr>\n",
       "      <th>2477</th>\n",
       "      <td>5977</td>\n",
       "      <td>0.720000</td>\n",
       "    </tr>\n",
       "    <tr>\n",
       "      <th>2478</th>\n",
       "      <td>5978</td>\n",
       "      <td>0.563333</td>\n",
       "    </tr>\n",
       "    <tr>\n",
       "      <th>2479</th>\n",
       "      <td>5979</td>\n",
       "      <td>0.590000</td>\n",
       "    </tr>\n",
       "    <tr>\n",
       "      <th>2480</th>\n",
       "      <td>5980</td>\n",
       "      <td>0.500000</td>\n",
       "    </tr>\n",
       "    <tr>\n",
       "      <th>2481</th>\n",
       "      <td>5981</td>\n",
       "      <td>0.510000</td>\n",
       "    </tr>\n",
       "  </tbody>\n",
       "</table>\n",
       "<p>2482 rows × 2 columns</p>\n",
       "</div>"
      ],
      "text/plain": [
       "      cust_id    gender\n",
       "0        3500  0.510000\n",
       "1        3501  0.170000\n",
       "2        3502  0.150000\n",
       "3        3503  0.620000\n",
       "4        3504  0.390000\n",
       "...       ...       ...\n",
       "2477     5977  0.720000\n",
       "2478     5978  0.563333\n",
       "2479     5979  0.590000\n",
       "2480     5980  0.500000\n",
       "2481     5981  0.510000\n",
       "\n",
       "[2482 rows x 2 columns]"
      ]
     },
     "execution_count": 316,
     "metadata": {},
     "output_type": "execute_result"
    }
   ],
   "source": [
    "df = pd.DataFrame(y_test_proba)[1]\n",
    "final_df = pd.concat([x_test_cust_id,df], axis=1).rename(columns={1:'gender'})\n",
    "final_df"
   ]
  },
  {
   "cell_type": "code",
   "execution_count": 317,
   "id": "04ab542a-0652-4365-b666-2c870e5d5015",
   "metadata": {},
   "outputs": [],
   "source": [
    "final_df.to_csv('000001.csv', index=False)"
   ]
  },
  {
   "cell_type": "code",
   "execution_count": 318,
   "id": "bfd25c1f-3460-4b2d-b7fe-079b9948943f",
   "metadata": {},
   "outputs": [
    {
     "name": "stdout",
     "output_type": "stream",
     "text": [
      "      cust_id    gender\n",
      "0        3500  0.510000\n",
      "1        3501  0.170000\n",
      "2        3502  0.150000\n",
      "3        3503  0.620000\n",
      "4        3504  0.390000\n",
      "...       ...       ...\n",
      "2477     5977  0.720000\n",
      "2478     5978  0.563333\n",
      "2479     5979  0.590000\n",
      "2480     5980  0.500000\n",
      "2481     5981  0.510000\n",
      "\n",
      "[2482 rows x 2 columns]\n"
     ]
    }
   ],
   "source": [
    "final_df = pd.read_csv('000001.csv')\n",
    "print(final_df)"
   ]
  },
  {
   "cell_type": "code",
   "execution_count": 319,
   "id": "c6f2714f-2be4-4722-a00e-047275c6fa15",
   "metadata": {},
   "outputs": [
    {
     "data": {
      "text/html": [
       "<div>\n",
       "<style scoped>\n",
       "    .dataframe tbody tr th:only-of-type {\n",
       "        vertical-align: middle;\n",
       "    }\n",
       "\n",
       "    .dataframe tbody tr th {\n",
       "        vertical-align: top;\n",
       "    }\n",
       "\n",
       "    .dataframe thead th {\n",
       "        text-align: right;\n",
       "    }\n",
       "</style>\n",
       "<table border=\"1\" class=\"dataframe\">\n",
       "  <thead>\n",
       "    <tr style=\"text-align: right;\">\n",
       "      <th></th>\n",
       "      <th>cust_id</th>\n",
       "      <th>gender</th>\n",
       "    </tr>\n",
       "  </thead>\n",
       "  <tbody>\n",
       "    <tr>\n",
       "      <th>0</th>\n",
       "      <td>3500</td>\n",
       "      <td>0.510000</td>\n",
       "    </tr>\n",
       "    <tr>\n",
       "      <th>1</th>\n",
       "      <td>3501</td>\n",
       "      <td>0.170000</td>\n",
       "    </tr>\n",
       "    <tr>\n",
       "      <th>2</th>\n",
       "      <td>3502</td>\n",
       "      <td>0.150000</td>\n",
       "    </tr>\n",
       "    <tr>\n",
       "      <th>3</th>\n",
       "      <td>3503</td>\n",
       "      <td>0.620000</td>\n",
       "    </tr>\n",
       "    <tr>\n",
       "      <th>4</th>\n",
       "      <td>3504</td>\n",
       "      <td>0.390000</td>\n",
       "    </tr>\n",
       "    <tr>\n",
       "      <th>...</th>\n",
       "      <td>...</td>\n",
       "      <td>...</td>\n",
       "    </tr>\n",
       "    <tr>\n",
       "      <th>2477</th>\n",
       "      <td>5977</td>\n",
       "      <td>0.720000</td>\n",
       "    </tr>\n",
       "    <tr>\n",
       "      <th>2478</th>\n",
       "      <td>5978</td>\n",
       "      <td>0.563333</td>\n",
       "    </tr>\n",
       "    <tr>\n",
       "      <th>2479</th>\n",
       "      <td>5979</td>\n",
       "      <td>0.590000</td>\n",
       "    </tr>\n",
       "    <tr>\n",
       "      <th>2480</th>\n",
       "      <td>5980</td>\n",
       "      <td>0.500000</td>\n",
       "    </tr>\n",
       "    <tr>\n",
       "      <th>2481</th>\n",
       "      <td>5981</td>\n",
       "      <td>0.510000</td>\n",
       "    </tr>\n",
       "  </tbody>\n",
       "</table>\n",
       "<p>2482 rows × 2 columns</p>\n",
       "</div>"
      ],
      "text/plain": [
       "      cust_id    gender\n",
       "0        3500  0.510000\n",
       "1        3501  0.170000\n",
       "2        3502  0.150000\n",
       "3        3503  0.620000\n",
       "4        3504  0.390000\n",
       "...       ...       ...\n",
       "2477     5977  0.720000\n",
       "2478     5978  0.563333\n",
       "2479     5979  0.590000\n",
       "2480     5980  0.500000\n",
       "2481     5981  0.510000\n",
       "\n",
       "[2482 rows x 2 columns]"
      ]
     },
     "execution_count": 319,
     "metadata": {},
     "output_type": "execute_result"
    }
   ],
   "source": [
    "final_df"
   ]
  },
  {
   "cell_type": "code",
   "execution_count": 320,
   "id": "3e351302-b232-454b-8cf8-5e6646e2a74a",
   "metadata": {},
   "outputs": [],
   "source": [
    "from sklearn.model_selection import GridSearchCV"
   ]
  },
  {
   "cell_type": "code",
   "execution_count": 321,
   "id": "e1637356-e6ae-4b74-a1a4-e5ccb1a847dc",
   "metadata": {},
   "outputs": [],
   "source": [
    "params = {\n",
    "    'max_depth':[3,4,5,6],\n",
    "    'min_samples_leaf':[3,4,5,6],\n",
    "    'min_samples_split':[2,4,6]\n",
    "}"
   ]
  },
  {
   "cell_type": "code",
   "execution_count": 322,
   "id": "742cfe7f-4c23-4515-a315-4350cf5b75c1",
   "metadata": {},
   "outputs": [],
   "source": [
    "rf_clf = RandomForestClassifier(n_estimators=50, random_state=0)"
   ]
  },
  {
   "cell_type": "code",
   "execution_count": 323,
   "id": "9c8a0a3a-8d61-41b0-be18-2056c6fbf5bb",
   "metadata": {},
   "outputs": [],
   "source": [
    "grid_cv = GridSearchCV(rf_clf, param_grid=params, cv=2)"
   ]
  },
  {
   "cell_type": "code",
   "execution_count": 324,
   "id": "fd75644e-72ea-42d9-970c-a41085b83d34",
   "metadata": {},
   "outputs": [
    {
     "data": {
      "text/html": [
       "<style>#sk-container-id-6 {color: black;background-color: white;}#sk-container-id-6 pre{padding: 0;}#sk-container-id-6 div.sk-toggleable {background-color: white;}#sk-container-id-6 label.sk-toggleable__label {cursor: pointer;display: block;width: 100%;margin-bottom: 0;padding: 0.3em;box-sizing: border-box;text-align: center;}#sk-container-id-6 label.sk-toggleable__label-arrow:before {content: \"▸\";float: left;margin-right: 0.25em;color: #696969;}#sk-container-id-6 label.sk-toggleable__label-arrow:hover:before {color: black;}#sk-container-id-6 div.sk-estimator:hover label.sk-toggleable__label-arrow:before {color: black;}#sk-container-id-6 div.sk-toggleable__content {max-height: 0;max-width: 0;overflow: hidden;text-align: left;background-color: #f0f8ff;}#sk-container-id-6 div.sk-toggleable__content pre {margin: 0.2em;color: black;border-radius: 0.25em;background-color: #f0f8ff;}#sk-container-id-6 input.sk-toggleable__control:checked~div.sk-toggleable__content {max-height: 200px;max-width: 100%;overflow: auto;}#sk-container-id-6 input.sk-toggleable__control:checked~label.sk-toggleable__label-arrow:before {content: \"▾\";}#sk-container-id-6 div.sk-estimator input.sk-toggleable__control:checked~label.sk-toggleable__label {background-color: #d4ebff;}#sk-container-id-6 div.sk-label input.sk-toggleable__control:checked~label.sk-toggleable__label {background-color: #d4ebff;}#sk-container-id-6 input.sk-hidden--visually {border: 0;clip: rect(1px 1px 1px 1px);clip: rect(1px, 1px, 1px, 1px);height: 1px;margin: -1px;overflow: hidden;padding: 0;position: absolute;width: 1px;}#sk-container-id-6 div.sk-estimator {font-family: monospace;background-color: #f0f8ff;border: 1px dotted black;border-radius: 0.25em;box-sizing: border-box;margin-bottom: 0.5em;}#sk-container-id-6 div.sk-estimator:hover {background-color: #d4ebff;}#sk-container-id-6 div.sk-parallel-item::after {content: \"\";width: 100%;border-bottom: 1px solid gray;flex-grow: 1;}#sk-container-id-6 div.sk-label:hover label.sk-toggleable__label {background-color: #d4ebff;}#sk-container-id-6 div.sk-serial::before {content: \"\";position: absolute;border-left: 1px solid gray;box-sizing: border-box;top: 0;bottom: 0;left: 50%;z-index: 0;}#sk-container-id-6 div.sk-serial {display: flex;flex-direction: column;align-items: center;background-color: white;padding-right: 0.2em;padding-left: 0.2em;position: relative;}#sk-container-id-6 div.sk-item {position: relative;z-index: 1;}#sk-container-id-6 div.sk-parallel {display: flex;align-items: stretch;justify-content: center;background-color: white;position: relative;}#sk-container-id-6 div.sk-item::before, #sk-container-id-6 div.sk-parallel-item::before {content: \"\";position: absolute;border-left: 1px solid gray;box-sizing: border-box;top: 0;bottom: 0;left: 50%;z-index: -1;}#sk-container-id-6 div.sk-parallel-item {display: flex;flex-direction: column;z-index: 1;position: relative;background-color: white;}#sk-container-id-6 div.sk-parallel-item:first-child::after {align-self: flex-end;width: 50%;}#sk-container-id-6 div.sk-parallel-item:last-child::after {align-self: flex-start;width: 50%;}#sk-container-id-6 div.sk-parallel-item:only-child::after {width: 0;}#sk-container-id-6 div.sk-dashed-wrapped {border: 1px dashed gray;margin: 0 0.4em 0.5em 0.4em;box-sizing: border-box;padding-bottom: 0.4em;background-color: white;}#sk-container-id-6 div.sk-label label {font-family: monospace;font-weight: bold;display: inline-block;line-height: 1.2em;}#sk-container-id-6 div.sk-label-container {text-align: center;}#sk-container-id-6 div.sk-container {/* jupyter's `normalize.less` sets `[hidden] { display: none; }` but bootstrap.min.css set `[hidden] { display: none !important; }` so we also need the `!important` here to be able to override the default hidden behavior on the sphinx rendered scikit-learn.org. See: https://github.com/scikit-learn/scikit-learn/issues/21755 */display: inline-block !important;position: relative;}#sk-container-id-6 div.sk-text-repr-fallback {display: none;}</style><div id=\"sk-container-id-6\" class=\"sk-top-container\"><div class=\"sk-text-repr-fallback\"><pre>GridSearchCV(cv=2,\n",
       "             estimator=RandomForestClassifier(n_estimators=50, random_state=0),\n",
       "             param_grid={&#x27;max_depth&#x27;: [3, 4, 5, 6],\n",
       "                         &#x27;min_samples_leaf&#x27;: [3, 4, 5, 6],\n",
       "                         &#x27;min_samples_split&#x27;: [2, 4, 6]})</pre><b>In a Jupyter environment, please rerun this cell to show the HTML representation or trust the notebook. <br />On GitHub, the HTML representation is unable to render, please try loading this page with nbviewer.org.</b></div><div class=\"sk-container\" hidden><div class=\"sk-item sk-dashed-wrapped\"><div class=\"sk-label-container\"><div class=\"sk-label sk-toggleable\"><input class=\"sk-toggleable__control sk-hidden--visually\" id=\"sk-estimator-id-10\" type=\"checkbox\" ><label for=\"sk-estimator-id-10\" class=\"sk-toggleable__label sk-toggleable__label-arrow\">GridSearchCV</label><div class=\"sk-toggleable__content\"><pre>GridSearchCV(cv=2,\n",
       "             estimator=RandomForestClassifier(n_estimators=50, random_state=0),\n",
       "             param_grid={&#x27;max_depth&#x27;: [3, 4, 5, 6],\n",
       "                         &#x27;min_samples_leaf&#x27;: [3, 4, 5, 6],\n",
       "                         &#x27;min_samples_split&#x27;: [2, 4, 6]})</pre></div></div></div><div class=\"sk-parallel\"><div class=\"sk-parallel-item\"><div class=\"sk-item\"><div class=\"sk-label-container\"><div class=\"sk-label sk-toggleable\"><input class=\"sk-toggleable__control sk-hidden--visually\" id=\"sk-estimator-id-11\" type=\"checkbox\" ><label for=\"sk-estimator-id-11\" class=\"sk-toggleable__label sk-toggleable__label-arrow\">estimator: RandomForestClassifier</label><div class=\"sk-toggleable__content\"><pre>RandomForestClassifier(n_estimators=50, random_state=0)</pre></div></div></div><div class=\"sk-serial\"><div class=\"sk-item\"><div class=\"sk-estimator sk-toggleable\"><input class=\"sk-toggleable__control sk-hidden--visually\" id=\"sk-estimator-id-12\" type=\"checkbox\" ><label for=\"sk-estimator-id-12\" class=\"sk-toggleable__label sk-toggleable__label-arrow\">RandomForestClassifier</label><div class=\"sk-toggleable__content\"><pre>RandomForestClassifier(n_estimators=50, random_state=0)</pre></div></div></div></div></div></div></div></div></div></div>"
      ],
      "text/plain": [
       "GridSearchCV(cv=2,\n",
       "             estimator=RandomForestClassifier(n_estimators=50, random_state=0),\n",
       "             param_grid={'max_depth': [3, 4, 5, 6],\n",
       "                         'min_samples_leaf': [3, 4, 5, 6],\n",
       "                         'min_samples_split': [2, 4, 6]})"
      ]
     },
     "execution_count": 324,
     "metadata": {},
     "output_type": "execute_result"
    }
   ],
   "source": [
    "grid_cv"
   ]
  },
  {
   "cell_type": "code",
   "execution_count": 325,
   "id": "07c4c235-8a93-4918-867a-0718a368bff3",
   "metadata": {},
   "outputs": [
    {
     "data": {
      "text/html": [
       "<style>#sk-container-id-7 {color: black;background-color: white;}#sk-container-id-7 pre{padding: 0;}#sk-container-id-7 div.sk-toggleable {background-color: white;}#sk-container-id-7 label.sk-toggleable__label {cursor: pointer;display: block;width: 100%;margin-bottom: 0;padding: 0.3em;box-sizing: border-box;text-align: center;}#sk-container-id-7 label.sk-toggleable__label-arrow:before {content: \"▸\";float: left;margin-right: 0.25em;color: #696969;}#sk-container-id-7 label.sk-toggleable__label-arrow:hover:before {color: black;}#sk-container-id-7 div.sk-estimator:hover label.sk-toggleable__label-arrow:before {color: black;}#sk-container-id-7 div.sk-toggleable__content {max-height: 0;max-width: 0;overflow: hidden;text-align: left;background-color: #f0f8ff;}#sk-container-id-7 div.sk-toggleable__content pre {margin: 0.2em;color: black;border-radius: 0.25em;background-color: #f0f8ff;}#sk-container-id-7 input.sk-toggleable__control:checked~div.sk-toggleable__content {max-height: 200px;max-width: 100%;overflow: auto;}#sk-container-id-7 input.sk-toggleable__control:checked~label.sk-toggleable__label-arrow:before {content: \"▾\";}#sk-container-id-7 div.sk-estimator input.sk-toggleable__control:checked~label.sk-toggleable__label {background-color: #d4ebff;}#sk-container-id-7 div.sk-label input.sk-toggleable__control:checked~label.sk-toggleable__label {background-color: #d4ebff;}#sk-container-id-7 input.sk-hidden--visually {border: 0;clip: rect(1px 1px 1px 1px);clip: rect(1px, 1px, 1px, 1px);height: 1px;margin: -1px;overflow: hidden;padding: 0;position: absolute;width: 1px;}#sk-container-id-7 div.sk-estimator {font-family: monospace;background-color: #f0f8ff;border: 1px dotted black;border-radius: 0.25em;box-sizing: border-box;margin-bottom: 0.5em;}#sk-container-id-7 div.sk-estimator:hover {background-color: #d4ebff;}#sk-container-id-7 div.sk-parallel-item::after {content: \"\";width: 100%;border-bottom: 1px solid gray;flex-grow: 1;}#sk-container-id-7 div.sk-label:hover label.sk-toggleable__label {background-color: #d4ebff;}#sk-container-id-7 div.sk-serial::before {content: \"\";position: absolute;border-left: 1px solid gray;box-sizing: border-box;top: 0;bottom: 0;left: 50%;z-index: 0;}#sk-container-id-7 div.sk-serial {display: flex;flex-direction: column;align-items: center;background-color: white;padding-right: 0.2em;padding-left: 0.2em;position: relative;}#sk-container-id-7 div.sk-item {position: relative;z-index: 1;}#sk-container-id-7 div.sk-parallel {display: flex;align-items: stretch;justify-content: center;background-color: white;position: relative;}#sk-container-id-7 div.sk-item::before, #sk-container-id-7 div.sk-parallel-item::before {content: \"\";position: absolute;border-left: 1px solid gray;box-sizing: border-box;top: 0;bottom: 0;left: 50%;z-index: -1;}#sk-container-id-7 div.sk-parallel-item {display: flex;flex-direction: column;z-index: 1;position: relative;background-color: white;}#sk-container-id-7 div.sk-parallel-item:first-child::after {align-self: flex-end;width: 50%;}#sk-container-id-7 div.sk-parallel-item:last-child::after {align-self: flex-start;width: 50%;}#sk-container-id-7 div.sk-parallel-item:only-child::after {width: 0;}#sk-container-id-7 div.sk-dashed-wrapped {border: 1px dashed gray;margin: 0 0.4em 0.5em 0.4em;box-sizing: border-box;padding-bottom: 0.4em;background-color: white;}#sk-container-id-7 div.sk-label label {font-family: monospace;font-weight: bold;display: inline-block;line-height: 1.2em;}#sk-container-id-7 div.sk-label-container {text-align: center;}#sk-container-id-7 div.sk-container {/* jupyter's `normalize.less` sets `[hidden] { display: none; }` but bootstrap.min.css set `[hidden] { display: none !important; }` so we also need the `!important` here to be able to override the default hidden behavior on the sphinx rendered scikit-learn.org. See: https://github.com/scikit-learn/scikit-learn/issues/21755 */display: inline-block !important;position: relative;}#sk-container-id-7 div.sk-text-repr-fallback {display: none;}</style><div id=\"sk-container-id-7\" class=\"sk-top-container\"><div class=\"sk-text-repr-fallback\"><pre>GridSearchCV(cv=2,\n",
       "             estimator=RandomForestClassifier(n_estimators=50, random_state=0),\n",
       "             param_grid={&#x27;max_depth&#x27;: [3, 4, 5, 6],\n",
       "                         &#x27;min_samples_leaf&#x27;: [3, 4, 5, 6],\n",
       "                         &#x27;min_samples_split&#x27;: [2, 4, 6]})</pre><b>In a Jupyter environment, please rerun this cell to show the HTML representation or trust the notebook. <br />On GitHub, the HTML representation is unable to render, please try loading this page with nbviewer.org.</b></div><div class=\"sk-container\" hidden><div class=\"sk-item sk-dashed-wrapped\"><div class=\"sk-label-container\"><div class=\"sk-label sk-toggleable\"><input class=\"sk-toggleable__control sk-hidden--visually\" id=\"sk-estimator-id-13\" type=\"checkbox\" ><label for=\"sk-estimator-id-13\" class=\"sk-toggleable__label sk-toggleable__label-arrow\">GridSearchCV</label><div class=\"sk-toggleable__content\"><pre>GridSearchCV(cv=2,\n",
       "             estimator=RandomForestClassifier(n_estimators=50, random_state=0),\n",
       "             param_grid={&#x27;max_depth&#x27;: [3, 4, 5, 6],\n",
       "                         &#x27;min_samples_leaf&#x27;: [3, 4, 5, 6],\n",
       "                         &#x27;min_samples_split&#x27;: [2, 4, 6]})</pre></div></div></div><div class=\"sk-parallel\"><div class=\"sk-parallel-item\"><div class=\"sk-item\"><div class=\"sk-label-container\"><div class=\"sk-label sk-toggleable\"><input class=\"sk-toggleable__control sk-hidden--visually\" id=\"sk-estimator-id-14\" type=\"checkbox\" ><label for=\"sk-estimator-id-14\" class=\"sk-toggleable__label sk-toggleable__label-arrow\">estimator: RandomForestClassifier</label><div class=\"sk-toggleable__content\"><pre>RandomForestClassifier(n_estimators=50, random_state=0)</pre></div></div></div><div class=\"sk-serial\"><div class=\"sk-item\"><div class=\"sk-estimator sk-toggleable\"><input class=\"sk-toggleable__control sk-hidden--visually\" id=\"sk-estimator-id-15\" type=\"checkbox\" ><label for=\"sk-estimator-id-15\" class=\"sk-toggleable__label sk-toggleable__label-arrow\">RandomForestClassifier</label><div class=\"sk-toggleable__content\"><pre>RandomForestClassifier(n_estimators=50, random_state=0)</pre></div></div></div></div></div></div></div></div></div></div>"
      ],
      "text/plain": [
       "GridSearchCV(cv=2,\n",
       "             estimator=RandomForestClassifier(n_estimators=50, random_state=0),\n",
       "             param_grid={'max_depth': [3, 4, 5, 6],\n",
       "                         'min_samples_leaf': [3, 4, 5, 6],\n",
       "                         'min_samples_split': [2, 4, 6]})"
      ]
     },
     "execution_count": 325,
     "metadata": {},
     "output_type": "execute_result"
    }
   ],
   "source": [
    "grid_cv.fit(x_train, y_train.values.ravel())"
   ]
  },
  {
   "cell_type": "code",
   "execution_count": 326,
   "id": "5a888134-9a15-4e4b-88ce-9a6bb484e8d5",
   "metadata": {},
   "outputs": [
    {
     "name": "stdout",
     "output_type": "stream",
     "text": [
      "{'max_depth': 5, 'min_samples_leaf': 4, 'min_samples_split': 2}\n"
     ]
    }
   ],
   "source": [
    "print(grid_cv.best_params_)"
   ]
  },
  {
   "cell_type": "code",
   "execution_count": 327,
   "id": "10a2e086-16fb-43b9-8c22-fa24f06b700e",
   "metadata": {},
   "outputs": [],
   "source": [
    "model = RandomForestClassifier(max_depth=5, min_samples_leaf=4, min_samples_split=2)"
   ]
  },
  {
   "cell_type": "code",
   "execution_count": 328,
   "id": "cf365e8a-72ed-4e14-9711-7c76bdd4295e",
   "metadata": {},
   "outputs": [
    {
     "data": {
      "text/plain": [
       "array([0, 0, 0, ..., 0, 0, 1], dtype=int64)"
      ]
     },
     "execution_count": 328,
     "metadata": {},
     "output_type": "execute_result"
    }
   ],
   "source": [
    "model.fit(x_train, y_train.values.ravel())\n",
    "y_predict = model.predict(x_test)\n",
    "y_predict"
   ]
  },
  {
   "cell_type": "code",
   "execution_count": 329,
   "id": "9d4169ff-fc38-433e-a7ea-84bf671cd0e2",
   "metadata": {},
   "outputs": [
    {
     "data": {
      "text/plain": [
       "array([[0.5683458 , 0.4316542 ],\n",
       "       [0.81291669, 0.18708331],\n",
       "       [0.79693495, 0.20306505],\n",
       "       ...,\n",
       "       [0.576333  , 0.423667  ],\n",
       "       [0.64462428, 0.35537572],\n",
       "       [0.45110709, 0.54889291]])"
      ]
     },
     "execution_count": 329,
     "metadata": {},
     "output_type": "execute_result"
    }
   ],
   "source": [
    "y_predict_prob = model.predict_proba(x_test)\n",
    "y_predict_prob"
   ]
  },
  {
   "cell_type": "code",
   "execution_count": 330,
   "id": "b9b1fec5-e5e5-49f2-8561-6523e832c60c",
   "metadata": {},
   "outputs": [],
   "source": [
    "from sklearn.neighbors import KNeighborsClassifier\n",
    "knn = KNeighborsClassifier(n_neighbors=5, metric='euclidean')"
   ]
  },
  {
   "cell_type": "code",
   "execution_count": 331,
   "id": "5537e7fe-f688-4845-b4f2-e63c9b11d968",
   "metadata": {},
   "outputs": [
    {
     "data": {
      "text/html": [
       "<style>#sk-container-id-8 {color: black;background-color: white;}#sk-container-id-8 pre{padding: 0;}#sk-container-id-8 div.sk-toggleable {background-color: white;}#sk-container-id-8 label.sk-toggleable__label {cursor: pointer;display: block;width: 100%;margin-bottom: 0;padding: 0.3em;box-sizing: border-box;text-align: center;}#sk-container-id-8 label.sk-toggleable__label-arrow:before {content: \"▸\";float: left;margin-right: 0.25em;color: #696969;}#sk-container-id-8 label.sk-toggleable__label-arrow:hover:before {color: black;}#sk-container-id-8 div.sk-estimator:hover label.sk-toggleable__label-arrow:before {color: black;}#sk-container-id-8 div.sk-toggleable__content {max-height: 0;max-width: 0;overflow: hidden;text-align: left;background-color: #f0f8ff;}#sk-container-id-8 div.sk-toggleable__content pre {margin: 0.2em;color: black;border-radius: 0.25em;background-color: #f0f8ff;}#sk-container-id-8 input.sk-toggleable__control:checked~div.sk-toggleable__content {max-height: 200px;max-width: 100%;overflow: auto;}#sk-container-id-8 input.sk-toggleable__control:checked~label.sk-toggleable__label-arrow:before {content: \"▾\";}#sk-container-id-8 div.sk-estimator input.sk-toggleable__control:checked~label.sk-toggleable__label {background-color: #d4ebff;}#sk-container-id-8 div.sk-label input.sk-toggleable__control:checked~label.sk-toggleable__label {background-color: #d4ebff;}#sk-container-id-8 input.sk-hidden--visually {border: 0;clip: rect(1px 1px 1px 1px);clip: rect(1px, 1px, 1px, 1px);height: 1px;margin: -1px;overflow: hidden;padding: 0;position: absolute;width: 1px;}#sk-container-id-8 div.sk-estimator {font-family: monospace;background-color: #f0f8ff;border: 1px dotted black;border-radius: 0.25em;box-sizing: border-box;margin-bottom: 0.5em;}#sk-container-id-8 div.sk-estimator:hover {background-color: #d4ebff;}#sk-container-id-8 div.sk-parallel-item::after {content: \"\";width: 100%;border-bottom: 1px solid gray;flex-grow: 1;}#sk-container-id-8 div.sk-label:hover label.sk-toggleable__label {background-color: #d4ebff;}#sk-container-id-8 div.sk-serial::before {content: \"\";position: absolute;border-left: 1px solid gray;box-sizing: border-box;top: 0;bottom: 0;left: 50%;z-index: 0;}#sk-container-id-8 div.sk-serial {display: flex;flex-direction: column;align-items: center;background-color: white;padding-right: 0.2em;padding-left: 0.2em;position: relative;}#sk-container-id-8 div.sk-item {position: relative;z-index: 1;}#sk-container-id-8 div.sk-parallel {display: flex;align-items: stretch;justify-content: center;background-color: white;position: relative;}#sk-container-id-8 div.sk-item::before, #sk-container-id-8 div.sk-parallel-item::before {content: \"\";position: absolute;border-left: 1px solid gray;box-sizing: border-box;top: 0;bottom: 0;left: 50%;z-index: -1;}#sk-container-id-8 div.sk-parallel-item {display: flex;flex-direction: column;z-index: 1;position: relative;background-color: white;}#sk-container-id-8 div.sk-parallel-item:first-child::after {align-self: flex-end;width: 50%;}#sk-container-id-8 div.sk-parallel-item:last-child::after {align-self: flex-start;width: 50%;}#sk-container-id-8 div.sk-parallel-item:only-child::after {width: 0;}#sk-container-id-8 div.sk-dashed-wrapped {border: 1px dashed gray;margin: 0 0.4em 0.5em 0.4em;box-sizing: border-box;padding-bottom: 0.4em;background-color: white;}#sk-container-id-8 div.sk-label label {font-family: monospace;font-weight: bold;display: inline-block;line-height: 1.2em;}#sk-container-id-8 div.sk-label-container {text-align: center;}#sk-container-id-8 div.sk-container {/* jupyter's `normalize.less` sets `[hidden] { display: none; }` but bootstrap.min.css set `[hidden] { display: none !important; }` so we also need the `!important` here to be able to override the default hidden behavior on the sphinx rendered scikit-learn.org. See: https://github.com/scikit-learn/scikit-learn/issues/21755 */display: inline-block !important;position: relative;}#sk-container-id-8 div.sk-text-repr-fallback {display: none;}</style><div id=\"sk-container-id-8\" class=\"sk-top-container\"><div class=\"sk-text-repr-fallback\"><pre>KNeighborsClassifier(metric=&#x27;euclidean&#x27;)</pre><b>In a Jupyter environment, please rerun this cell to show the HTML representation or trust the notebook. <br />On GitHub, the HTML representation is unable to render, please try loading this page with nbviewer.org.</b></div><div class=\"sk-container\" hidden><div class=\"sk-item\"><div class=\"sk-estimator sk-toggleable\"><input class=\"sk-toggleable__control sk-hidden--visually\" id=\"sk-estimator-id-16\" type=\"checkbox\" checked><label for=\"sk-estimator-id-16\" class=\"sk-toggleable__label sk-toggleable__label-arrow\">KNeighborsClassifier</label><div class=\"sk-toggleable__content\"><pre>KNeighborsClassifier(metric=&#x27;euclidean&#x27;)</pre></div></div></div></div></div>"
      ],
      "text/plain": [
       "KNeighborsClassifier(metric='euclidean')"
      ]
     },
     "execution_count": 331,
     "metadata": {},
     "output_type": "execute_result"
    }
   ],
   "source": [
    "knn.fit(x_train, y_train.values.ravel())"
   ]
  },
  {
   "cell_type": "code",
   "execution_count": 332,
   "id": "66f0f0ad-6537-4923-8d2f-d3340aa69806",
   "metadata": {},
   "outputs": [
    {
     "data": {
      "text/plain": [
       "array([[0. , 1. ],\n",
       "       [1. , 0. ],\n",
       "       [0.8, 0.2],\n",
       "       ...,\n",
       "       [0.2, 0.8],\n",
       "       [0.6, 0.4],\n",
       "       [0.6, 0.4]])"
      ]
     },
     "execution_count": 332,
     "metadata": {},
     "output_type": "execute_result"
    }
   ],
   "source": [
    "y_test_predicted = knn.predict_proba(x_test)\n",
    "y_test_predicted"
   ]
  },
  {
   "cell_type": "code",
   "execution_count": 333,
   "id": "4a368b48-e204-4bd0-ae7a-c0d70091dd52",
   "metadata": {},
   "outputs": [
    {
     "data": {
      "text/html": [
       "<div>\n",
       "<style scoped>\n",
       "    .dataframe tbody tr th:only-of-type {\n",
       "        vertical-align: middle;\n",
       "    }\n",
       "\n",
       "    .dataframe tbody tr th {\n",
       "        vertical-align: top;\n",
       "    }\n",
       "\n",
       "    .dataframe thead th {\n",
       "        text-align: right;\n",
       "    }\n",
       "</style>\n",
       "<table border=\"1\" class=\"dataframe\">\n",
       "  <thead>\n",
       "    <tr style=\"text-align: right;\">\n",
       "      <th></th>\n",
       "      <th>cust_id</th>\n",
       "      <th>gender</th>\n",
       "    </tr>\n",
       "  </thead>\n",
       "  <tbody>\n",
       "    <tr>\n",
       "      <th>0</th>\n",
       "      <td>3500</td>\n",
       "      <td>1.0</td>\n",
       "    </tr>\n",
       "    <tr>\n",
       "      <th>1</th>\n",
       "      <td>3501</td>\n",
       "      <td>0.0</td>\n",
       "    </tr>\n",
       "    <tr>\n",
       "      <th>2</th>\n",
       "      <td>3502</td>\n",
       "      <td>0.2</td>\n",
       "    </tr>\n",
       "    <tr>\n",
       "      <th>3</th>\n",
       "      <td>3503</td>\n",
       "      <td>0.6</td>\n",
       "    </tr>\n",
       "    <tr>\n",
       "      <th>4</th>\n",
       "      <td>3504</td>\n",
       "      <td>0.6</td>\n",
       "    </tr>\n",
       "  </tbody>\n",
       "</table>\n",
       "</div>"
      ],
      "text/plain": [
       "   cust_id  gender\n",
       "0     3500     1.0\n",
       "1     3501     0.0\n",
       "2     3502     0.2\n",
       "3     3503     0.6\n",
       "4     3504     0.6"
      ]
     },
     "execution_count": 333,
     "metadata": {},
     "output_type": "execute_result"
    }
   ],
   "source": [
    "df = pd.DataFrame(y_test_predicted)[1]\n",
    "final_df = pd.concat([x_test_cust_id, df], axis=1).rename(columns={1:'gender'})\n",
    "final_df.head()"
   ]
  },
  {
   "cell_type": "code",
   "execution_count": 426,
   "id": "f1fcc441-930a-4dba-8559-e472726de9a1",
   "metadata": {},
   "outputs": [],
   "source": [
    "import pandas as pd\n",
    "train10 = pd.read_csv(r\"D:\\2025 단축키 빅데이터분석기사_파이썬\\작업형 제2유형\\data\\Insurance_train_10.csv\")\n",
    "test10 = pd.read_csv(r\"D:\\2025 단축키 빅데이터분석기사_파이썬\\작업형 제2유형\\data\\Insurance_test_10.csv\")"
   ]
  },
  {
   "cell_type": "code",
   "execution_count": 427,
   "id": "b651f602-56d1-425c-a6f8-a50323f1dd0b",
   "metadata": {},
   "outputs": [
    {
     "name": "stdout",
     "output_type": "stream",
     "text": [
      "   Gender Ever_Married  Age Graduated  Profession  Work_Experience  \\\n",
      "0    Male           No   22        No  Healthcare                1   \n",
      "1  Female          Yes   67       Yes    Engineer                1   \n",
      "2    Male          Yes   67       Yes      Lawyer                0   \n",
      "3    Male          Yes   56        No      Artist                0   \n",
      "4    Male           No   32       Yes  Healthcare                1   \n",
      "\n",
      "  Spending_Score  Family_Size  Segmentation  \n",
      "0            Low            4             4  \n",
      "1            Low            1             2  \n",
      "2           High            2             2  \n",
      "3        Average            2             3  \n",
      "4            Low            3             3  \n"
     ]
    }
   ],
   "source": [
    "print(train10.head())"
   ]
  },
  {
   "cell_type": "code",
   "execution_count": 428,
   "id": "d66b27f8-6a77-4a9f-9d23-bf5740a58341",
   "metadata": {},
   "outputs": [
    {
     "name": "stdout",
     "output_type": "stream",
     "text": [
      "(6969, 9)\n",
      "(2267, 8)\n"
     ]
    }
   ],
   "source": [
    "print(train10.shape)\n",
    "print(test10.shape)"
   ]
  },
  {
   "cell_type": "code",
   "execution_count": 429,
   "id": "3a285dc0-8a23-4452-ae39-5b2e841b6e04",
   "metadata": {},
   "outputs": [
    {
     "name": "stdout",
     "output_type": "stream",
     "text": [
      "<class 'pandas.core.frame.DataFrame'>\n",
      "RangeIndex: 6969 entries, 0 to 6968\n",
      "Data columns (total 9 columns):\n",
      " #   Column           Non-Null Count  Dtype \n",
      "---  ------           --------------  ----- \n",
      " 0   Gender           6969 non-null   object\n",
      " 1   Ever_Married     6862 non-null   object\n",
      " 2   Age              6969 non-null   int64 \n",
      " 3   Graduated        6909 non-null   object\n",
      " 4   Profession       6877 non-null   object\n",
      " 5   Work_Experience  6969 non-null   int64 \n",
      " 6   Spending_Score   6969 non-null   object\n",
      " 7   Family_Size      6969 non-null   int64 \n",
      " 8   Segmentation     6969 non-null   int64 \n",
      "dtypes: int64(4), object(5)\n",
      "memory usage: 490.1+ KB\n",
      "None\n"
     ]
    }
   ],
   "source": [
    "print(train10.info())"
   ]
  },
  {
   "cell_type": "code",
   "execution_count": 430,
   "id": "127485b2-f57a-4d0a-b298-64df80d1cb9c",
   "metadata": {},
   "outputs": [
    {
     "name": "stdout",
     "output_type": "stream",
     "text": [
      "Gender               0\n",
      "Ever_Married       107\n",
      "Age                  0\n",
      "Graduated           60\n",
      "Profession          92\n",
      "Work_Experience      0\n",
      "Spending_Score       0\n",
      "Family_Size          0\n",
      "Segmentation         0\n",
      "dtype: int64\n"
     ]
    }
   ],
   "source": [
    "print(train10.isna().sum())"
   ]
  },
  {
   "cell_type": "code",
   "execution_count": 431,
   "id": "3dbb677a-eb3d-45a4-a609-686b253d3921",
   "metadata": {},
   "outputs": [],
   "source": [
    "train10 = train10.dropna()"
   ]
  },
  {
   "cell_type": "code",
   "execution_count": 432,
   "id": "211d88d7-61f7-453e-8d06-b3c5413dfe73",
   "metadata": {},
   "outputs": [
    {
     "name": "stdout",
     "output_type": "stream",
     "text": [
      "Gender              0\n",
      "Ever_Married       42\n",
      "Age                 0\n",
      "Graduated          19\n",
      "Profession         30\n",
      "Work_Experience     0\n",
      "Spending_Score      0\n",
      "Family_Size         0\n",
      "dtype: int64\n"
     ]
    }
   ],
   "source": [
    "print(test10.isna().sum())"
   ]
  },
  {
   "cell_type": "code",
   "execution_count": 433,
   "id": "48eb87f3-d019-4831-8131-d3282d1efbdf",
   "metadata": {},
   "outputs": [],
   "source": [
    "test10 = test10.dropna()"
   ]
  },
  {
   "cell_type": "code",
   "execution_count": 434,
   "id": "ffcacf73-84eb-445a-b36f-47dd9993402c",
   "metadata": {},
   "outputs": [],
   "source": [
    "y_train = train10[[\"Segmentation\"]]\n",
    "x_train = train10.drop(['Segmentation'], axis=1)"
   ]
  },
  {
   "cell_type": "code",
   "execution_count": 435,
   "id": "29ff23f5-7810-484e-a287-eebfc43d948c",
   "metadata": {},
   "outputs": [
    {
     "name": "stdout",
     "output_type": "stream",
     "text": [
      "<class 'pandas.core.frame.DataFrame'>\n",
      "Index: 6718 entries, 0 to 6968\n",
      "Data columns (total 8 columns):\n",
      " #   Column           Non-Null Count  Dtype \n",
      "---  ------           --------------  ----- \n",
      " 0   Gender           6718 non-null   object\n",
      " 1   Ever_Married     6718 non-null   object\n",
      " 2   Age              6718 non-null   int64 \n",
      " 3   Graduated        6718 non-null   object\n",
      " 4   Profession       6718 non-null   object\n",
      " 5   Work_Experience  6718 non-null   int64 \n",
      " 6   Spending_Score   6718 non-null   object\n",
      " 7   Family_Size      6718 non-null   int64 \n",
      "dtypes: int64(3), object(5)\n",
      "memory usage: 472.4+ KB\n",
      "None\n"
     ]
    }
   ],
   "source": [
    "print(x_train.info())"
   ]
  },
  {
   "cell_type": "code",
   "execution_count": 436,
   "id": "f1bcca54-8d9a-48f5-accc-4c237733efc9",
   "metadata": {},
   "outputs": [
    {
     "name": "stdout",
     "output_type": "stream",
     "text": [
      "['Male' 'Female']\n",
      "2\n"
     ]
    }
   ],
   "source": [
    "print(x_train['Gender'].unique())\n",
    "print(x_train['Gender'].unique().size)"
   ]
  },
  {
   "cell_type": "code",
   "execution_count": 437,
   "id": "811258ee-2043-4cde-a501-8a998268e6ef",
   "metadata": {},
   "outputs": [],
   "source": [
    "x_train['Gender'] = x_train['Gender'].replace(['Male','Female'], [0,1])"
   ]
  },
  {
   "cell_type": "code",
   "execution_count": 438,
   "id": "37b05bba-fd77-4f10-8a06-2af59a4cb894",
   "metadata": {},
   "outputs": [
    {
     "name": "stdout",
     "output_type": "stream",
     "text": [
      "['No' 'Yes']\n",
      "2\n"
     ]
    }
   ],
   "source": [
    "print(x_train['Ever_Married'].unique())\n",
    "print(x_train['Ever_Married'].unique().size)"
   ]
  },
  {
   "cell_type": "code",
   "execution_count": 439,
   "id": "e9252d7b-9642-443f-8862-0273a5ff33f8",
   "metadata": {},
   "outputs": [],
   "source": [
    "x_train['Ever_Married'] = x_train['Ever_Married'].replace(['No','Yes'], [0,1])"
   ]
  },
  {
   "cell_type": "code",
   "execution_count": 440,
   "id": "f94c2bb5-83f3-49c0-baca-c7b4183f449c",
   "metadata": {},
   "outputs": [
    {
     "data": {
      "text/plain": [
       "array(['No', 'Yes'], dtype=object)"
      ]
     },
     "execution_count": 440,
     "metadata": {},
     "output_type": "execute_result"
    }
   ],
   "source": [
    "x_train['Graduated'].unique()"
   ]
  },
  {
   "cell_type": "code",
   "execution_count": 441,
   "id": "c2eeb791-6e20-4848-b145-a0944ef13fb9",
   "metadata": {},
   "outputs": [],
   "source": [
    "x_train['Graduated'] = x_train['Graduated'].replace(['No','Yes'], [0,1])"
   ]
  },
  {
   "cell_type": "code",
   "execution_count": 442,
   "id": "c190d040-0dbf-42d5-921e-74710de6fa1b",
   "metadata": {},
   "outputs": [
    {
     "data": {
      "text/plain": [
       "array(['Healthcare', 'Engineer', 'Lawyer', 'Artist', 'Doctor',\n",
       "       'Homemaker', 'Entertainment', 'Marketing', 'Executive'],\n",
       "      dtype=object)"
      ]
     },
     "execution_count": 442,
     "metadata": {},
     "output_type": "execute_result"
    }
   ],
   "source": [
    "x_train['Profession'].unique()"
   ]
  },
  {
   "cell_type": "code",
   "execution_count": 443,
   "id": "d8aaa6d6-37a6-4155-aa98-6c9d1f26a979",
   "metadata": {},
   "outputs": [],
   "source": [
    "x_train['Profession'] = x_train['Profession'].replace(['Healthcare','Engineer','Lawyer','Artist','Doctor','Homemaker','Entertainment','Marketing',\n",
    "                                                      'Executive'], [0,1,2,3,4,5,6,7,8])"
   ]
  },
  {
   "cell_type": "code",
   "execution_count": 444,
   "id": "fbdc0d1e-b4f2-4d7a-8916-0a46300aa5e3",
   "metadata": {},
   "outputs": [
    {
     "data": {
      "text/plain": [
       "array(['Low', 'High', 'Average'], dtype=object)"
      ]
     },
     "execution_count": 444,
     "metadata": {},
     "output_type": "execute_result"
    }
   ],
   "source": [
    "x_train['Spending_Score'].unique()"
   ]
  },
  {
   "cell_type": "code",
   "execution_count": 445,
   "id": "861050de-a8a0-4aad-b6f8-d9858c7c669b",
   "metadata": {},
   "outputs": [],
   "source": [
    "x_train['Spending_Score'] = x_train['Spending_Score'].replace(['Low','High','Average'], [0,1,2])"
   ]
  },
  {
   "cell_type": "code",
   "execution_count": 446,
   "id": "668c65cf-013b-4669-8c0b-dabca5c9312e",
   "metadata": {},
   "outputs": [],
   "source": [
    "test10['Gender'] = test10['Gender'].replace(['Male','Female'], [0,1])"
   ]
  },
  {
   "cell_type": "code",
   "execution_count": 447,
   "id": "7170c671-b503-4fec-aa0f-91dcbd3237f0",
   "metadata": {},
   "outputs": [],
   "source": [
    "test10['Ever_Married'] = test10['Ever_Married'].replace(['No','Yes'], [0,1])"
   ]
  },
  {
   "cell_type": "code",
   "execution_count": 448,
   "id": "9ebae71a-7a25-4759-9340-83d83ec1a012",
   "metadata": {},
   "outputs": [],
   "source": [
    "test10['Graduated'] = test10['Graduated'].replace(['No','Yes'], [0,1])"
   ]
  },
  {
   "cell_type": "code",
   "execution_count": 449,
   "id": "72f36ed2-0e4e-447c-b3c1-931ddec1d753",
   "metadata": {},
   "outputs": [],
   "source": [
    "test10['Profession'] = test10['Profession'].replace(['Healthcare','Engineer','Lawyer','Artist','Doctor','Homemaker','Entertainment','Marketing',\n",
    "                                                      'Executive'], [0,1,2,3,4,5,6,7,8])"
   ]
  },
  {
   "cell_type": "code",
   "execution_count": 450,
   "id": "2053a5e5-302c-4922-9f8b-890e9d7a6c1c",
   "metadata": {},
   "outputs": [],
   "source": [
    "test10['Spending_Score'] = test10['Spending_Score'].replace(['Low','High','Average'], [0,1,2])"
   ]
  },
  {
   "cell_type": "code",
   "execution_count": 451,
   "id": "971fd19a-eed1-4842-9331-548faf84171f",
   "metadata": {},
   "outputs": [
    {
     "name": "stdout",
     "output_type": "stream",
     "text": [
      "<class 'pandas.core.frame.DataFrame'>\n",
      "Index: 6718 entries, 0 to 6968\n",
      "Data columns (total 8 columns):\n",
      " #   Column           Non-Null Count  Dtype\n",
      "---  ------           --------------  -----\n",
      " 0   Gender           6718 non-null   int64\n",
      " 1   Ever_Married     6718 non-null   int64\n",
      " 2   Age              6718 non-null   int64\n",
      " 3   Graduated        6718 non-null   int64\n",
      " 4   Profession       6718 non-null   int64\n",
      " 5   Work_Experience  6718 non-null   int64\n",
      " 6   Spending_Score   6718 non-null   int64\n",
      " 7   Family_Size      6718 non-null   int64\n",
      "dtypes: int64(8)\n",
      "memory usage: 472.4 KB\n",
      "None\n",
      "<class 'pandas.core.frame.DataFrame'>\n",
      "Index: 2178 entries, 0 to 2266\n",
      "Data columns (total 8 columns):\n",
      " #   Column           Non-Null Count  Dtype\n",
      "---  ------           --------------  -----\n",
      " 0   Gender           2178 non-null   int64\n",
      " 1   Ever_Married     2178 non-null   int64\n",
      " 2   Age              2178 non-null   int64\n",
      " 3   Graduated        2178 non-null   int64\n",
      " 4   Profession       2178 non-null   int64\n",
      " 5   Work_Experience  2178 non-null   int64\n",
      " 6   Spending_Score   2178 non-null   int64\n",
      " 7   Family_Size      2178 non-null   int64\n",
      "dtypes: int64(8)\n",
      "memory usage: 153.1 KB\n",
      "None\n"
     ]
    }
   ],
   "source": [
    "print(x_train.info())\n",
    "print(test10.info())"
   ]
  },
  {
   "cell_type": "code",
   "execution_count": 452,
   "id": "094bc643-1d94-40db-b0b5-a367e4c61d41",
   "metadata": {},
   "outputs": [],
   "source": [
    "from sklearn.preprocessing import StandardScaler\n",
    "scaler = StandardScaler()"
   ]
  },
  {
   "cell_type": "code",
   "execution_count": 453,
   "id": "7c3a2bd9-4e2f-4c2b-848b-17577baa8123",
   "metadata": {},
   "outputs": [],
   "source": [
    "x_train = pd.DataFrame(scaler.fit_transform(x_train), columns=x_train.columns)"
   ]
  },
  {
   "cell_type": "code",
   "execution_count": 454,
   "id": "a4fecf6d-b947-4c85-ad13-b8af78f3a7ab",
   "metadata": {},
   "outputs": [
    {
     "data": {
      "text/html": [
       "<div>\n",
       "<style scoped>\n",
       "    .dataframe tbody tr th:only-of-type {\n",
       "        vertical-align: middle;\n",
       "    }\n",
       "\n",
       "    .dataframe tbody tr th {\n",
       "        vertical-align: top;\n",
       "    }\n",
       "\n",
       "    .dataframe thead th {\n",
       "        text-align: right;\n",
       "    }\n",
       "</style>\n",
       "<table border=\"1\" class=\"dataframe\">\n",
       "  <thead>\n",
       "    <tr style=\"text-align: right;\">\n",
       "      <th></th>\n",
       "      <th>Gender</th>\n",
       "      <th>Ever_Married</th>\n",
       "      <th>Age</th>\n",
       "      <th>Graduated</th>\n",
       "      <th>Profession</th>\n",
       "      <th>Work_Experience</th>\n",
       "      <th>Spending_Score</th>\n",
       "      <th>Family_Size</th>\n",
       "    </tr>\n",
       "  </thead>\n",
       "  <tbody>\n",
       "    <tr>\n",
       "      <th>0</th>\n",
       "      <td>-0.902604</td>\n",
       "      <td>-1.203804</td>\n",
       "      <td>-1.303562</td>\n",
       "      <td>-1.324114</td>\n",
       "      <td>-1.397202</td>\n",
       "      <td>-0.478692</td>\n",
       "      <td>-0.762325</td>\n",
       "      <td>0.760391</td>\n",
       "    </tr>\n",
       "    <tr>\n",
       "      <th>1</th>\n",
       "      <td>1.107905</td>\n",
       "      <td>0.830700</td>\n",
       "      <td>1.421748</td>\n",
       "      <td>0.755222</td>\n",
       "      <td>-0.972170</td>\n",
       "      <td>-0.478692</td>\n",
       "      <td>-0.762325</td>\n",
       "      <td>-1.209140</td>\n",
       "    </tr>\n",
       "    <tr>\n",
       "      <th>2</th>\n",
       "      <td>-0.902604</td>\n",
       "      <td>0.830700</td>\n",
       "      <td>1.421748</td>\n",
       "      <td>0.755222</td>\n",
       "      <td>-0.547138</td>\n",
       "      <td>-0.772431</td>\n",
       "      <td>0.410671</td>\n",
       "      <td>-0.552630</td>\n",
       "    </tr>\n",
       "    <tr>\n",
       "      <th>3</th>\n",
       "      <td>-0.902604</td>\n",
       "      <td>0.830700</td>\n",
       "      <td>0.755561</td>\n",
       "      <td>-1.324114</td>\n",
       "      <td>-0.122106</td>\n",
       "      <td>-0.772431</td>\n",
       "      <td>1.583666</td>\n",
       "      <td>-0.552630</td>\n",
       "    </tr>\n",
       "    <tr>\n",
       "      <th>4</th>\n",
       "      <td>-0.902604</td>\n",
       "      <td>-1.203804</td>\n",
       "      <td>-0.697937</td>\n",
       "      <td>0.755222</td>\n",
       "      <td>-1.397202</td>\n",
       "      <td>-0.478692</td>\n",
       "      <td>-0.762325</td>\n",
       "      <td>0.103881</td>\n",
       "    </tr>\n",
       "  </tbody>\n",
       "</table>\n",
       "</div>"
      ],
      "text/plain": [
       "     Gender  Ever_Married       Age  Graduated  Profession  Work_Experience  \\\n",
       "0 -0.902604     -1.203804 -1.303562  -1.324114   -1.397202        -0.478692   \n",
       "1  1.107905      0.830700  1.421748   0.755222   -0.972170        -0.478692   \n",
       "2 -0.902604      0.830700  1.421748   0.755222   -0.547138        -0.772431   \n",
       "3 -0.902604      0.830700  0.755561  -1.324114   -0.122106        -0.772431   \n",
       "4 -0.902604     -1.203804 -0.697937   0.755222   -1.397202        -0.478692   \n",
       "\n",
       "   Spending_Score  Family_Size  \n",
       "0       -0.762325     0.760391  \n",
       "1       -0.762325    -1.209140  \n",
       "2        0.410671    -0.552630  \n",
       "3        1.583666    -0.552630  \n",
       "4       -0.762325     0.103881  "
      ]
     },
     "execution_count": 454,
     "metadata": {},
     "output_type": "execute_result"
    }
   ],
   "source": [
    "x_train.head()"
   ]
  },
  {
   "cell_type": "code",
   "execution_count": 455,
   "id": "b07960ca-625f-49f4-9c7a-d0c784e57435",
   "metadata": {},
   "outputs": [],
   "source": [
    "test10 = pd.DataFrame(scaler.transform(x_train), columns=test10.columns)"
   ]
  },
  {
   "cell_type": "code",
   "execution_count": 489,
   "id": "ddd259f9-21c3-4a87-a569-d70123156d3f",
   "metadata": {},
   "outputs": [
    {
     "data": {
      "text/html": [
       "<div>\n",
       "<style scoped>\n",
       "    .dataframe tbody tr th:only-of-type {\n",
       "        vertical-align: middle;\n",
       "    }\n",
       "\n",
       "    .dataframe tbody tr th {\n",
       "        vertical-align: top;\n",
       "    }\n",
       "\n",
       "    .dataframe thead th {\n",
       "        text-align: right;\n",
       "    }\n",
       "</style>\n",
       "<table border=\"1\" class=\"dataframe\">\n",
       "  <thead>\n",
       "    <tr style=\"text-align: right;\">\n",
       "      <th></th>\n",
       "      <th>Gender</th>\n",
       "      <th>Ever_Married</th>\n",
       "      <th>Age</th>\n",
       "      <th>Graduated</th>\n",
       "      <th>Profession</th>\n",
       "      <th>Work_Experience</th>\n",
       "      <th>Spending_Score</th>\n",
       "      <th>Family_Size</th>\n",
       "    </tr>\n",
       "  </thead>\n",
       "  <tbody>\n",
       "    <tr>\n",
       "      <th>0</th>\n",
       "      <td>-2.717299</td>\n",
       "      <td>-3.652947</td>\n",
       "      <td>-2.714882</td>\n",
       "      <td>-4.077393</td>\n",
       "      <td>-1.991056</td>\n",
       "      <td>-0.913041</td>\n",
       "      <td>-1.656529</td>\n",
       "      <td>-1.366446</td>\n",
       "    </tr>\n",
       "    <tr>\n",
       "      <th>1</th>\n",
       "      <td>1.324849</td>\n",
       "      <td>0.486259</td>\n",
       "      <td>-2.549831</td>\n",
       "      <td>0.246246</td>\n",
       "      <td>-1.810404</td>\n",
       "      <td>-0.913041</td>\n",
       "      <td>-1.656529</td>\n",
       "      <td>-2.659463</td>\n",
       "    </tr>\n",
       "    <tr>\n",
       "      <th>2</th>\n",
       "      <td>-2.717299</td>\n",
       "      <td>0.486259</td>\n",
       "      <td>-2.549831</td>\n",
       "      <td>0.246246</td>\n",
       "      <td>-1.629753</td>\n",
       "      <td>-0.999323</td>\n",
       "      <td>-0.280610</td>\n",
       "      <td>-2.228457</td>\n",
       "    </tr>\n",
       "    <tr>\n",
       "      <th>3</th>\n",
       "      <td>-2.717299</td>\n",
       "      <td>0.486259</td>\n",
       "      <td>-2.590177</td>\n",
       "      <td>-4.077393</td>\n",
       "      <td>-1.449101</td>\n",
       "      <td>-0.999323</td>\n",
       "      <td>1.095309</td>\n",
       "      <td>-2.228457</td>\n",
       "    </tr>\n",
       "    <tr>\n",
       "      <th>4</th>\n",
       "      <td>-2.717299</td>\n",
       "      <td>-3.652947</td>\n",
       "      <td>-2.678204</td>\n",
       "      <td>0.246246</td>\n",
       "      <td>-1.991056</td>\n",
       "      <td>-0.913041</td>\n",
       "      <td>-1.656529</td>\n",
       "      <td>-1.797451</td>\n",
       "    </tr>\n",
       "  </tbody>\n",
       "</table>\n",
       "</div>"
      ],
      "text/plain": [
       "     Gender  Ever_Married       Age  Graduated  Profession  Work_Experience  \\\n",
       "0 -2.717299     -3.652947 -2.714882  -4.077393   -1.991056        -0.913041   \n",
       "1  1.324849      0.486259 -2.549831   0.246246   -1.810404        -0.913041   \n",
       "2 -2.717299      0.486259 -2.549831   0.246246   -1.629753        -0.999323   \n",
       "3 -2.717299      0.486259 -2.590177  -4.077393   -1.449101        -0.999323   \n",
       "4 -2.717299     -3.652947 -2.678204   0.246246   -1.991056        -0.913041   \n",
       "\n",
       "   Spending_Score  Family_Size  \n",
       "0       -1.656529    -1.366446  \n",
       "1       -1.656529    -2.659463  \n",
       "2       -0.280610    -2.228457  \n",
       "3        1.095309    -2.228457  \n",
       "4       -1.656529    -1.797451  "
      ]
     },
     "execution_count": 489,
     "metadata": {},
     "output_type": "execute_result"
    }
   ],
   "source": [
    "test10.head()"
   ]
  },
  {
   "cell_type": "code",
   "execution_count": 491,
   "id": "ace801ab-f9e4-4e92-8c87-73ffdc4b6625",
   "metadata": {},
   "outputs": [],
   "source": [
    "from sklearn.ensemble import RandomForestClassifier\n",
    "model = RandomForestClassifier()\n",
    "model.fit(x_train, y_train.values.ravel())\n",
    "y_train_predicted = model.predict(x_train)"
   ]
  },
  {
   "cell_type": "code",
   "execution_count": 495,
   "id": "19880b6d-34d8-4d21-b5ad-ffebaae79af5",
   "metadata": {},
   "outputs": [
    {
     "data": {
      "text/plain": [
       "0.9277769495663641"
      ]
     },
     "execution_count": 495,
     "metadata": {},
     "output_type": "execute_result"
    }
   ],
   "source": [
    "from sklearn.metrics import f1_score\n",
    "f1_score(y_train, y_train_predicted, average='macro')"
   ]
  },
  {
   "cell_type": "code",
   "execution_count": 497,
   "id": "e1d33cc0-2131-4858-b63c-b96515cba1dd",
   "metadata": {},
   "outputs": [
    {
     "data": {
      "text/plain": [
       "0.9285501637392081"
      ]
     },
     "execution_count": 497,
     "metadata": {},
     "output_type": "execute_result"
    }
   ],
   "source": [
    "f1_score(y_train, y_train_predicted, average='micro')"
   ]
  },
  {
   "cell_type": "code",
   "execution_count": 499,
   "id": "44f36e51-be8e-477c-bc30-933a2eba6933",
   "metadata": {},
   "outputs": [
    {
     "data": {
      "text/plain": [
       "array([[1509,   57,   41,   21],\n",
       "       [  48, 1418,   98,   19],\n",
       "       [  34,   66, 1606,   29],\n",
       "       [  27,   22,   18, 1705]], dtype=int64)"
      ]
     },
     "execution_count": 499,
     "metadata": {},
     "output_type": "execute_result"
    }
   ],
   "source": [
    "from sklearn.metrics import confusion_matrix\n",
    "confusion_matrix(y_train, y_train_predicted)"
   ]
  },
  {
   "cell_type": "code",
   "execution_count": 503,
   "id": "b6350763-158e-40dc-abaa-5a866fc444e7",
   "metadata": {},
   "outputs": [],
   "source": [
    "from sklearn.ensemble import RandomForestClassifier\n",
    "model = RandomForestClassifier()\n",
    "model.fit(x_train, y_train.values.ravel())\n",
    "y_test = model.predict(test10)\n",
    "df = pd.DataFrame(y_test)\n",
    "final_df = df.rename(columns={0:'Segmentation_pred'})\n",
    "final_df.to_csv('000002.csv', index=False)"
   ]
  },
  {
   "cell_type": "code",
   "execution_count": 505,
   "id": "a2f98ba5-6d10-4199-9af8-1351e064c57f",
   "metadata": {},
   "outputs": [
    {
     "name": "stdout",
     "output_type": "stream",
     "text": [
      "   Segmentation_pred\n",
      "0                  4\n",
      "1                  4\n",
      "2                  4\n",
      "3                  4\n",
      "4                  4\n"
     ]
    }
   ],
   "source": [
    "print(final_df.head())"
   ]
  },
  {
   "cell_type": "code",
   "execution_count": null,
   "id": "4dab59f7-5718-4a6d-aa10-d5c85143e82f",
   "metadata": {},
   "outputs": [],
   "source": []
  }
 ],
 "metadata": {
  "kernelspec": {
   "display_name": "Python [conda env:base] *",
   "language": "python",
   "name": "conda-base-py"
  },
  "language_info": {
   "codemirror_mode": {
    "name": "ipython",
    "version": 3
   },
   "file_extension": ".py",
   "mimetype": "text/x-python",
   "name": "python",
   "nbconvert_exporter": "python",
   "pygments_lexer": "ipython3",
   "version": "3.11.5"
  }
 },
 "nbformat": 4,
 "nbformat_minor": 5
}
