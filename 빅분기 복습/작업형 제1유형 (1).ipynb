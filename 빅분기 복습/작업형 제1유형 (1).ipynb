{
 "cells": [
  {
   "cell_type": "code",
   "execution_count": 1,
   "id": "ba1e7d96-a564-495b-82af-e481d84b5992",
   "metadata": {},
   "outputs": [
    {
     "name": "stdout",
     "output_type": "stream",
     "text": [
      "   longitude  latitude  housing_median_age  total_rooms  total_bedrooms  \\\n",
      "0    -122.23     37.88                  41          880           129.0   \n",
      "1    -122.22     37.86                  21         7099          1106.0   \n",
      "2    -122.24     37.85                  52         1467           190.0   \n",
      "\n",
      "   population  households  median_income  median_house_value ocean_proximity  \n",
      "0         322         126         8.3252              452600        NEAR BAY  \n",
      "1        2401        1138         8.3014              358500        NEAR BAY  \n",
      "2         496         177         7.2574              352100        NEAR BAY  \n"
     ]
    }
   ],
   "source": [
    "import pandas as pd\n",
    "house = pd.read_csv(r\"D:\\2025 단축키 빅데이터분석기사_파이썬\\작업형 제1유형\\data\\housing.csv\")\n",
    "print(house.head(3))"
   ]
  },
  {
   "cell_type": "code",
   "execution_count": 3,
   "id": "6f55ba03-0e91-4e3d-94b4-bfe64200303e",
   "metadata": {},
   "outputs": [
    {
     "name": "stdout",
     "output_type": "stream",
     "text": [
      "<class 'pandas.core.frame.DataFrame'>\n",
      "RangeIndex: 20640 entries, 0 to 20639\n",
      "Data columns (total 10 columns):\n",
      " #   Column              Non-Null Count  Dtype  \n",
      "---  ------              --------------  -----  \n",
      " 0   longitude           20640 non-null  float64\n",
      " 1   latitude            20640 non-null  float64\n",
      " 2   housing_median_age  20640 non-null  int64  \n",
      " 3   total_rooms         20640 non-null  int64  \n",
      " 4   total_bedrooms      20433 non-null  float64\n",
      " 5   population          20640 non-null  int64  \n",
      " 6   households          20640 non-null  int64  \n",
      " 7   median_income       20640 non-null  float64\n",
      " 8   median_house_value  20640 non-null  int64  \n",
      " 9   ocean_proximity     20640 non-null  object \n",
      "dtypes: float64(4), int64(5), object(1)\n",
      "memory usage: 1.6+ MB\n",
      "None\n"
     ]
    }
   ],
   "source": [
    "print(house.info())"
   ]
  },
  {
   "cell_type": "code",
   "execution_count": 7,
   "id": "4dbe72f0-390d-42dc-bd70-1b099fb45292",
   "metadata": {},
   "outputs": [
    {
     "name": "stdout",
     "output_type": "stream",
     "text": [
      "longitude               0\n",
      "latitude                0\n",
      "housing_median_age      0\n",
      "total_rooms             0\n",
      "total_bedrooms        207\n",
      "population              0\n",
      "households              0\n",
      "median_income           0\n",
      "median_house_value      0\n",
      "ocean_proximity         0\n",
      "dtype: int64\n"
     ]
    }
   ],
   "source": [
    "print(house.isna().sum())"
   ]
  },
  {
   "cell_type": "code",
   "execution_count": 9,
   "id": "d46cfb85-15e6-4ac4-8149-dd01f0d6bec9",
   "metadata": {},
   "outputs": [],
   "source": [
    "house_dropna = house.dropna()"
   ]
  },
  {
   "cell_type": "code",
   "execution_count": 11,
   "id": "95d86262-d5ab-41e8-b2a0-318408743eba",
   "metadata": {},
   "outputs": [
    {
     "data": {
      "text/plain": [
       "longitude             0\n",
       "latitude              0\n",
       "housing_median_age    0\n",
       "total_rooms           0\n",
       "total_bedrooms        0\n",
       "population            0\n",
       "households            0\n",
       "median_income         0\n",
       "median_house_value    0\n",
       "ocean_proximity       0\n",
       "dtype: int64"
      ]
     },
     "execution_count": 11,
     "metadata": {},
     "output_type": "execute_result"
    }
   ],
   "source": [
    "house_dropna.isna().sum()"
   ]
  },
  {
   "cell_type": "code",
   "execution_count": 17,
   "id": "b2bd117d-b08b-4c33-8665-b04dc6ca2006",
   "metadata": {},
   "outputs": [
    {
     "data": {
      "text/plain": [
       "14303"
      ]
     },
     "execution_count": 17,
     "metadata": {},
     "output_type": "execute_result"
    }
   ],
   "source": [
    "int(len(house_dropna) * 0.7)"
   ]
  },
  {
   "cell_type": "code",
   "execution_count": 19,
   "id": "4b7e7407-a5d7-4564-982e-9cd301658998",
   "metadata": {},
   "outputs": [],
   "source": [
    "house_dropna_70 = house_dropna.iloc[:int(len(house_dropna)*0.7)]"
   ]
  },
  {
   "cell_type": "code",
   "execution_count": 23,
   "id": "761c3d71-f681-4247-8d64-9d4dc21692dc",
   "metadata": {},
   "outputs": [
    {
     "name": "stdout",
     "output_type": "stream",
     "text": [
      "<class 'pandas.core.frame.DataFrame'>\n",
      "Index: 14303 entries, 0 to 14440\n",
      "Data columns (total 10 columns):\n",
      " #   Column              Non-Null Count  Dtype  \n",
      "---  ------              --------------  -----  \n",
      " 0   longitude           14303 non-null  float64\n",
      " 1   latitude            14303 non-null  float64\n",
      " 2   housing_median_age  14303 non-null  int64  \n",
      " 3   total_rooms         14303 non-null  int64  \n",
      " 4   total_bedrooms      14303 non-null  float64\n",
      " 5   population          14303 non-null  int64  \n",
      " 6   households          14303 non-null  int64  \n",
      " 7   median_income       14303 non-null  float64\n",
      " 8   median_house_value  14303 non-null  int64  \n",
      " 9   ocean_proximity     14303 non-null  object \n",
      "dtypes: float64(4), int64(5), object(1)\n",
      "memory usage: 1.2+ MB\n"
     ]
    }
   ],
   "source": [
    "house_dropna_70.info()"
   ]
  },
  {
   "cell_type": "code",
   "execution_count": 29,
   "id": "81f7e33c-d757-4ed0-9537-29a968e56199",
   "metadata": {},
   "outputs": [
    {
     "name": "stdout",
     "output_type": "stream",
     "text": [
      "19\n"
     ]
    }
   ],
   "source": [
    "df = int(house_dropna_70['housing_median_age'].quantile(0.25))\n",
    "print(df)"
   ]
  },
  {
   "cell_type": "code",
   "execution_count": 47,
   "id": "7be233b7-6a03-4394-b6b4-6f59a15ebc38",
   "metadata": {},
   "outputs": [
    {
     "name": "stdout",
     "output_type": "stream",
     "text": [
      "19\n"
     ]
    }
   ],
   "source": [
    "# 01. 주어진 캘리포니아 주택 데이터에서 결측치가 있는 경우 해당 데이터 행을 제외하고 첫 번째 행부터 순서대로 70% 데이터를 추출하여 \"housing_median_age\"변수의\n",
    "# Q1(1사분위)값을 정수로 출력하시오.\n",
    "import pandas as pd\n",
    "house = pd.read_csv(r\"D:\\2025 단축키 빅데이터분석기사_파이썬\\작업형 제1유형\\data\\housing.csv\")\n",
    "house_drop = house.dropna()\n",
    "house_drop_70 = house_drop[:int(len(house_drop)*0.7)]\n",
    "df = int(house_drop_70['housing_median_age'].quantile(0.25))\n",
    "print(df)"
   ]
  },
  {
   "cell_type": "code",
   "execution_count": 49,
   "id": "7cdf9aa1-586d-43db-98e5-edf7ded7af17",
   "metadata": {},
   "outputs": [
    {
     "name": "stdout",
     "output_type": "stream",
     "text": [
      "   longitude  latitude  housing_median_age  total_rooms  total_bedrooms  \\\n",
      "0    -122.23     37.88                  41          880           129.0   \n",
      "1    -122.22     37.86                  21         7099          1106.0   \n",
      "2    -122.24     37.85                  52         1467           190.0   \n",
      "\n",
      "   population  households  median_income  median_house_value ocean_proximity  \n",
      "0         322         126         8.3252              452600        NEAR BAY  \n",
      "1        2401        1138         8.3014              358500        NEAR BAY  \n",
      "2         496         177         7.2574              352100        NEAR BAY  \n"
     ]
    },
    {
     "data": {
      "text/plain": [
       "(20640, 10)"
      ]
     },
     "execution_count": 49,
     "metadata": {},
     "output_type": "execute_result"
    }
   ],
   "source": [
    "import pandas as pd\n",
    "house = pd.read_csv(r\"D:\\2025 단축키 빅데이터분석기사_파이썬\\작업형 제1유형\\data\\housing.csv\")\n",
    "print(house.head(3))\n",
    "house.shape"
   ]
  },
  {
   "cell_type": "code",
   "execution_count": 51,
   "id": "28587b7a-a5cf-451b-a171-e18690dfeffa",
   "metadata": {},
   "outputs": [
    {
     "data": {
      "text/plain": [
       "(16512, 10)"
      ]
     },
     "execution_count": 51,
     "metadata": {},
     "output_type": "execute_result"
    }
   ],
   "source": [
    "house_80 = house.iloc[:int(len(house)*0.8)]\n",
    "house_80.shape"
   ]
  },
  {
   "cell_type": "code",
   "execution_count": 53,
   "id": "5e4b06fe-8365-432b-a0f3-3e6ec4903b09",
   "metadata": {},
   "outputs": [
    {
     "data": {
      "text/plain": [
       "longitude               0\n",
       "latitude                0\n",
       "housing_median_age      0\n",
       "total_rooms             0\n",
       "total_bedrooms        159\n",
       "population              0\n",
       "households              0\n",
       "median_income           0\n",
       "median_house_value      0\n",
       "ocean_proximity         0\n",
       "dtype: int64"
      ]
     },
     "execution_count": 53,
     "metadata": {},
     "output_type": "execute_result"
    }
   ],
   "source": [
    "house_80.isna().sum()"
   ]
  },
  {
   "cell_type": "code",
   "execution_count": 55,
   "id": "13460058-864f-44db-ba3f-ec376f532eca",
   "metadata": {},
   "outputs": [
    {
     "data": {
      "text/plain": [
       "435.900577052527"
      ]
     },
     "execution_count": 55,
     "metadata": {},
     "output_type": "execute_result"
    }
   ],
   "source": [
    "df1 = house_80['total_bedrooms'].std()\n",
    "df1"
   ]
  },
  {
   "cell_type": "code",
   "execution_count": 61,
   "id": "463cedf3-63b1-47fb-80b2-e6590ff6ff5e",
   "metadata": {},
   "outputs": [
    {
     "name": "stdout",
     "output_type": "stream",
     "text": [
      "433.9254297608813\n"
     ]
    }
   ],
   "source": [
    "df2 = house_80.fillna(house_80.median(numeric_only=True))\n",
    "df3 = df2['total_bedrooms'].std()\n",
    "print(df3)"
   ]
  },
  {
   "cell_type": "code",
   "execution_count": 63,
   "id": "e9ba4f04-8f77-4c00-b461-98ce1e280d6e",
   "metadata": {},
   "outputs": [
    {
     "name": "stdout",
     "output_type": "stream",
     "text": [
      "1.98\n"
     ]
    }
   ],
   "source": [
    "ans = abs(df1 - df3)\n",
    "print(round(ans, 2))"
   ]
  },
  {
   "cell_type": "code",
   "execution_count": 81,
   "id": "2b1800cd-64f8-494a-9bd0-0ce8f186bf1f",
   "metadata": {},
   "outputs": [
    {
     "name": "stdout",
     "output_type": "stream",
     "text": [
      "1.98\n"
     ]
    }
   ],
   "source": [
    "# 02. 주어진 캘리포니아 주택 데이터에서 첫번째 행부터 순서대로 80%까지의 데이터를 추출한 후 'total_bedrooms'변수의 결측값(NA)을 'total_bedrooms'변수의 중앙값으로\n",
    "# 대체하고 대체 전의 'total_bedrooms'변수의 표준편차와 대체 후의 표준편차의 차이의 절대값을 구하시오.\n",
    "# (답안은 소수점 3째 자리에서 반올림해서 소수점 2째 자리까지 출력하시오.)\n",
    "import pandas as pd\n",
    "house = pd.read_csv(r\"D:\\2025 단축키 빅데이터분석기사_파이썬\\작업형 제1유형\\data\\housing.csv\")\n",
    "house_80 = house[:int(len(house)*0.8)]\n",
    "bef = house_80['total_bedrooms'].std()\n",
    "df1 = house_80.fillna(house_80.median(numeric_only=True))\n",
    "aft = df1['total_bedrooms'].std()\n",
    "ans = abs(bef - aft)\n",
    "print(round(ans, 2))"
   ]
  },
  {
   "cell_type": "code",
   "execution_count": 83,
   "id": "fac99538-a30a-456e-b149-40eb91c9833d",
   "metadata": {},
   "outputs": [
    {
     "name": "stdout",
     "output_type": "stream",
     "text": [
      "<class 'pandas.core.frame.DataFrame'>\n",
      "RangeIndex: 891 entries, 0 to 890\n",
      "Data columns (total 12 columns):\n",
      " #   Column       Non-Null Count  Dtype  \n",
      "---  ------       --------------  -----  \n",
      " 0   PassengerId  891 non-null    int64  \n",
      " 1   Survived     891 non-null    int64  \n",
      " 2   Pclass       891 non-null    int64  \n",
      " 3   Name         891 non-null    object \n",
      " 4   Sex          891 non-null    object \n",
      " 5   Age          714 non-null    float64\n",
      " 6   SibSp        891 non-null    int64  \n",
      " 7   Parch        891 non-null    int64  \n",
      " 8   Ticket       891 non-null    object \n",
      " 9   Fare         891 non-null    float64\n",
      " 10  Cabin        204 non-null    object \n",
      " 11  Embarked     889 non-null    object \n",
      "dtypes: float64(2), int64(5), object(5)\n",
      "memory usage: 83.7+ KB\n"
     ]
    }
   ],
   "source": [
    "import pandas as pd\n",
    "titanic = pd.read_csv(r\"D:\\2025 단축키 빅데이터분석기사_파이썬\\작업형 제1유형\\data\\train_df1.csv\")\n",
    "titanic.info()"
   ]
  },
  {
   "cell_type": "code",
   "execution_count": 85,
   "id": "2a9a4f32-7a0c-477b-a742-2973ca3965eb",
   "metadata": {},
   "outputs": [
    {
     "data": {
      "text/plain": [
       "PassengerId      0\n",
       "Survived         0\n",
       "Pclass           0\n",
       "Name             0\n",
       "Sex              0\n",
       "Age            177\n",
       "SibSp            0\n",
       "Parch            0\n",
       "Ticket           0\n",
       "Fare             0\n",
       "Cabin          687\n",
       "Embarked         2\n",
       "dtype: int64"
      ]
     },
     "execution_count": 85,
     "metadata": {},
     "output_type": "execute_result"
    }
   ],
   "source": [
    "titanic.isna().sum()"
   ]
  },
  {
   "cell_type": "code",
   "execution_count": 89,
   "id": "18035275-b41e-44b5-b815-b04a8d9b7790",
   "metadata": {},
   "outputs": [
    {
     "data": {
      "text/plain": [
       "687"
      ]
     },
     "execution_count": 89,
     "metadata": {},
     "output_type": "execute_result"
    }
   ],
   "source": [
    "df = titanic.isna().sum()\n",
    "df.max()"
   ]
  },
  {
   "cell_type": "code",
   "execution_count": 91,
   "id": "10df2a69-c107-45e7-b0b8-b12b455d0281",
   "metadata": {},
   "outputs": [
    {
     "data": {
      "text/plain": [
       "10"
      ]
     },
     "execution_count": 91,
     "metadata": {},
     "output_type": "execute_result"
    }
   ],
   "source": [
    "df.argmax()"
   ]
  },
  {
   "cell_type": "code",
   "execution_count": 93,
   "id": "9f4d1be7-71a5-4de2-9888-813e2f258eb5",
   "metadata": {},
   "outputs": [
    {
     "data": {
      "text/plain": [
       "'Cabin'"
      ]
     },
     "execution_count": 93,
     "metadata": {},
     "output_type": "execute_result"
    }
   ],
   "source": [
    "df.index[10]"
   ]
  },
  {
   "cell_type": "code",
   "execution_count": 95,
   "id": "b0cc0c7c-cbd9-42bf-a424-0aef761a44c5",
   "metadata": {},
   "outputs": [
    {
     "name": "stdout",
     "output_type": "stream",
     "text": [
      "PassengerId    0.000000\n",
      "Survived       0.000000\n",
      "Pclass         0.000000\n",
      "Name           0.000000\n",
      "Sex            0.000000\n",
      "Age            0.198653\n",
      "SibSp          0.000000\n",
      "Parch          0.000000\n",
      "Ticket         0.000000\n",
      "Fare           0.000000\n",
      "Cabin          0.771044\n",
      "Embarked       0.002245\n",
      "dtype: float64\n"
     ]
    }
   ],
   "source": [
    "df1 = df/len(titanic)\n",
    "print(df1)"
   ]
  },
  {
   "cell_type": "code",
   "execution_count": 99,
   "id": "28d521e5-0f45-4b1e-a523-82be6b4370a4",
   "metadata": {},
   "outputs": [
    {
     "data": {
      "text/html": [
       "<div>\n",
       "<style scoped>\n",
       "    .dataframe tbody tr th:only-of-type {\n",
       "        vertical-align: middle;\n",
       "    }\n",
       "\n",
       "    .dataframe tbody tr th {\n",
       "        vertical-align: top;\n",
       "    }\n",
       "\n",
       "    .dataframe thead th {\n",
       "        text-align: right;\n",
       "    }\n",
       "</style>\n",
       "<table border=\"1\" class=\"dataframe\">\n",
       "  <thead>\n",
       "    <tr style=\"text-align: right;\">\n",
       "      <th></th>\n",
       "      <th>0</th>\n",
       "    </tr>\n",
       "  </thead>\n",
       "  <tbody>\n",
       "    <tr>\n",
       "      <th>Cabin</th>\n",
       "      <td>0.771044</td>\n",
       "    </tr>\n",
       "    <tr>\n",
       "      <th>Age</th>\n",
       "      <td>0.198653</td>\n",
       "    </tr>\n",
       "    <tr>\n",
       "      <th>Embarked</th>\n",
       "      <td>0.002245</td>\n",
       "    </tr>\n",
       "    <tr>\n",
       "      <th>PassengerId</th>\n",
       "      <td>0.000000</td>\n",
       "    </tr>\n",
       "    <tr>\n",
       "      <th>Survived</th>\n",
       "      <td>0.000000</td>\n",
       "    </tr>\n",
       "    <tr>\n",
       "      <th>Pclass</th>\n",
       "      <td>0.000000</td>\n",
       "    </tr>\n",
       "    <tr>\n",
       "      <th>Name</th>\n",
       "      <td>0.000000</td>\n",
       "    </tr>\n",
       "    <tr>\n",
       "      <th>Sex</th>\n",
       "      <td>0.000000</td>\n",
       "    </tr>\n",
       "    <tr>\n",
       "      <th>SibSp</th>\n",
       "      <td>0.000000</td>\n",
       "    </tr>\n",
       "    <tr>\n",
       "      <th>Parch</th>\n",
       "      <td>0.000000</td>\n",
       "    </tr>\n",
       "    <tr>\n",
       "      <th>Ticket</th>\n",
       "      <td>0.000000</td>\n",
       "    </tr>\n",
       "    <tr>\n",
       "      <th>Fare</th>\n",
       "      <td>0.000000</td>\n",
       "    </tr>\n",
       "  </tbody>\n",
       "</table>\n",
       "</div>"
      ],
      "text/plain": [
       "                    0\n",
       "Cabin        0.771044\n",
       "Age          0.198653\n",
       "Embarked     0.002245\n",
       "PassengerId  0.000000\n",
       "Survived     0.000000\n",
       "Pclass       0.000000\n",
       "Name         0.000000\n",
       "Sex          0.000000\n",
       "SibSp        0.000000\n",
       "Parch        0.000000\n",
       "Ticket       0.000000\n",
       "Fare         0.000000"
      ]
     },
     "execution_count": 99,
     "metadata": {},
     "output_type": "execute_result"
    }
   ],
   "source": [
    "df1 = pd.DataFrame(df1)\n",
    "df1.sort_values(by=0, ascending=False)"
   ]
  },
  {
   "cell_type": "code",
   "execution_count": 101,
   "id": "19f64675-2788-4495-9b03-7bbeca83e846",
   "metadata": {},
   "outputs": [
    {
     "name": "stdout",
     "output_type": "stream",
     "text": [
      "Cabin\n"
     ]
    }
   ],
   "source": [
    "df2 = df1.sort_values(by=0, ascending=False)\n",
    "print(df2.index[0])"
   ]
  },
  {
   "cell_type": "code",
   "execution_count": 133,
   "id": "87143978-ce58-45be-a2e2-c0243902a77c",
   "metadata": {},
   "outputs": [
    {
     "name": "stdout",
     "output_type": "stream",
     "text": [
      "Cabin\n"
     ]
    }
   ],
   "source": [
    "# 03. 타이타닉 데이터의 컬럼 중 빈값 또는 결측치를 구하고 결측값 비율이 가장 높은 컬럼명을 출력하시오.\n",
    "import pandas as pd\n",
    "titanic = pd.read_csv(r\"D:\\2025 단축키 빅데이터분석기사_파이썬\\작업형 제1유형\\data\\train_df1.csv\")\n",
    "df = titanic.isna().sum()\n",
    "#df.max()\n",
    "#df.argmax()\n",
    "df1 = df/len(df)\n",
    "#df.index[df.argmax()]\n",
    "df1 = pd.DataFrame(df1)\n",
    "df1 = df1.sort_values(by=0, ascending=False)\n",
    "ans = df1.index[0]\n",
    "print(ans)"
   ]
  },
  {
   "cell_type": "code",
   "execution_count": null,
   "id": "e99b582f-8124-4211-be5d-bcc82c74c144",
   "metadata": {},
   "outputs": [],
   "source": []
  }
 ],
 "metadata": {
  "kernelspec": {
   "display_name": "Python [conda env:base] *",
   "language": "python",
   "name": "conda-base-py"
  },
  "language_info": {
   "codemirror_mode": {
    "name": "ipython",
    "version": 3
   },
   "file_extension": ".py",
   "mimetype": "text/x-python",
   "name": "python",
   "nbconvert_exporter": "python",
   "pygments_lexer": "ipython3",
   "version": "3.11.5"
  }
 },
 "nbformat": 4,
 "nbformat_minor": 5
}
