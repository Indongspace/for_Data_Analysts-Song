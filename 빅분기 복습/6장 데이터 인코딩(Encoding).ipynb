{
 "cells": [
  {
   "cell_type": "code",
   "execution_count": 7,
   "id": "1fbc8a4b-2728-48ef-8538-2dd286d316b2",
   "metadata": {},
   "outputs": [
    {
     "name": "stdout",
     "output_type": "stream",
     "text": [
      "   Gender  Gender_encoded\n",
      "0    male               1\n",
      "1  female               0\n",
      "2  female               0\n",
      "3  female               0\n",
      "4    male               1\n"
     ]
    }
   ],
   "source": [
    "# 레이블 인코딩\n",
    "import pandas as pd\n",
    "from sklearn.preprocessing import LabelEncoder\n",
    "titanic_data = pd.read_csv(r\"D:\\2025 단축키 빅데이터분석기사_파이썬\\작업형기초\\data\\titanic.csv\")\n",
    "label_encoder = LabelEncoder()\n",
    "titanic_data['Gender_encoded'] = label_encoder.fit_transform(titanic_data['Gender'])\n",
    "print(titanic_data[['Gender','Gender_encoded']].head())"
   ]
  },
  {
   "cell_type": "code",
   "execution_count": 5,
   "id": "ecad2592-71bf-45ad-a517-1c8ff180ada0",
   "metadata": {},
   "outputs": [
    {
     "name": "stdout",
     "output_type": "stream",
     "text": [
      "Index(['PassengerId', 'Survived', 'Pclass', 'Name', 'Gender', 'Age', 'SibSp',\n",
      "       'Parch', 'Ticket', 'Fare', 'Cabin', 'Embarked'],\n",
      "      dtype='object')\n"
     ]
    }
   ],
   "source": [
    "print(titanic_data.columns)"
   ]
  },
  {
   "cell_type": "code",
   "execution_count": 15,
   "id": "05475daa-103d-4d98-a3a6-049e7756cafa",
   "metadata": {},
   "outputs": [
    {
     "name": "stdout",
     "output_type": "stream",
     "text": [
      "     PassengerId  Survived  Pclass  \\\n",
      "0              1         0       3   \n",
      "1              2         1       1   \n",
      "2              3         1       3   \n",
      "3              4         1       1   \n",
      "4              5         0       3   \n",
      "..           ...       ...     ...   \n",
      "886          887         0       2   \n",
      "887          888         1       1   \n",
      "888          889         0       3   \n",
      "889          890         1       1   \n",
      "890          891         0       3   \n",
      "\n",
      "                                                  Name   Age  SibSp  Parch  \\\n",
      "0                              Braund, Mr. Owen Harris  22.0      1      0   \n",
      "1    Cumings, Mrs. John Bradley (Florence Briggs Th...  38.0      1      0   \n",
      "2                               Heikkinen, Miss. Laina  26.0      0      0   \n",
      "3         Futrelle, Mrs. Jacques Heath (Lily May Peel)  35.0      1      0   \n",
      "4                             Allen, Mr. William Henry  35.0      0      0   \n",
      "..                                                 ...   ...    ...    ...   \n",
      "886                              Montvila, Rev. Juozas  27.0      0      0   \n",
      "887                       Graham, Miss. Margaret Edith  19.0      0      0   \n",
      "888           Johnston, Miss. Catherine Helen \"Carrie\"   NaN      1      2   \n",
      "889                              Behr, Mr. Karl Howell  26.0      0      0   \n",
      "890                                Dooley, Mr. Patrick  32.0      0      0   \n",
      "\n",
      "               Ticket     Fare Cabin Embarked  Gender_female  Gender_male  \n",
      "0           A/5 21171   7.2500   NaN        S          False         True  \n",
      "1            PC 17599  71.2833   C85        C           True        False  \n",
      "2    STON/O2. 3101282   7.9250   NaN        S           True        False  \n",
      "3              113803  53.1000  C123        S           True        False  \n",
      "4              373450   8.0500   NaN        S          False         True  \n",
      "..                ...      ...   ...      ...            ...          ...  \n",
      "886            211536  13.0000   NaN        S          False         True  \n",
      "887            112053  30.0000   B42        S           True        False  \n",
      "888        W./C. 6607  23.4500   NaN        S           True        False  \n",
      "889            111369  30.0000  C148        C          False         True  \n",
      "890            370376   7.7500   NaN        Q          False         True  \n",
      "\n",
      "[891 rows x 13 columns]\n"
     ]
    }
   ],
   "source": [
    "# 원-핫 인코딩\n",
    "import pandas as pd\n",
    "titanic_data = pd.read_csv(r\"D:\\2025 단축키 빅데이터분석기사_파이썬\\작업형기초\\data\\titanic.csv\")\n",
    "categorical_columns = ['Gender']\n",
    "encoded_data = pd.get_dummies(titanic_data, columns=categorical_columns)\n",
    "print(encoded_data)"
   ]
  },
  {
   "cell_type": "code",
   "execution_count": null,
   "id": "0f9e71e8-cae7-4e3b-9d55-5dccf497a1ec",
   "metadata": {},
   "outputs": [],
   "source": []
  }
 ],
 "metadata": {
  "kernelspec": {
   "display_name": "Python [conda env:base] *",
   "language": "python",
   "name": "conda-base-py"
  },
  "language_info": {
   "codemirror_mode": {
    "name": "ipython",
    "version": 3
   },
   "file_extension": ".py",
   "mimetype": "text/x-python",
   "name": "python",
   "nbconvert_exporter": "python",
   "pygments_lexer": "ipython3",
   "version": "3.11.5"
  }
 },
 "nbformat": 4,
 "nbformat_minor": 5
}
