{
 "cells": [
  {
   "cell_type": "code",
   "execution_count": 12,
   "id": "57242124-ffde-4b3f-8fed-ebdbd5ca592d",
   "metadata": {},
   "outputs": [
    {
     "name": "stdout",
     "output_type": "stream",
     "text": [
      "77\n"
     ]
    }
   ],
   "source": [
    "print(77)"
   ]
  },
  {
   "cell_type": "code",
   "execution_count": 14,
   "id": "228cd490-dca7-4210-be20-5d548dec855c",
   "metadata": {},
   "outputs": [
    {
     "name": "stdout",
     "output_type": "stream",
     "text": [
      "Hello\n"
     ]
    }
   ],
   "source": [
    "print('Hello')"
   ]
  },
  {
   "cell_type": "code",
   "execution_count": 16,
   "id": "9b18aec8-57a0-47af-a9e9-feda31544a07",
   "metadata": {},
   "outputs": [
    {
     "name": "stdout",
     "output_type": "stream",
     "text": [
      "<class 'int'>\n",
      "<class 'str'>\n",
      "<class 'float'>\n",
      "<class 'bool'>\n"
     ]
    }
   ],
   "source": [
    "print(type(20))\n",
    "print(type('20'))\n",
    "print(type(20.0))\n",
    "print(type(True))"
   ]
  },
  {
   "cell_type": "code",
   "execution_count": 18,
   "id": "f60d1184-d15b-46f8-bc73-2f51ac328d49",
   "metadata": {},
   "outputs": [
    {
     "ename": "SyntaxError",
     "evalue": "unterminated string literal (detected at line 1) (3497684994.py, line 1)",
     "output_type": "error",
     "traceback": [
      "\u001b[1;36m  Cell \u001b[1;32mIn[18], line 1\u001b[1;36m\u001b[0m\n\u001b[1;33m    print('Happy\")\u001b[0m\n\u001b[1;37m          ^\u001b[0m\n\u001b[1;31mSyntaxError\u001b[0m\u001b[1;31m:\u001b[0m unterminated string literal (detected at line 1)\n"
     ]
    }
   ],
   "source": [
    "print('Happy\")"
   ]
  },
  {
   "cell_type": "code",
   "execution_count": 20,
   "id": "01603e4c-fa1d-4d58-adda-4d185652be06",
   "metadata": {},
   "outputs": [
    {
     "ename": "SyntaxError",
     "evalue": "incomplete input (2671712542.py, line 1)",
     "output_type": "error",
     "traceback": [
      "\u001b[1;36m  Cell \u001b[1;32mIn[20], line 1\u001b[1;36m\u001b[0m\n\u001b[1;33m    print('happy'\u001b[0m\n\u001b[1;37m                 ^\u001b[0m\n\u001b[1;31mSyntaxError\u001b[0m\u001b[1;31m:\u001b[0m incomplete input\n"
     ]
    }
   ],
   "source": [
    "print('happy'"
   ]
  },
  {
   "cell_type": "code",
   "execution_count": 22,
   "id": "8e051d48-d25b-45c9-b181-c4b1474695d2",
   "metadata": {},
   "outputs": [
    {
     "data": {
      "text/plain": [
       "int"
      ]
     },
     "execution_count": 22,
     "metadata": {},
     "output_type": "execute_result"
    }
   ],
   "source": [
    "type(123)"
   ]
  },
  {
   "cell_type": "code",
   "execution_count": 24,
   "id": "275fcdee-a675-4436-a2f2-ef4f7c16b6a1",
   "metadata": {},
   "outputs": [
    {
     "data": {
      "text/plain": [
       "float"
      ]
     },
     "execution_count": 24,
     "metadata": {},
     "output_type": "execute_result"
    }
   ],
   "source": [
    "type(123.0)"
   ]
  },
  {
   "cell_type": "code",
   "execution_count": 26,
   "id": "0d29b023-f2c2-46f1-8435-add49bbcbc75",
   "metadata": {},
   "outputs": [
    {
     "name": "stdout",
     "output_type": "stream",
     "text": [
      "124.23\n"
     ]
    },
    {
     "data": {
      "text/plain": [
       "float"
      ]
     },
     "execution_count": 26,
     "metadata": {},
     "output_type": "execute_result"
    }
   ],
   "source": [
    "a = 123\n",
    "b = 1.23\n",
    "c = a + b\n",
    "print(c)\n",
    "type(c)"
   ]
  },
  {
   "cell_type": "code",
   "execution_count": 28,
   "id": "d93ea819-b756-49cb-bce8-f3694665fcbf",
   "metadata": {},
   "outputs": [
    {
     "name": "stdout",
     "output_type": "stream",
     "text": [
      "5\n",
      "1\n",
      "6\n",
      "1.5\n",
      "9\n",
      "1\n",
      "1\n"
     ]
    }
   ],
   "source": [
    "a=3\n",
    "b=2\n",
    "print(a+b)\n",
    "print(a-b)\n",
    "print(a*b)\n",
    "print(a/b)\n",
    "print(a**b)\n",
    "print(a//b)\n",
    "print(a%b)"
   ]
  },
  {
   "cell_type": "code",
   "execution_count": 32,
   "id": "1ea435e2-bbbb-4f9f-8903-9c2499353792",
   "metadata": {},
   "outputs": [
    {
     "name": "stdout",
     "output_type": "stream",
     "text": [
      "bigdata\n",
      "pass\n"
     ]
    },
    {
     "data": {
      "text/plain": [
       "str"
      ]
     },
     "execution_count": 32,
     "metadata": {},
     "output_type": "execute_result"
    }
   ],
   "source": [
    "print('bigdata')\n",
    "print('pass')\n",
    "type('pass')"
   ]
  },
  {
   "cell_type": "code",
   "execution_count": 34,
   "id": "8753dbed-59ca-4853-86f8-361e6d53a636",
   "metadata": {},
   "outputs": [
    {
     "name": "stdout",
     "output_type": "stream",
     "text": [
      "bigdata pass\n"
     ]
    }
   ],
   "source": [
    "a='bigdata'\n",
    "b=' '\n",
    "c='pass'\n",
    "print(a+b+c)"
   ]
  },
  {
   "cell_type": "code",
   "execution_count": 36,
   "id": "70d96492-91ce-4fd4-adb0-4f1f2e448261",
   "metadata": {},
   "outputs": [
    {
     "name": "stdout",
     "output_type": "stream",
     "text": [
      "bigdatabigdata\n"
     ]
    }
   ],
   "source": [
    "a='bigdata'\n",
    "print(a*2)"
   ]
  },
  {
   "cell_type": "code",
   "execution_count": 38,
   "id": "2446026e-76ba-4ac3-9461-d35f4e6659a1",
   "metadata": {},
   "outputs": [
    {
     "data": {
      "text/plain": [
       "12"
      ]
     },
     "execution_count": 38,
     "metadata": {},
     "output_type": "execute_result"
    }
   ],
   "source": [
    "len('bigdata pass')"
   ]
  },
  {
   "cell_type": "code",
   "execution_count": 40,
   "id": "299c01f9-ecaf-44c1-a2f4-176c9dddee6e",
   "metadata": {},
   "outputs": [
    {
     "data": {
      "text/plain": [
       "'PYTHON'"
      ]
     },
     "execution_count": 40,
     "metadata": {},
     "output_type": "execute_result"
    }
   ],
   "source": [
    "s1='python'\n",
    "s1.upper()"
   ]
  },
  {
   "cell_type": "code",
   "execution_count": 42,
   "id": "f353c86f-2230-4fdb-ab97-2bb1d77d181b",
   "metadata": {},
   "outputs": [
    {
     "data": {
      "text/plain": [
       "'python'"
      ]
     },
     "execution_count": 42,
     "metadata": {},
     "output_type": "execute_result"
    }
   ],
   "source": [
    "s2='PYTHON'\n",
    "s2.lower()"
   ]
  },
  {
   "cell_type": "code",
   "execution_count": 50,
   "id": "f1ca9acc-2922-40fb-9946-3eb68eceb898",
   "metadata": {},
   "outputs": [
    {
     "name": "stdout",
     "output_type": "stream",
     "text": [
      "H\n",
      "3\n"
     ]
    }
   ],
   "source": [
    "my_string='Hello'\n",
    "print(my_string[0])\n",
    "my_list = [1,2,3,4,5]\n",
    "print(my_list[2])"
   ]
  },
  {
   "cell_type": "code",
   "execution_count": 54,
   "id": "cb82b83a-6faf-468a-ac59-9a3be9998a73",
   "metadata": {},
   "outputs": [
    {
     "data": {
      "text/plain": [
       "'d'"
      ]
     },
     "execution_count": 54,
     "metadata": {},
     "output_type": "execute_result"
    }
   ],
   "source": [
    "s3='Hello World'\n",
    "s3[-1]"
   ]
  },
  {
   "cell_type": "code",
   "execution_count": 56,
   "id": "99a886ec-93dc-4076-9ff9-27729f6e5a23",
   "metadata": {},
   "outputs": [
    {
     "data": {
      "text/plain": [
       "'He'"
      ]
     },
     "execution_count": 56,
     "metadata": {},
     "output_type": "execute_result"
    }
   ],
   "source": [
    "s3[0:2]"
   ]
  },
  {
   "cell_type": "code",
   "execution_count": 58,
   "id": "16d2a4d1-b56b-46a3-8d25-4dfe5d40f1f7",
   "metadata": {},
   "outputs": [
    {
     "data": {
      "text/plain": [
       "'Hello World'"
      ]
     },
     "execution_count": 58,
     "metadata": {},
     "output_type": "execute_result"
    }
   ],
   "source": [
    "s3[:]"
   ]
  },
  {
   "cell_type": "code",
   "execution_count": 60,
   "id": "32349d08-9d12-4c18-a5ec-fe566e83daaa",
   "metadata": {},
   "outputs": [],
   "source": [
    "a=[1,2,3,4]\n",
    "b=[1,2,'bigdata']\n",
    "c=[1,2,[3,4]]"
   ]
  },
  {
   "cell_type": "code",
   "execution_count": 62,
   "id": "1b4fed06-42b6-4787-aa51-99baeae0d65f",
   "metadata": {},
   "outputs": [
    {
     "data": {
      "text/plain": [
       "list"
      ]
     },
     "execution_count": 62,
     "metadata": {},
     "output_type": "execute_result"
    }
   ],
   "source": [
    "type(a)"
   ]
  },
  {
   "cell_type": "code",
   "execution_count": 66,
   "id": "be55fce7-1326-44c2-8d21-433796f10dcc",
   "metadata": {},
   "outputs": [
    {
     "data": {
      "text/plain": [
       "list"
      ]
     },
     "execution_count": 66,
     "metadata": {},
     "output_type": "execute_result"
    }
   ],
   "source": [
    "type(b)"
   ]
  },
  {
   "cell_type": "code",
   "execution_count": 68,
   "id": "f4ec265a-ba61-49e5-8370-ab280da70a0f",
   "metadata": {},
   "outputs": [
    {
     "data": {
      "text/plain": [
       "list"
      ]
     },
     "execution_count": 68,
     "metadata": {},
     "output_type": "execute_result"
    }
   ],
   "source": [
    "type(c)"
   ]
  },
  {
   "cell_type": "code",
   "execution_count": 70,
   "id": "a1359bd2-23a3-4e4c-8f20-9475c66085d8",
   "metadata": {},
   "outputs": [
    {
     "data": {
      "text/plain": [
       "[3, 4]"
      ]
     },
     "execution_count": 70,
     "metadata": {},
     "output_type": "execute_result"
    }
   ],
   "source": [
    "c[2]"
   ]
  },
  {
   "cell_type": "code",
   "execution_count": 72,
   "id": "89545b70-3f04-455b-8d34-819736cda9c6",
   "metadata": {},
   "outputs": [
    {
     "data": {
      "text/plain": [
       "'bigdata'"
      ]
     },
     "execution_count": 72,
     "metadata": {},
     "output_type": "execute_result"
    }
   ],
   "source": [
    "b[2]"
   ]
  },
  {
   "cell_type": "code",
   "execution_count": 74,
   "id": "3580724a-bfea-4083-822e-6d3032a6c95f",
   "metadata": {},
   "outputs": [
    {
     "data": {
      "text/plain": [
       "4"
      ]
     },
     "execution_count": 74,
     "metadata": {},
     "output_type": "execute_result"
    }
   ],
   "source": [
    "a=[1,2,3,4]\n",
    "len(a)"
   ]
  },
  {
   "cell_type": "code",
   "execution_count": 76,
   "id": "b36afdb2-c48a-4384-a338-5615e9a18a2e",
   "metadata": {},
   "outputs": [
    {
     "data": {
      "text/plain": [
       "[1, 2, 3, 4, 5, 6, 7]"
      ]
     },
     "execution_count": 76,
     "metadata": {},
     "output_type": "execute_result"
    }
   ],
   "source": [
    "a=[1,2,3,4]\n",
    "b=[5,6,7]\n",
    "a+b"
   ]
  },
  {
   "cell_type": "code",
   "execution_count": 78,
   "id": "0920d7d8-8dd5-43a8-a69b-32ce83d68cc2",
   "metadata": {},
   "outputs": [
    {
     "data": {
      "text/plain": [
       "[1, 2, 3, 4, 1, 2, 3, 4]"
      ]
     },
     "execution_count": 78,
     "metadata": {},
     "output_type": "execute_result"
    }
   ],
   "source": [
    "a*2"
   ]
  },
  {
   "cell_type": "code",
   "execution_count": 80,
   "id": "21892bc0-8840-49c7-a6f8-af8e2c0ce00a",
   "metadata": {},
   "outputs": [
    {
     "data": {
      "text/plain": [
       "'show'"
      ]
     },
     "execution_count": 80,
     "metadata": {},
     "output_type": "execute_result"
    }
   ],
   "source": [
    "a=['show','how','to','index','into','sequences']\n",
    "a[0]"
   ]
  },
  {
   "cell_type": "code",
   "execution_count": 82,
   "id": "447c51eb-c23d-4455-9100-005ad53dcf5a",
   "metadata": {},
   "outputs": [
    {
     "data": {
      "text/plain": [
       "'sequences'"
      ]
     },
     "execution_count": 82,
     "metadata": {},
     "output_type": "execute_result"
    }
   ],
   "source": [
    "a[5]"
   ]
  },
  {
   "cell_type": "code",
   "execution_count": 84,
   "id": "9dcebded-4e45-4d2e-8383-a0f7e02a7ef7",
   "metadata": {},
   "outputs": [
    {
     "data": {
      "text/plain": [
       "'sequences'"
      ]
     },
     "execution_count": 84,
     "metadata": {},
     "output_type": "execute_result"
    }
   ],
   "source": [
    "a[-1]"
   ]
  },
  {
   "cell_type": "code",
   "execution_count": 86,
   "id": "b66f335b-7f40-43ad-8abe-98b390e5b8e7",
   "metadata": {},
   "outputs": [
    {
     "data": {
      "text/plain": [
       "'show'"
      ]
     },
     "execution_count": 86,
     "metadata": {},
     "output_type": "execute_result"
    }
   ],
   "source": [
    "a[-6]"
   ]
  },
  {
   "cell_type": "code",
   "execution_count": 88,
   "id": "28e1de97-4fcb-4fee-9f42-180e9a62a565",
   "metadata": {},
   "outputs": [
    {
     "data": {
      "text/plain": [
       "['how', 'to', 'index']"
      ]
     },
     "execution_count": 88,
     "metadata": {},
     "output_type": "execute_result"
    }
   ],
   "source": [
    "a[1:4]"
   ]
  },
  {
   "cell_type": "code",
   "execution_count": 90,
   "id": "98c7d0ac-fd98-4aff-8e96-1dc3a546dcd0",
   "metadata": {},
   "outputs": [
    {
     "data": {
      "text/plain": [
       "['how', 'to', 'index', 'into']"
      ]
     },
     "execution_count": 90,
     "metadata": {},
     "output_type": "execute_result"
    }
   ],
   "source": [
    "a[1:-1]"
   ]
  },
  {
   "cell_type": "code",
   "execution_count": 92,
   "id": "5eb6d966-8448-44ca-aa05-bfe65617216a",
   "metadata": {},
   "outputs": [
    {
     "data": {
      "text/plain": [
       "['index', 'into', 'sequences']"
      ]
     },
     "execution_count": 92,
     "metadata": {},
     "output_type": "execute_result"
    }
   ],
   "source": [
    "a[3:]"
   ]
  },
  {
   "cell_type": "code",
   "execution_count": 94,
   "id": "8bd701e0-00d4-4a78-ad9a-fa66f495aafd",
   "metadata": {},
   "outputs": [
    {
     "name": "stdout",
     "output_type": "stream",
     "text": [
      "[1, 2, 3, 4]\n"
     ]
    }
   ],
   "source": [
    "a=[1,2,3]\n",
    "a.append(4)\n",
    "print(a)"
   ]
  },
  {
   "cell_type": "code",
   "execution_count": 96,
   "id": "738db745-b072-430a-939c-62031e779641",
   "metadata": {},
   "outputs": [
    {
     "name": "stdout",
     "output_type": "stream",
     "text": [
      "[1, 3, 9, 10]\n"
     ]
    }
   ],
   "source": [
    "a=[10,1,9,3]\n",
    "a.sort()\n",
    "print(a)"
   ]
  },
  {
   "cell_type": "code",
   "execution_count": 98,
   "id": "6b87e736-cb0a-467c-8577-e7a464ff817e",
   "metadata": {},
   "outputs": [
    {
     "name": "stdout",
     "output_type": "stream",
     "text": [
      "[1, 3, 10]\n"
     ]
    }
   ],
   "source": [
    "a.remove(9)\n",
    "print(a)"
   ]
  },
  {
   "cell_type": "code",
   "execution_count": 100,
   "id": "43ae665d-5a9b-4c04-ac08-827d869d857f",
   "metadata": {},
   "outputs": [
    {
     "name": "stdout",
     "output_type": "stream",
     "text": [
      "2\n"
     ]
    }
   ],
   "source": [
    "a=[1,3,5,3,7,9]\n",
    "b=a.count(3)\n",
    "print(b)"
   ]
  },
  {
   "cell_type": "code",
   "execution_count": 102,
   "id": "47784582-11b7-497a-bdb5-c900f15dfa67",
   "metadata": {},
   "outputs": [
    {
     "name": "stdout",
     "output_type": "stream",
     "text": [
      "(1, 2, 3, 4, 5, 6)\n"
     ]
    }
   ],
   "source": [
    "a=(1,2,3,4)\n",
    "b=(5,6)\n",
    "c=a+b\n",
    "print(c)"
   ]
  },
  {
   "cell_type": "code",
   "execution_count": 108,
   "id": "71ac8a69-c508-4a1b-8463-461393b81514",
   "metadata": {},
   "outputs": [
    {
     "name": "stdout",
     "output_type": "stream",
     "text": [
      "{'name': 'kim', 'age': 21}\n",
      "kim\n"
     ]
    }
   ],
   "source": [
    "a={'name':'kim', 'age':21}\n",
    "print(a)\n",
    "print(a['name'])"
   ]
  },
  {
   "cell_type": "code",
   "execution_count": 110,
   "id": "85d93339-4439-4589-81e7-259f594701b3",
   "metadata": {},
   "outputs": [
    {
     "data": {
      "text/plain": [
       "set"
      ]
     },
     "execution_count": 110,
     "metadata": {},
     "output_type": "execute_result"
    }
   ],
   "source": [
    "a={1,2,3}\n",
    "type(a)"
   ]
  },
  {
   "cell_type": "code",
   "execution_count": 112,
   "id": "254be0ec-7ec1-4057-96e9-3c28462c3948",
   "metadata": {},
   "outputs": [
    {
     "name": "stdout",
     "output_type": "stream",
     "text": [
      "{1, 2}\n"
     ]
    }
   ],
   "source": [
    "b=set([1,2,4])\n",
    "c=a&b\n",
    "print(c)"
   ]
  },
  {
   "cell_type": "code",
   "execution_count": 114,
   "id": "1be1ab48-1483-452b-a215-9ece28c9efd3",
   "metadata": {},
   "outputs": [
    {
     "name": "stdout",
     "output_type": "stream",
     "text": [
      "{1, 2, 3, 4}\n"
     ]
    }
   ],
   "source": [
    "d=set([1,2,3,3,4])\n",
    "print(d)"
   ]
  },
  {
   "cell_type": "code",
   "execution_count": 116,
   "id": "f640bdbd-ab1a-476c-89df-010776da87be",
   "metadata": {},
   "outputs": [
    {
     "data": {
      "text/plain": [
       "bool"
      ]
     },
     "execution_count": 116,
     "metadata": {},
     "output_type": "execute_result"
    }
   ],
   "source": [
    "a=True\n",
    "b=False\n",
    "type(a)"
   ]
  },
  {
   "cell_type": "code",
   "execution_count": 118,
   "id": "271a4aea-469b-430a-9bb4-68d74030c7cd",
   "metadata": {},
   "outputs": [
    {
     "name": "stdout",
     "output_type": "stream",
     "text": [
      "1\n",
      "0\n"
     ]
    }
   ],
   "source": [
    "print(int(True))\n",
    "print(int(b))"
   ]
  },
  {
   "cell_type": "code",
   "execution_count": 120,
   "id": "9af62ed1-bcc7-4c6d-8c12-c920495beaf4",
   "metadata": {},
   "outputs": [
    {
     "data": {
      "text/plain": [
       "True"
      ]
     },
     "execution_count": 120,
     "metadata": {},
     "output_type": "execute_result"
    }
   ],
   "source": [
    "10>9"
   ]
  },
  {
   "cell_type": "code",
   "execution_count": 122,
   "id": "b9b931d0-d974-4cf1-ad75-2e9bdbb0e306",
   "metadata": {},
   "outputs": [
    {
     "data": {
      "text/plain": [
       "False"
      ]
     },
     "execution_count": 122,
     "metadata": {},
     "output_type": "execute_result"
    }
   ],
   "source": [
    "3<2"
   ]
  },
  {
   "cell_type": "code",
   "execution_count": 124,
   "id": "24847996-88f7-4829-8957-15a29a18689c",
   "metadata": {},
   "outputs": [
    {
     "data": {
      "text/plain": [
       "True"
      ]
     },
     "execution_count": 124,
     "metadata": {},
     "output_type": "execute_result"
    }
   ],
   "source": [
    "3>=2"
   ]
  },
  {
   "cell_type": "code",
   "execution_count": 126,
   "id": "8c8befd6-b715-4ca3-92da-105c9f7f071b",
   "metadata": {},
   "outputs": [
    {
     "data": {
      "text/plain": [
       "True"
      ]
     },
     "execution_count": 126,
     "metadata": {},
     "output_type": "execute_result"
    }
   ],
   "source": [
    "9==9"
   ]
  },
  {
   "cell_type": "code",
   "execution_count": 128,
   "id": "aadbe77b-e309-454c-b41e-52a2742e9cf5",
   "metadata": {},
   "outputs": [
    {
     "data": {
      "text/plain": [
       "False"
      ]
     },
     "execution_count": 128,
     "metadata": {},
     "output_type": "execute_result"
    }
   ],
   "source": [
    "9!=9"
   ]
  },
  {
   "cell_type": "code",
   "execution_count": 130,
   "id": "f816847c-fdd6-4e99-96aa-5f2a4b5e9dfa",
   "metadata": {},
   "outputs": [
    {
     "name": "stdout",
     "output_type": "stream",
     "text": [
      "300\n",
      "1\n",
      "0\n",
      "1\n"
     ]
    }
   ],
   "source": [
    "print(int('300'))\n",
    "print(int(True))\n",
    "print(int(False))\n",
    "print(int(1.5))"
   ]
  },
  {
   "cell_type": "code",
   "execution_count": 132,
   "id": "4e1366f7-f1f1-423a-88d2-87673b9456c6",
   "metadata": {},
   "outputs": [
    {
     "ename": "ValueError",
     "evalue": "invalid literal for int() with base 10: 'hi'",
     "output_type": "error",
     "traceback": [
      "\u001b[1;31m---------------------------------------------------------------------------\u001b[0m",
      "\u001b[1;31mValueError\u001b[0m                                Traceback (most recent call last)",
      "Cell \u001b[1;32mIn[132], line 1\u001b[0m\n\u001b[1;32m----> 1\u001b[0m \u001b[38;5;28mprint\u001b[39m(\u001b[38;5;28mint\u001b[39m(\u001b[38;5;124m'\u001b[39m\u001b[38;5;124mhi\u001b[39m\u001b[38;5;124m'\u001b[39m))\n",
      "\u001b[1;31mValueError\u001b[0m: invalid literal for int() with base 10: 'hi'"
     ]
    }
   ],
   "source": [
    "print(int('hi'))"
   ]
  },
  {
   "cell_type": "code",
   "execution_count": 134,
   "id": "5286d444-344c-47d5-808d-ec8a9342ae77",
   "metadata": {},
   "outputs": [
    {
     "name": "stdout",
     "output_type": "stream",
     "text": [
      "100.0\n",
      "2.2\n",
      "0.0\n"
     ]
    }
   ],
   "source": [
    "print(float(100))\n",
    "print(float('2.2'))\n",
    "print(float(False))"
   ]
  },
  {
   "cell_type": "code",
   "execution_count": 136,
   "id": "0c68b2ea-438d-423c-b2f6-4d784d3c5591",
   "metadata": {},
   "outputs": [
    {
     "name": "stdout",
     "output_type": "stream",
     "text": [
      "100\n",
      "2.2\n",
      "True\n"
     ]
    }
   ],
   "source": [
    "print(str(100))\n",
    "print(str(2.2))\n",
    "print(str(True))"
   ]
  },
  {
   "cell_type": "code",
   "execution_count": 138,
   "id": "2da09798-6ec7-48ee-a4d3-91c147ce49f1",
   "metadata": {},
   "outputs": [
    {
     "name": "stdout",
     "output_type": "stream",
     "text": [
      "<class 'str'>\n"
     ]
    }
   ],
   "source": [
    "print(type(str(False)))"
   ]
  },
  {
   "cell_type": "code",
   "execution_count": 140,
   "id": "25f80aa8-3682-47b6-96fc-7b98a4a7da3b",
   "metadata": {},
   "outputs": [
    {
     "name": "stdout",
     "output_type": "stream",
     "text": [
      "x가y보다 작다\n"
     ]
    }
   ],
   "source": [
    "x=1\n",
    "y=2\n",
    "if x<y:\n",
    "    print('x가y보다 작다')\n",
    "else:\n",
    "    print('x가y보다 크다')"
   ]
  },
  {
   "cell_type": "code",
   "execution_count": 142,
   "id": "2cdb4bcd-1f43-4514-bf51-a92625aff2ef",
   "metadata": {},
   "outputs": [
    {
     "name": "stdout",
     "output_type": "stream",
     "text": [
      "1\n",
      "2\n",
      "3\n",
      "4\n",
      "5\n"
     ]
    }
   ],
   "source": [
    "a=['1','2','3','4','5']\n",
    "for i in a:\n",
    "    print(i)"
   ]
  },
  {
   "cell_type": "code",
   "execution_count": 144,
   "id": "5b591cec-7186-459f-8fa2-c052817dd326",
   "metadata": {},
   "outputs": [
    {
     "data": {
      "text/plain": [
       "3"
      ]
     },
     "execution_count": 144,
     "metadata": {},
     "output_type": "execute_result"
    }
   ],
   "source": [
    "abs(-3)"
   ]
  },
  {
   "cell_type": "code",
   "execution_count": 146,
   "id": "9bc06db6-d4b3-47d9-b13f-c79a6cf7c963",
   "metadata": {},
   "outputs": [
    {
     "data": {
      "text/plain": [
       "6"
      ]
     },
     "execution_count": 146,
     "metadata": {},
     "output_type": "execute_result"
    }
   ],
   "source": [
    "len('python')"
   ]
  },
  {
   "cell_type": "code",
   "execution_count": 148,
   "id": "a2ae9daf-950f-4a06-a0fe-0d77f2a01a06",
   "metadata": {},
   "outputs": [
    {
     "data": {
      "text/plain": [
       "3"
      ]
     },
     "execution_count": 148,
     "metadata": {},
     "output_type": "execute_result"
    }
   ],
   "source": [
    "len([1,2,3])"
   ]
  },
  {
   "cell_type": "code",
   "execution_count": 150,
   "id": "ec1ac0ce-df59-49f6-9bdc-88523f5eac62",
   "metadata": {},
   "outputs": [
    {
     "data": {
      "text/plain": [
       "3"
      ]
     },
     "execution_count": 150,
     "metadata": {},
     "output_type": "execute_result"
    }
   ],
   "source": [
    "max([1,2,3])"
   ]
  },
  {
   "cell_type": "code",
   "execution_count": 152,
   "id": "969e3973-904f-436f-b059-165926875c9a",
   "metadata": {},
   "outputs": [
    {
     "data": {
      "text/plain": [
       "1"
      ]
     },
     "execution_count": 152,
     "metadata": {},
     "output_type": "execute_result"
    }
   ],
   "source": [
    "min([1,2,3])"
   ]
  },
  {
   "cell_type": "code",
   "execution_count": 154,
   "id": "8ec3d517-1572-4e56-97b3-7710d0d55b4d",
   "metadata": {},
   "outputs": [
    {
     "data": {
      "text/plain": [
       "6"
      ]
     },
     "execution_count": 154,
     "metadata": {},
     "output_type": "execute_result"
    }
   ],
   "source": [
    "a=[1,2,3]\n",
    "sum(a)"
   ]
  },
  {
   "cell_type": "code",
   "execution_count": 156,
   "id": "0eb872b3-5347-45dc-b377-7ccbf7f2fb2e",
   "metadata": {},
   "outputs": [
    {
     "data": {
      "text/plain": [
       "range(0, 10)"
      ]
     },
     "execution_count": 156,
     "metadata": {},
     "output_type": "execute_result"
    }
   ],
   "source": [
    "range(10)"
   ]
  },
  {
   "cell_type": "code",
   "execution_count": 160,
   "id": "56e93ccb-47a5-40b1-a83c-ac7587e852ad",
   "metadata": {},
   "outputs": [
    {
     "name": "stdout",
     "output_type": "stream",
     "text": [
      "[0, 1, 2, 3, 4, 5, 6, 7, 8, 9]\n"
     ]
    }
   ],
   "source": [
    "print(list(range(10)))"
   ]
  },
  {
   "cell_type": "code",
   "execution_count": 162,
   "id": "53f711e1-b6a2-4287-8af7-e5d98a869b2b",
   "metadata": {},
   "outputs": [
    {
     "name": "stdout",
     "output_type": "stream",
     "text": [
      "[1, 1, 2, 3, 3, 4, 5, 5, 6, 9]\n"
     ]
    }
   ],
   "source": [
    "my_list = [3,1,4,1,5,9,2,6,5,3]\n",
    "sorted_list = sorted(my_list)\n",
    "print(sorted_list)"
   ]
  },
  {
   "cell_type": "code",
   "execution_count": 164,
   "id": "5de3628f-3113-45c2-b5fa-08ddb77f121e",
   "metadata": {},
   "outputs": [
    {
     "name": "stdout",
     "output_type": "stream",
     "text": [
      "[1, 1, 2, 3, 3, 4, 5, 5, 6, 9]\n"
     ]
    }
   ],
   "source": [
    "my_list = [3,1,4,1,5,9,2,6,5,3]\n",
    "my_list.sort()\n",
    "print(my_list)"
   ]
  },
  {
   "cell_type": "code",
   "execution_count": 168,
   "id": "f0a73599-2c4f-4cb7-8ca0-5eb945248a32",
   "metadata": {},
   "outputs": [
    {
     "name": "stdout",
     "output_type": "stream",
     "text": [
      "[9, 6, 5, 5, 4, 3, 3, 2, 1, 1]\n"
     ]
    }
   ],
   "source": [
    "my_list = [3,1,4,1,5,9,2,6,5,3]\n",
    "sorted_list_desc = sorted(my_list, reverse=True)\n",
    "print(sorted_list_desc)"
   ]
  },
  {
   "cell_type": "code",
   "execution_count": null,
   "id": "1de3870e-b01d-4bba-b008-ee9ec3d02927",
   "metadata": {},
   "outputs": [],
   "source": []
  }
 ],
 "metadata": {
  "kernelspec": {
   "display_name": "Python [conda env:base] *",
   "language": "python",
   "name": "conda-base-py"
  },
  "language_info": {
   "codemirror_mode": {
    "name": "ipython",
    "version": 3
   },
   "file_extension": ".py",
   "mimetype": "text/x-python",
   "name": "python",
   "nbconvert_exporter": "python",
   "pygments_lexer": "ipython3",
   "version": "3.11.5"
  }
 },
 "nbformat": 4,
 "nbformat_minor": 5
}
