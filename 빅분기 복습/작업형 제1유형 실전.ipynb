{
 "cells": [
  {
   "cell_type": "code",
   "execution_count": null,
   "id": "ced436de-2028-45d5-b72d-5a7844a0510b",
   "metadata": {},
   "outputs": [],
   "source": [
    "# 01. 주어진 캘리포니아 주택 데이터에서 결측치가 있는 경우 해당 데이터 행을 제외하고 첫 번째 행부터 순서대로 70% 데이터를 추출하여 \"housing_median_age\"변수의\n",
    "# Q1(1사분위)값을 정수로 출력하시오.\n",
    "import pandas as pd\n",
    "house = pd.read_csv(r\"D:\\2025 단축키 빅데이터분석기사_파이썬\\작업형 제1유형\\data\\housing.csv\")"
   ]
  },
  {
   "cell_type": "code",
   "execution_count": null,
   "id": "0855a2a4-dc5b-4b71-9ff0-b185f2ec3aeb",
   "metadata": {},
   "outputs": [],
   "source": [
    "# 02. 주어진 캘리포니아 주택 데이터에서 첫번째 행부터 순서대로 80%까지의 데이터를 추출한 후 'total_bedrooms'변수의 결측값(NA)을 'total_bedrooms'변수의 중앙값으로\n",
    "# 대체하고 대체 전의 'total_bedrooms'변수의 표준편차와 대체 후의 표준편차의 차이의 절대값을 구하시오.\n",
    "# (답안은 소수점 3째 자리에서 반올림해서 소수점 2째 자리까지 출력하시오.)\n",
    "import pandas as pd\n",
    "house = pd.read_csv(r\"D:\\2025 단축키 빅데이터분석기사_파이썬\\작업형 제1유형\\data\\housing.csv\")"
   ]
  },
  {
   "cell_type": "code",
   "execution_count": null,
   "id": "6beb319f-8270-4575-9080-74210383394f",
   "metadata": {},
   "outputs": [],
   "source": [
    "# 03. 타이타닉 데이터의 컬럼 중 빈값 또는 결측치를 구하고 결측값 비율이 가장 높은 컬럼명을 출력하시오.\n",
    "import pandas as pd\n",
    "titanic = pd.read_csv(r\"D:\\2025 단축키 빅데이터분석기사_파이썬\\작업형 제1유형\\data\\train_df1.csv\")"
   ]
  },
  {
   "cell_type": "code",
   "execution_count": null,
   "id": "0ad684ce-f21e-4d19-86ca-b5e7434d2aed",
   "metadata": {},
   "outputs": [],
   "source": [
    "# 04. Boston Housing 데이터이다. 범죄율 컬럼인 'CRIM'변수의 상위에서 10번째 값(즉, 범죄율을 큰 순서로 정렬했을 때 10번째에 위치한 값)으로 상위 10개의 값을\n",
    "# 변환한 후 'AGE'변수가 80이상인 데이터를 추출하여 'CRIM'변수의 평균을 출력하시오.\n",
    "import pandas as pd\n",
    "boston = pd.read_csv(r\"D:\\2025 단축키 빅데이터분석기사_파이썬\\작업형 제1유형\\data\\boston.csv\")"
   ]
  },
  {
   "cell_type": "code",
   "execution_count": null,
   "id": "598dae74-9d51-43ab-b505-a7a9a4f5ade0",
   "metadata": {},
   "outputs": [],
   "source": [
    "# 05. insurance 데이터 셋이다. charges 변수의 이상치 합을 구하시오(이상치는 평균에서 +- 1.5 * 표준편차 벗어나는 이상 및 이하값이고 답안은 정수로 출력)\n",
    "import pandas as pd\n",
    "insurance = pd.read_csv(r\"D:\\2025 단축키 빅데이터분석기사_파이썬\\작업형 제1유형\\data\\insurance.csv\")"
   ]
  },
  {
   "cell_type": "code",
   "execution_count": null,
   "id": "6e7a6f97-d4af-471d-99f4-1c73c056c8c7",
   "metadata": {},
   "outputs": [],
   "source": [
    "# 06. mtcars 데이터이다. wt 컬럼을 최소-최대 척도(min-max scale)변환한 후 0.5보다 큰 레코드 수를 출력하시오.\n",
    "import pandas as pd\n",
    "mtcar = pd.read_csv(r\"D:\\2025 단축키 빅데이터분석기사_파이썬\\작업형 제1유형\\data\\mtcars.csv\")"
   ]
  },
  {
   "cell_type": "code",
   "execution_count": null,
   "id": "e2053d42-32dc-4b4b-8054-ef931a6428bc",
   "metadata": {},
   "outputs": [],
   "source": [
    "# 07. 다음은 국가별 연도별 인구 10만 명당 유병률 데이터이다. 2000년도의 국가별 결핵 유병률 데이터에서 2000년도의 평균값보다 큰 유병률 값을 가진 국가수를 출력하시오.\n",
    "import pandas as pd\n",
    "df = pd.read_csv(r\"D:\\2025 단축키 빅데이터분석기사_파이썬\\작업형 제1유형\\data\\disease.csv\")"
   ]
  },
  {
   "cell_type": "code",
   "execution_count": null,
   "id": "c04af298-e4f0-443a-8df1-e33570f59612",
   "metadata": {},
   "outputs": [],
   "source": [
    "# 08. 데이터는 페이스북의 라이브에 대한 사용자 반응을 집계한 것이다. 여러 반응 중 love 반응(num_loves)과 wow 반응(num_wows)을 매우 긍정적인 반응이라고 정의\n",
    "# 할 때 전체 반응의 수(num_reactions)에서 매우 긍정적인 반응의 수가 차지하는 비율을 계산한 후 그 비율이 0.5보다 작고, 0.4보다 크며 유형이 비디오(video)인\n",
    "# 건수를 정수로 출력하시오.\n",
    "import pandas as pd\n",
    "df = pd.read_csv(r\"D:\\2025 단축키 빅데이터분석기사_파이썬\\작업형 제1유형\\data\\facebook.csv\")"
   ]
  },
  {
   "cell_type": "code",
   "execution_count": null,
   "id": "dcd60ede-9be3-4021-bce3-484002d4127c",
   "metadata": {},
   "outputs": [],
   "source": [
    "# 09. 데이터는 넷플릭스 등록 콘텐츠의 메타데이터이다. 2018년 1월 중 넷플릭스에 등록된 콘텐츠 중에서 \"United kingdom\"이 단독 제작한 콘텐츠의 수를 정수로 출력하시오.\n",
    "import pandas as pd\n",
    "df = pd.read_csv(r\"D:\\2025 단축키 빅데이터분석기사_파이썬\\작업형 제1유형\\data\\netflix.csv\", encoding_errors='ignore')"
   ]
  },
  {
   "cell_type": "code",
   "execution_count": null,
   "id": "52649715-c3d4-40d0-9d8d-cc64846a0ffc",
   "metadata": {},
   "outputs": [],
   "source": [
    "# 10. 주어진 y컬럼의 모든 데이터를 활용하여 1사분위수와 3사분위수 차이를 절대값으로 구하고 구한 절대값의 소수점을 버리고 정수로 출력하시오.\n",
    "# (단, 출력화면에는 정답인 정수만 출력)\n",
    "import numpy as np\n",
    "import pandas as pd\n",
    "x = np.random.choice(range(1,21), size=10, replace=False)\n",
    "y = [1,2,3,4,5,37,41,42,44,10]"
   ]
  },
  {
   "cell_type": "code",
   "execution_count": null,
   "id": "59f70d10-c189-44e2-9c24-c2c558d6f0a5",
   "metadata": {},
   "outputs": [],
   "source": [
    "# 11. 종량제 봉투 가격과 관련된 데이터이다. 용도가 \"음식물쓰레기\"이고 사용대상이 \"가정용\"인 \"2L\"가격의 평균을 소수점을 버린 후 정수로 출력하시오.\n",
    "# (단 2L가격 컬럼은 종량제 봉투가 존재하면 가격을 값으로, 존재하지 않으면 0을 값으로 기록된다.)\n",
    "import pandas as pd\n",
    "df = pd.read_csv(r\"D:\\2025 단축키 빅데이터분석기사_파이썬\\작업형 제1유형\\data\\trash.csv\", encoding='euc_kr')"
   ]
  },
  {
   "cell_type": "code",
   "execution_count": null,
   "id": "251d97a4-f389-44cc-9164-239e8d72b50f",
   "metadata": {},
   "outputs": [],
   "source": [
    "# 12. 비만도가 정상에 속하는 인원 수와 과체중에 속하는 인원수의 차이를 정수로 출력하시오.\n",
    "# 단 BMI 지수는 Weight/(Height)^2, Weight 단위는 kg, Height 단위는 m이다.\n",
    "# 18.5미만 = 저체중\n",
    "# 18.5이상 23미만 = 정상\n",
    "# 23이상 25미만 = 과체중\n",
    "# 25이상 30미만 = 경도비만\n",
    "# 30이상 = 중등비만\n",
    "import pandas as pd\n",
    "df = pd.read_csv(r\"D:\\2025 단축키 빅데이터분석기사_파이썬\\작업형 제1유형\\data\\bmi.csv\")"
   ]
  },
  {
   "cell_type": "code",
   "execution_count": null,
   "id": "810416a8-85b7-4147-9139-559a96ea1768",
   "metadata": {},
   "outputs": [],
   "source": [
    "# 13. students.csv는 '학교','학년','총 전입학생','총 전출학생','전체 학생수' 변수를 포함한 데이터이다.\n",
    "# 순 전입학생수는 총전입학생 수에서 총전출학생 수의 차이를 의미한다.\n",
    "# 순전입학생이 가장 많은 학교의 전체학생수를 출력하시오.\n",
    "import pandas as pd\n",
    "df = pd.read_csv(r\"D:\\2025 단축키 빅데이터분석기사_파이썬\\작업형 제1유형\\data\\students.csv\", encoding='euc-kr')"
   ]
  },
  {
   "cell_type": "code",
   "execution_count": null,
   "id": "8c0c25f0-d271-4f18-86d2-5220d3bb5008",
   "metadata": {},
   "outputs": [],
   "source": [
    "# 14. 출동소방서별로 주민으로부터 연락받은 신고일시와 출동한 출동일시를 기록한 데이터 파일이다. 출동소방서별 신고일시부터 출동일시까지의 연도별 월평균을 구하고\n",
    "# 가장 늦게 출발한 출동 소방서의 월평균 시간을 분단위로 제출하시오.(30초 단위로 반올림하여 제출)\n",
    "import pandas as pd\n",
    "from datetime import datetime\n",
    "df = pd.read_csv(r\"D:\\2025 단축키 빅데이터분석기사_파이썬\\작업형 제1유형\\data\\firestation.csv\")"
   ]
  },
  {
   "cell_type": "code",
   "execution_count": null,
   "id": "cbb8820a-532f-4ace-8d31-618292e2a70c",
   "metadata": {},
   "outputs": [],
   "source": [
    "# 15. 초등학교의 학년별 학생 수와 교사 수 저장한 데이터이다. 교사 1인당 학생 수가 가장 많은 학교를 선정하고, 선정된 학교의 교사 수를 정수로 출력하시오.\n",
    "# (학교명의 중복은 없고 단일 학교의 학생수, 교사수 데이터만 존재한다.)\n",
    "import pandas as pd\n",
    "df = pd.read_csv(r\"D:\\2025 단축키 빅데이터분석기사_파이썬\\작업형 제1유형\\data\\elementary.csv\")"
   ]
  },
  {
   "cell_type": "code",
   "execution_count": null,
   "id": "ff1d0f0c-6c86-40fa-a3e4-eae6f7a9bc34",
   "metadata": {},
   "outputs": [],
   "source": [
    "# 16. 월별 범죄 데이터이다. 연도별 월평균 범죄건수를 구하고, 가장 범죄가 많이 발생한 연도의 월평균 범죄 건수를 정수로 출력하시오.\n",
    "import pandas as pd\n",
    "df = pd.read_csv(r\"D:\\2025 단축키 빅데이터분석기사_파이썬\\작업형 제1유형\\data\\crime.csv\")"
   ]
  }
 ],
 "metadata": {
  "kernelspec": {
   "display_name": "Python [conda env:base] *",
   "language": "python",
   "name": "conda-base-py"
  },
  "language_info": {
   "codemirror_mode": {
    "name": "ipython",
    "version": 3
   },
   "file_extension": ".py",
   "mimetype": "text/x-python",
   "name": "python",
   "nbconvert_exporter": "python",
   "pygments_lexer": "ipython3",
   "version": "3.11.5"
  }
 },
 "nbformat": 4,
 "nbformat_minor": 5
}
