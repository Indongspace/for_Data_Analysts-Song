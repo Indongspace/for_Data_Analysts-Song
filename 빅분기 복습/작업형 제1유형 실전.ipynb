{
 "cells": [
  {
   "cell_type": "code",
   "execution_count": 33,
   "id": "ced436de-2028-45d5-b72d-5a7844a0510b",
   "metadata": {},
   "outputs": [
    {
     "name": "stdout",
     "output_type": "stream",
     "text": [
      "19\n"
     ]
    }
   ],
   "source": [
    "# 01. 주어진 캘리포니아 주택 데이터에서 결측치가 있는 경우 해당 데이터 행을 제외하고 첫 번째 행부터 순서대로 70% 데이터를 추출하여 \"housing_median_age\"변수의\n",
    "# Q1(1사분위)값을 정수로 출력하시오.\n",
    "import pandas as pd\n",
    "house = pd.read_csv(r\"D:\\2025 단축키 빅데이터분석기사_파이썬\\작업형 제1유형\\data\\housing.csv\")\n",
    "house = house.dropna()\n",
    "len_70 = int(len(house) * 0.7)\n",
    "house_70 = house.iloc[:len_70]\n",
    "ans = house_70['housing_median_age'].quantile(0.25)\n",
    "print(int(ans))"
   ]
  },
  {
   "cell_type": "code",
   "execution_count": 63,
   "id": "0855a2a4-dc5b-4b71-9ff0-b185f2ec3aeb",
   "metadata": {},
   "outputs": [
    {
     "name": "stderr",
     "output_type": "stream",
     "text": [
      "C:\\Users\\SongInseung\\AppData\\Local\\Temp\\ipykernel_35312\\131583294.py:9: SettingWithCopyWarning: \n",
      "A value is trying to be set on a copy of a slice from a DataFrame.\n",
      "Try using .loc[row_indexer,col_indexer] = value instead\n",
      "\n",
      "See the caveats in the documentation: https://pandas.pydata.org/pandas-docs/stable/user_guide/indexing.html#returning-a-view-versus-a-copy\n",
      "  house_80['total_bedrooms'] = house_80['total_bedrooms'].fillna(median)\n"
     ]
    },
    {
     "data": {
      "text/plain": [
       "1.98"
      ]
     },
     "execution_count": 63,
     "metadata": {},
     "output_type": "execute_result"
    }
   ],
   "source": [
    "# 02. 주어진 캘리포니아 주택 데이터에서 첫번째 행부터 순서대로 80%까지의 데이터를 추출한 후 'total_bedrooms'변수의 결측값(NA)을 'total_bedrooms'변수의 중앙값으로\n",
    "# 대체하고 대체 전의 'total_bedrooms'변수의 표준편차와 대체 후의 표준편차의 차이의 절대값을 구하시오.\n",
    "# (답안은 소수점 3째 자리에서 반올림해서 소수점 2째 자리까지 출력하시오.)\n",
    "import pandas as pd\n",
    "house = pd.read_csv(r\"D:\\2025 단축키 빅데이터분석기사_파이썬\\작업형 제1유형\\data\\housing.csv\")\n",
    "house_80 = house[:int(len(house)*0.8)]\n",
    "median = house_80['total_bedrooms'].median()\n",
    "std_na = house_80['total_bedrooms'].std()\n",
    "house_80['total_bedrooms'] = house_80['total_bedrooms'].fillna(median)\n",
    "std_af = house_80['total_bedrooms'].std()\n",
    "round(abs(std_na - std_af), 2)\n"
   ]
  },
  {
   "cell_type": "code",
   "execution_count": 100,
   "id": "6beb319f-8270-4575-9080-74210383394f",
   "metadata": {},
   "outputs": [
    {
     "data": {
      "text/plain": [
       "'Cabin'"
      ]
     },
     "execution_count": 100,
     "metadata": {},
     "output_type": "execute_result"
    }
   ],
   "source": [
    "# 03. 타이타닉 데이터의 컬럼 중 빈값 또는 결측치를 구하고 결측값 비율이 가장 높은 컬럼명을 출력하시오.\n",
    "import pandas as pd\n",
    "titanic = pd.read_csv(r\"D:\\2025 단축키 빅데이터분석기사_파이썬\\작업형 제1유형\\data\\train_df1.csv\")\n",
    "#titanic_na = titanic.isna().sum()\n",
    "#ratio = titanic_na / len(titanic)\n",
    "#ratio_desc = ratio.sort_values(ascending=False)\n",
    "#ratio_desc.index[0]\n",
    "df = titanic.isna().sum()\n",
    "df.index[df.argmax()]"
   ]
  },
  {
   "cell_type": "code",
   "execution_count": 112,
   "id": "0ad684ce-f21e-4d19-86ca-b5e7434d2aed",
   "metadata": {},
   "outputs": [
    {
     "name": "stdout",
     "output_type": "stream",
     "text": [
      "5.759386625\n"
     ]
    }
   ],
   "source": [
    "# 04. Boston Housing 데이터이다. 범죄율 컬럼인 'CRIM'변수의 상위에서 10번째 값(즉, 범죄율을 큰 순서로 정렬했을 때 10번째에 위치한 값)으로 상위 10개의 값을\n",
    "# 변환한 후 'AGE'변수가 80이상인 데이터를 추출하여 'CRIM'변수의 평균을 출력하시오.\n",
    "import pandas as pd\n",
    "boston = pd.read_csv(r\"D:\\2025 단축키 빅데이터분석기사_파이썬\\작업형 제1유형\\data\\boston.csv\")\n",
    "boston = boston.sort_values(by='CRIM', ascending=False)\n",
    "boston_10 = boston.iloc[9, 0]\n",
    "boston.iloc[:10, 0] = boston_10\n",
    "boston_80 = boston[boston['AGE']>=80]\n",
    "ans = boston_80['CRIM'].mean()\n",
    "print(ans)"
   ]
  },
  {
   "cell_type": "code",
   "execution_count": 134,
   "id": "598dae74-9d51-43ab-b505-a7a9a4f5ade0",
   "metadata": {},
   "outputs": [
    {
     "data": {
      "text/plain": [
       "6421430"
      ]
     },
     "execution_count": 134,
     "metadata": {},
     "output_type": "execute_result"
    }
   ],
   "source": [
    "# 05. insurance 데이터 셋이다. charges 변수의 이상치 합을 구하시오(이상치는 평균에서 +- 1.5 * 표준편차 벗어나는 이상 및 이하값이고 답안은 정수로 출력)\n",
    "import pandas as pd\n",
    "insurance = pd.read_csv(r\"D:\\2025 단축키 빅데이터분석기사_파이썬\\작업형 제1유형\\data\\insurance.csv\")\n",
    "avg = insurance['charges'].mean()\n",
    "std = insurance['charges'].std()\n",
    "upper = avg + 1.5 * std\n",
    "lower = avg - 1.5 * std\n",
    "outlier = insurance[(insurance['charges'] >= upper) | (insurance['charges'] <= lower)]\n",
    "int(outlier['charges'].sum())"
   ]
  },
  {
   "cell_type": "code",
   "execution_count": 164,
   "id": "6e7a6f97-d4af-471d-99f4-1c73c056c8c7",
   "metadata": {},
   "outputs": [
    {
     "data": {
      "text/plain": [
       "11"
      ]
     },
     "execution_count": 164,
     "metadata": {},
     "output_type": "execute_result"
    }
   ],
   "source": [
    "# 06. mtcars 데이터이다. wt 컬럼을 최소-최대 척도(min-max scale)변환한 후 0.5보다 큰 레코드 수를 출력하시오.\n",
    "import pandas as pd\n",
    "mtcar = pd.read_csv(r\"D:\\2025 단축키 빅데이터분석기사_파이썬\\작업형 제1유형\\data\\mtcars.csv\")\n",
    "mtcar = mtcar.rename(columns={\n",
    "    'Unnamed: 0':'product_name'\n",
    "})\n",
    "#mtcar['wt'] = (mtcar['wt'] - mtcar['wt'].min()) / (mtcar['wt'].max() - mtcar['wt'].min())\n",
    "#(mtcar['wt'] > 0.5).sum()\n",
    "from sklearn.preprocessing import MinMaxScaler\n",
    "scaler = MinMaxScaler()\n",
    "mtcar['wt_scaled'] = scaler.fit_transform(mtcar[['wt']])\n",
    "(mtcar['wt_scaled'] > 0.5).sum()"
   ]
  },
  {
   "cell_type": "code",
   "execution_count": 196,
   "id": "e2053d42-32dc-4b4b-8054-ef931a6428bc",
   "metadata": {},
   "outputs": [
    {
     "data": {
      "text/plain": [
       "76"
      ]
     },
     "execution_count": 196,
     "metadata": {},
     "output_type": "execute_result"
    }
   ],
   "source": [
    "# 07. 다음은 국가별 연도별 인구 10만 명당 유병률 데이터이다. 2000년도의 국가별 결핵 유병률 데이터에서 2000년도의 평균값보다 큰 유병률 값을 가진 국가수를 출력하시오.\n",
    "import pandas as pd\n",
    "df = pd.read_csv(r\"D:\\2025 단축키 빅데이터분석기사_파이썬\\작업형 제1유형\\data\\disease.csv\")\n",
    "df = pd.melt(df, id_vars=['year'])\n",
    "df_2000 = df[df['year']==2000]\n",
    "mean_2000 = df_2000['value'].mean()\n",
    "len(df_2000[(df_2000['value'] > mean_2000)])"
   ]
  },
  {
   "cell_type": "code",
   "execution_count": 204,
   "id": "c04af298-e4f0-443a-8df1-e33570f59612",
   "metadata": {},
   "outputs": [
    {
     "data": {
      "text/plain": [
       "90"
      ]
     },
     "execution_count": 204,
     "metadata": {},
     "output_type": "execute_result"
    }
   ],
   "source": [
    "# 08. 데이터는 페이스북의 라이브에 대한 사용자 반응을 집계한 것이다. 여러 반응 중 love 반응(num_loves)과 wow 반응(num_wows)을 매우 긍정적인 반응이라고 정의\n",
    "# 할 때 전체 반응의 수(num_reactions)에서 매우 긍정적인 반응의 수가 차지하는 비율을 계산한 후 그 비율이 0.5보다 작고, 0.4보다 크며 유형이 비디오(video)인\n",
    "# 건수를 정수로 출력하시오.\n",
    "import pandas as pd\n",
    "df = pd.read_csv(r\"D:\\2025 단축키 빅데이터분석기사_파이썬\\작업형 제1유형\\data\\facebook.csv\")\n",
    "df['ratio'] = (df['num_loves'] + df['num_wows']) / df['num_reactions']\n",
    "len(df[(df['status_type']=='video')&(df['ratio']<0.5)&(df['ratio']>0.4)])"
   ]
  },
  {
   "cell_type": "code",
   "execution_count": 224,
   "id": "dcd60ede-9be3-4021-bce3-484002d4127c",
   "metadata": {},
   "outputs": [
    {
     "name": "stderr",
     "output_type": "stream",
     "text": [
      "C:\\Users\\SongInseung\\AppData\\Local\\Temp\\ipykernel_35312\\2728052788.py:4: UserWarning: Could not infer format, so each element will be parsed individually, falling back to `dateutil`. To ensure parsing is consistent and as-expected, please specify a format.\n",
      "  df['date_added'] = pd.to_datetime(df['date_added'], errors='coerce')\n"
     ]
    },
    {
     "data": {
      "text/plain": [
       "6"
      ]
     },
     "execution_count": 224,
     "metadata": {},
     "output_type": "execute_result"
    }
   ],
   "source": [
    "# 09. 데이터는 넷플릭스 등록 콘텐츠의 메타데이터이다. 2018년 1월 중 넷플릭스에 등록된 콘텐츠 중에서 \"United kingdom\"이 단독 제작한 콘텐츠의 수를 정수로 출력하시오.\n",
    "import pandas as pd\n",
    "df = pd.read_csv(r\"D:\\2025 단축키 빅데이터분석기사_파이썬\\작업형 제1유형\\data\\netflix.csv\", encoding_errors='ignore')\n",
    "df['date_added'] = pd.to_datetime(df['date_added'], errors='coerce')\n",
    "len(df[(df['date_added'] >= '2018-01-01')&(df['date_added'] < '2018-02-01')&(df['country']=='United Kingdom')])"
   ]
  },
  {
   "cell_type": "code",
   "execution_count": 242,
   "id": "52649715-c3d4-40d0-9d8d-cc64846a0ffc",
   "metadata": {},
   "outputs": [
    {
     "data": {
      "text/plain": [
       "36"
      ]
     },
     "execution_count": 242,
     "metadata": {},
     "output_type": "execute_result"
    }
   ],
   "source": [
    "# 10. 주어진 y컬럼의 모든 데이터를 활용하여 1사분위수와 3사분위수 차이를 절대값으로 구하고 구한 절대값의 소수점을 버리고 정수로 출력하시오.\n",
    "# (단, 출력화면에는 정답인 정수만 출력)\n",
    "import numpy as np\n",
    "import pandas as pd\n",
    "x = np.random.choice(range(1,21), size=10, replace=False)\n",
    "y = [1,2,3,4,5,37,41,42,44,10]\n",
    "a = pd.DataFrame({'x':x, 'y':y})\n",
    "df = a['y'].quantile([0.25, 0.5, 0.75])\n",
    "df = pd.DataFrame({'quantile':df})\n",
    "int(np.floor(abs(df.iloc[0,0] - df.iloc[2,0])))"
   ]
  },
  {
   "cell_type": "code",
   "execution_count": 250,
   "id": "59f70d10-c189-44e2-9c24-c2c558d6f0a5",
   "metadata": {},
   "outputs": [
    {
     "data": {
      "text/plain": [
       "119"
      ]
     },
     "execution_count": 250,
     "metadata": {},
     "output_type": "execute_result"
    }
   ],
   "source": [
    "# 11. 종량제 봉투 가격과 관련된 데이터이다. 용도가 \"음식물쓰레기\"이고 사용대상이 \"가정용\"인 \"2L\"가격의 평균을 소수점을 버린 후 정수로 출력하시오.\n",
    "# (단 2L가격 컬럼은 종량제 봉투가 존재하면 가격을 값으로, 존재하지 않으면 0을 값으로 기록된다.)\n",
    "import pandas as pd\n",
    "df = pd.read_csv(r\"D:\\2025 단축키 빅데이터분석기사_파이썬\\작업형 제1유형\\data\\trash.csv\", encoding='euc_kr')\n",
    "df = df[(df['용도']=='음식물쓰레기')&(df['사용대상']=='가정용')&(df['2L가격']!=0)]\n",
    "int(np.floor(df['2L가격'].mean()))"
   ]
  },
  {
   "cell_type": "code",
   "execution_count": 262,
   "id": "251d97a4-f389-44cc-9164-239e8d72b50f",
   "metadata": {},
   "outputs": [
    {
     "data": {
      "text/plain": [
       "28"
      ]
     },
     "execution_count": 262,
     "metadata": {},
     "output_type": "execute_result"
    }
   ],
   "source": [
    "# 12. 비만도가 정상에 속하는 인원 수와 과체중에 속하는 인원수의 차이를 정수로 출력하시오.\n",
    "# 단 BMI 지수는 Weight/(Height)^2, Weight 단위는 kg, Height 단위는 m이다.\n",
    "# 18.5미만 = 저체중\n",
    "# 18.5이상 23미만 = 정상\n",
    "# 23이상 25미만 = 과체중\n",
    "# 25이상 30미만 = 경도비만\n",
    "# 30이상 = 중등비만\n",
    "import pandas as pd\n",
    "df = pd.read_csv(r\"D:\\2025 단축키 빅데이터분석기사_파이썬\\작업형 제1유형\\data\\bmi.csv\")\n",
    "df['bmi'] = df['Weight'] / (df['Height']*0.01)**2\n",
    "normal = len(df[(df['bmi']>=18.5)&(df['bmi']<23)])\n",
    "over = len(df[(df['bmi']>=23)&(df['bmi']<25)])\n",
    "int(abs(normal - over))"
   ]
  },
  {
   "cell_type": "code",
   "execution_count": 286,
   "id": "810416a8-85b7-4147-9139-559a96ea1768",
   "metadata": {},
   "outputs": [
    {
     "data": {
      "text/plain": [
       "566"
      ]
     },
     "execution_count": 286,
     "metadata": {},
     "output_type": "execute_result"
    }
   ],
   "source": [
    "# 13. students.csv는 '학교','학년','총 전입학생','총 전출학생','전체 학생수' 변수를 포함한 데이터이다.\n",
    "# 순 전입학생수는 총전입학생 수에서 총전출학생 수의 차이를 의미한다.\n",
    "# 순전입학생이 가장 많은 학교의 전체학생수를 출력하시오.\n",
    "import pandas as pd\n",
    "df = pd.read_csv(r\"D:\\2025 단축키 빅데이터분석기사_파이썬\\작업형 제1유형\\data\\students.csv\", encoding='euc-kr')\n",
    "df['순전입학생'] = df['총전입학생'] - df['총전출학생']\n",
    "df2 = df.groupby('학교')['순전입학생'].sum().reset_index()\n",
    "df3 = df2.sort_values(by='순전입학생', ascending=False)\n",
    "most = df3.iloc[0,0]\n",
    "df4 = df[df['학교']==most]\n",
    "df4['전체학생수'].sum()"
   ]
  },
  {
   "cell_type": "code",
   "execution_count": 314,
   "id": "8c0c25f0-d271-4f18-86d2-5220d3bb5008",
   "metadata": {},
   "outputs": [
    {
     "data": {
      "text/plain": [
       "64"
      ]
     },
     "execution_count": 314,
     "metadata": {},
     "output_type": "execute_result"
    }
   ],
   "source": [
    "# 14. 출동소방서별로 주민으로부터 연락받은 신고일시와 출동한 출동일시를 기록한 데이터 파일이다. 출동소방서별 신고일시부터 출동일시까지의 연도별 월평균을 구하고\n",
    "# 가장 늦게 출발한 출동 소방서의 월평균 시간을 분단위로 제출하시오.(30초 단위로 반올림하여 제출)\n",
    "import pandas as pd\n",
    "from datetime import datetime\n",
    "df = pd.read_csv(r\"D:\\2025 단축키 빅데이터분석기사_파이썬\\작업형 제1유형\\data\\firestation.csv\")\n",
    "df['신고일시1'] = pd.to_datetime(df['신고일시'])\n",
    "df['출동일시1'] = pd.to_datetime(df['출동일시'])\n",
    "df['시간차'] = (df['출동일시1'] - df['신고일시1']).dt.total_seconds()\n",
    "df1 = df.groupby([df['출동소방서'], df['신고일시1'].dt.year, df['신고일시1'].dt.month]).agg(mean_time=('시간차', 'mean'))\n",
    "ans = df1.sort_values(by='mean_time', ascending=False).iloc[0]['mean_time']\n",
    "int(ans/60)"
   ]
  },
  {
   "cell_type": "code",
   "execution_count": 332,
   "id": "cbb8820a-532f-4ace-8d31-618292e2a70c",
   "metadata": {},
   "outputs": [
    {
     "data": {
      "text/html": [
       "<div>\n",
       "<style scoped>\n",
       "    .dataframe tbody tr th:only-of-type {\n",
       "        vertical-align: middle;\n",
       "    }\n",
       "\n",
       "    .dataframe tbody tr th {\n",
       "        vertical-align: top;\n",
       "    }\n",
       "\n",
       "    .dataframe thead th {\n",
       "        text-align: right;\n",
       "    }\n",
       "</style>\n",
       "<table border=\"1\" class=\"dataframe\">\n",
       "  <thead>\n",
       "    <tr style=\"text-align: right;\">\n",
       "      <th></th>\n",
       "      <th>school_name</th>\n",
       "      <th>student_1</th>\n",
       "      <th>student_2</th>\n",
       "      <th>student_3</th>\n",
       "      <th>student_4</th>\n",
       "      <th>student_5</th>\n",
       "      <th>student_6</th>\n",
       "      <th>teacher</th>\n",
       "      <th>total</th>\n",
       "    </tr>\n",
       "  </thead>\n",
       "  <tbody>\n",
       "    <tr>\n",
       "      <th>0</th>\n",
       "      <td>서울교육대학교부설초등학교</td>\n",
       "      <td>95</td>\n",
       "      <td>95</td>\n",
       "      <td>95</td>\n",
       "      <td>104</td>\n",
       "      <td>108</td>\n",
       "      <td>110</td>\n",
       "      <td>31</td>\n",
       "      <td>607</td>\n",
       "    </tr>\n",
       "    <tr>\n",
       "      <th>1</th>\n",
       "      <td>서울대학교사범대학부설초등학교</td>\n",
       "      <td>97</td>\n",
       "      <td>100</td>\n",
       "      <td>102</td>\n",
       "      <td>102</td>\n",
       "      <td>102</td>\n",
       "      <td>104</td>\n",
       "      <td>36</td>\n",
       "      <td>607</td>\n",
       "    </tr>\n",
       "    <tr>\n",
       "      <th>2</th>\n",
       "      <td>서울개일초등학교</td>\n",
       "      <td>183</td>\n",
       "      <td>163</td>\n",
       "      <td>176</td>\n",
       "      <td>186</td>\n",
       "      <td>177</td>\n",
       "      <td>193</td>\n",
       "      <td>42</td>\n",
       "      <td>1078</td>\n",
       "    </tr>\n",
       "    <tr>\n",
       "      <th>3</th>\n",
       "      <td>서울구룡초등학교</td>\n",
       "      <td>109</td>\n",
       "      <td>115</td>\n",
       "      <td>115</td>\n",
       "      <td>131</td>\n",
       "      <td>133</td>\n",
       "      <td>132</td>\n",
       "      <td>38</td>\n",
       "      <td>735</td>\n",
       "    </tr>\n",
       "    <tr>\n",
       "      <th>4</th>\n",
       "      <td>서울논현초등학교</td>\n",
       "      <td>34</td>\n",
       "      <td>47</td>\n",
       "      <td>34</td>\n",
       "      <td>46</td>\n",
       "      <td>46</td>\n",
       "      <td>46</td>\n",
       "      <td>18</td>\n",
       "      <td>253</td>\n",
       "    </tr>\n",
       "    <tr>\n",
       "      <th>...</th>\n",
       "      <td>...</td>\n",
       "      <td>...</td>\n",
       "      <td>...</td>\n",
       "      <td>...</td>\n",
       "      <td>...</td>\n",
       "      <td>...</td>\n",
       "      <td>...</td>\n",
       "      <td>...</td>\n",
       "      <td>...</td>\n",
       "    </tr>\n",
       "    <tr>\n",
       "      <th>6304</th>\n",
       "      <td>월랑초등학교</td>\n",
       "      <td>77</td>\n",
       "      <td>91</td>\n",
       "      <td>103</td>\n",
       "      <td>127</td>\n",
       "      <td>127</td>\n",
       "      <td>135</td>\n",
       "      <td>32</td>\n",
       "      <td>660</td>\n",
       "    </tr>\n",
       "    <tr>\n",
       "      <th>6305</th>\n",
       "      <td>이도초등학교</td>\n",
       "      <td>199</td>\n",
       "      <td>174</td>\n",
       "      <td>186</td>\n",
       "      <td>228</td>\n",
       "      <td>192</td>\n",
       "      <td>214</td>\n",
       "      <td>50</td>\n",
       "      <td>1193</td>\n",
       "    </tr>\n",
       "    <tr>\n",
       "      <th>6306</th>\n",
       "      <td>도련초등학교</td>\n",
       "      <td>199</td>\n",
       "      <td>221</td>\n",
       "      <td>198</td>\n",
       "      <td>211</td>\n",
       "      <td>195</td>\n",
       "      <td>179</td>\n",
       "      <td>54</td>\n",
       "      <td>1203</td>\n",
       "    </tr>\n",
       "    <tr>\n",
       "      <th>6307</th>\n",
       "      <td>삼화초등학교</td>\n",
       "      <td>111</td>\n",
       "      <td>104</td>\n",
       "      <td>124</td>\n",
       "      <td>136</td>\n",
       "      <td>141</td>\n",
       "      <td>128</td>\n",
       "      <td>34</td>\n",
       "      <td>744</td>\n",
       "    </tr>\n",
       "    <tr>\n",
       "      <th>6308</th>\n",
       "      <td>하귀일초등학교</td>\n",
       "      <td>100</td>\n",
       "      <td>99</td>\n",
       "      <td>103</td>\n",
       "      <td>119</td>\n",
       "      <td>94</td>\n",
       "      <td>97</td>\n",
       "      <td>30</td>\n",
       "      <td>612</td>\n",
       "    </tr>\n",
       "  </tbody>\n",
       "</table>\n",
       "<p>6309 rows × 9 columns</p>\n",
       "</div>"
      ],
      "text/plain": [
       "          school_name  student_1  student_2  student_3  student_4  student_5  \\\n",
       "0       서울교육대학교부설초등학교         95         95         95        104        108   \n",
       "1     서울대학교사범대학부설초등학교         97        100        102        102        102   \n",
       "2            서울개일초등학교        183        163        176        186        177   \n",
       "3            서울구룡초등학교        109        115        115        131        133   \n",
       "4            서울논현초등학교         34         47         34         46         46   \n",
       "...               ...        ...        ...        ...        ...        ...   \n",
       "6304           월랑초등학교         77         91        103        127        127   \n",
       "6305           이도초등학교        199        174        186        228        192   \n",
       "6306           도련초등학교        199        221        198        211        195   \n",
       "6307           삼화초등학교        111        104        124        136        141   \n",
       "6308          하귀일초등학교        100         99        103        119         94   \n",
       "\n",
       "      student_6  teacher  total  \n",
       "0           110       31    607  \n",
       "1           104       36    607  \n",
       "2           193       42   1078  \n",
       "3           132       38    735  \n",
       "4            46       18    253  \n",
       "...         ...      ...    ...  \n",
       "6304        135       32    660  \n",
       "6305        214       50   1193  \n",
       "6306        179       54   1203  \n",
       "6307        128       34    744  \n",
       "6308         97       30    612  \n",
       "\n",
       "[6309 rows x 9 columns]"
      ]
     },
     "execution_count": 332,
     "metadata": {},
     "output_type": "execute_result"
    }
   ],
   "source": [
    "# 15. 초등학교의 학년별 학생 수와 교사 수 저장한 데이터이다. 교사 1인당 학생 수가 가장 많은 학교를 선정하고, 선정된 학교의 교사 수를 정수로 출력하시오.\n",
    "# (학교명의 중복은 없고 단일 학교의 학생수, 교사수 데이터만 존재한다.)\n",
    "import pandas as pd\n",
    "df = pd.read_csv(r\"D:\\2025 단축키 빅데이터분석기사_파이썬\\작업형 제1유형\\data\\elementary.csv\")\n",
    "#df['total'] = df['student_1'] + df['student_2'] + df['student_3'] + df['student_4'] + df['student_5'] + df['student_6']\n",
    "#df['per'] = df['total'] / df['teacher']\n",
    "#df = df.sort_values(by='per', ascending=False)\n",
    "#int(df.iloc[0]['teacher'])\n",
    "df['total'] = df[['student_1','student_2','student_3','student_4','student_5','student_6']].sum(axis=1)\n",
    "df"
   ]
  },
  {
   "cell_type": "code",
   "execution_count": 376,
   "id": "ff1d0f0c-6c86-40fa-a3e4-eae6f7a9bc34",
   "metadata": {},
   "outputs": [
    {
     "data": {
      "text/plain": [
       "19329"
      ]
     },
     "execution_count": 376,
     "metadata": {},
     "output_type": "execute_result"
    }
   ],
   "source": [
    "# 16. 월별 범죄 데이터이다. 연도별 월평균 범죄건수를 구하고, 가장 범죄가 많이 발생한 연도의 월평균 범죄 건수를 정수로 출력하시오.\n",
    "import pandas as pd\n",
    "df = pd.read_csv(r\"D:\\2025 단축키 빅데이터분석기사_파이썬\\작업형 제1유형\\data\\crime.csv\")\n",
    "df['case'] = df[['강력범','절도범','폭력범','지능범','풍속범','기타형사범']].sum(axis=1)\n",
    "df['year'] = df['년월'].str.slice(0,4)\n",
    "df1 = df.groupby('year').agg(case_mean=('case','mean')).reset_index()\n",
    "df2 = df1.sort_values(by='case_mean', ascending=False)\n",
    "#int(df2.iloc[0,1])\n",
    "int(df2['case_mean'].values[0])"
   ]
  },
  {
   "cell_type": "code",
   "execution_count": null,
   "id": "eb0a0742-c7a9-4db4-96e6-148b67b6a226",
   "metadata": {},
   "outputs": [],
   "source": []
  }
 ],
 "metadata": {
  "kernelspec": {
   "display_name": "Python [conda env:base] *",
   "language": "python",
   "name": "conda-base-py"
  },
  "language_info": {
   "codemirror_mode": {
    "name": "ipython",
    "version": 3
   },
   "file_extension": ".py",
   "mimetype": "text/x-python",
   "name": "python",
   "nbconvert_exporter": "python",
   "pygments_lexer": "ipython3",
   "version": "3.11.5"
  }
 },
 "nbformat": 4,
 "nbformat_minor": 5
}
